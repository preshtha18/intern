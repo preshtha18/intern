{
 "cells": [
  {
   "cell_type": "code",
   "execution_count": 1,
   "id": "3b562f44-cdb5-4183-9079-f2f4d2365473",
   "metadata": {},
   "outputs": [
    {
     "name": "stdout",
     "output_type": "stream",
     "text": [
      "True\n"
     ]
    }
   ],
   "source": [
    "#isupper()\n",
    "txt=\"THIS IS NOW!\"\n",
    "x=txt.isupper()\n",
    "print(x)"
   ]
  },
  {
   "cell_type": "code",
   "execution_count": 2,
   "id": "14b15f23-206d-4c4d-9498-e708d306eab3",
   "metadata": {},
   "outputs": [
    {
     "name": "stdout",
     "output_type": "stream",
     "text": [
      "False\n",
      "False\n",
      "True\n"
     ]
    }
   ],
   "source": [
    "#isupper()\n",
    "a=\"Hello World!\"\n",
    "b=\"hello 123\"\n",
    "c=\"MY NAME IS PETER\"\n",
    "print(a.isupper())\n",
    "print(b.isupper())\n",
    "print(c.isupper())"
   ]
  },
  {
   "cell_type": "code",
   "execution_count": 3,
   "id": "63f77030-55ce-40c9-9bfa-4efd588f58da",
   "metadata": {},
   "outputs": [
    {
     "name": "stdout",
     "output_type": "stream",
     "text": [
      "John#Peter#Vicky\n"
     ]
    }
   ],
   "source": [
    "#join()\n",
    "myTuple=(\"John\",\"Peter\",\"Vicky\")\n",
    "x=\"#\".join(myTuple)\n",
    "print(x)\n"
   ]
  },
  {
   "cell_type": "code",
   "execution_count": 4,
   "id": "ef6ee7ef-e2ad-444b-8651-defdd4748dee",
   "metadata": {},
   "outputs": [
    {
     "name": "stdout",
     "output_type": "stream",
     "text": [
      "nameTESTcountry\n"
     ]
    }
   ],
   "source": [
    "#join()\n",
    "myDict={\"name\":\"John\",\"country\":\"Norway\"}\n",
    "mySeparator=\"TEST\"\n",
    "x=mySeparator.join(myDict)\n",
    "print(x)"
   ]
  },
  {
   "cell_type": "code",
   "execution_count": 6,
   "id": "a661495a-8776-4b6b-9372-369bc7b2d372",
   "metadata": {},
   "outputs": [
    {
     "name": "stdout",
     "output_type": "stream",
     "text": [
      "banana               is my favorit fruit.\n"
     ]
    }
   ],
   "source": [
    "#ljust()\n",
    "txt=\"banana\"\n",
    "x=txt.ljust(20)\n",
    "print(x,\"is my favorit fruit.\")"
   ]
  },
  {
   "cell_type": "code",
   "execution_count": null,
   "id": "202e8c2c-1655-4e0a-ad89-2d7d6e20f4c7",
   "metadata": {},
   "outputs": [],
   "source": []
  }
 ],
 "metadata": {
  "kernelspec": {
   "display_name": "Python 3 (ipykernel)",
   "language": "python",
   "name": "python3"
  },
  "language_info": {
   "codemirror_mode": {
    "name": "ipython",
    "version": 3
   },
   "file_extension": ".py",
   "mimetype": "text/x-python",
   "name": "python",
   "nbconvert_exporter": "python",
   "pygments_lexer": "ipython3",
   "version": "3.11.7"
  }
 },
 "nbformat": 4,
 "nbformat_minor": 5
}
