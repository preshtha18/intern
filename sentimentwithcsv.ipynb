{
 "cells": [
  {
   "cell_type": "code",
   "execution_count": 1,
   "id": "cdc6e11b-5a9c-4eeb-96bf-5f5ce0f949d0",
   "metadata": {},
   "outputs": [
    {
     "name": "stdout",
     "output_type": "stream",
     "text": [
      "Requirement already satisfied: pandas in c:\\users\\preshtha\\anaconda3\\lib\\site-packages (1.5.3)\n",
      "Requirement already satisfied: nltk in c:\\users\\preshtha\\anaconda3\\lib\\site-packages (3.9.1)\n",
      "Requirement already satisfied: seaborn in c:\\users\\preshtha\\anaconda3\\lib\\site-packages (0.12.2)\n",
      "Requirement already satisfied: matplotlib in c:\\users\\preshtha\\anaconda3\\lib\\site-packages (3.8.0)\n",
      "Requirement already satisfied: textblob in c:\\users\\preshtha\\anaconda3\\lib\\site-packages (0.19.0)\n",
      "Requirement already satisfied: python-dateutil>=2.8.1 in c:\\users\\preshtha\\anaconda3\\lib\\site-packages (from pandas) (2.8.2)\n",
      "Requirement already satisfied: pytz>=2020.1 in c:\\users\\preshtha\\anaconda3\\lib\\site-packages (from pandas) (2023.3.post1)\n",
      "Requirement already satisfied: numpy>=1.21.0 in c:\\users\\preshtha\\anaconda3\\lib\\site-packages (from pandas) (1.24.4)\n",
      "Requirement already satisfied: click in c:\\users\\preshtha\\anaconda3\\lib\\site-packages (from nltk) (8.1.7)\n",
      "Requirement already satisfied: joblib in c:\\users\\preshtha\\anaconda3\\lib\\site-packages (from nltk) (1.2.0)\n",
      "Requirement already satisfied: regex>=2021.8.3 in c:\\users\\preshtha\\anaconda3\\lib\\site-packages (from nltk) (2023.10.3)\n",
      "Requirement already satisfied: tqdm in c:\\users\\preshtha\\anaconda3\\lib\\site-packages (from nltk) (4.65.0)\n",
      "Requirement already satisfied: contourpy>=1.0.1 in c:\\users\\preshtha\\anaconda3\\lib\\site-packages (from matplotlib) (1.2.0)\n",
      "Requirement already satisfied: cycler>=0.10 in c:\\users\\preshtha\\anaconda3\\lib\\site-packages (from matplotlib) (0.11.0)\n",
      "Requirement already satisfied: fonttools>=4.22.0 in c:\\users\\preshtha\\anaconda3\\lib\\site-packages (from matplotlib) (4.25.0)\n",
      "Requirement already satisfied: kiwisolver>=1.0.1 in c:\\users\\preshtha\\anaconda3\\lib\\site-packages (from matplotlib) (1.4.4)\n",
      "Requirement already satisfied: packaging>=20.0 in c:\\users\\preshtha\\anaconda3\\lib\\site-packages (from matplotlib) (23.1)\n",
      "Requirement already satisfied: pillow>=6.2.0 in c:\\users\\preshtha\\anaconda3\\lib\\site-packages (from matplotlib) (10.2.0)\n",
      "Requirement already satisfied: pyparsing>=2.3.1 in c:\\users\\preshtha\\anaconda3\\lib\\site-packages (from matplotlib) (3.0.9)\n",
      "Requirement already satisfied: six>=1.5 in c:\\users\\preshtha\\anaconda3\\lib\\site-packages (from python-dateutil>=2.8.1->pandas) (1.16.0)\n",
      "Requirement already satisfied: colorama in c:\\users\\preshtha\\anaconda3\\lib\\site-packages (from click->nltk) (0.4.6)\n"
     ]
    }
   ],
   "source": [
    "!pip install pandas nltk seaborn matplotlib textblob"
   ]
  },
  {
   "cell_type": "code",
   "execution_count": 8,
   "id": "2a0682c8-d033-42ce-a444-354cad386451",
   "metadata": {},
   "outputs": [
    {
     "name": "stdout",
     "output_type": "stream",
     "text": [
      "   id                                            article\n",
      "0   1  The economy is booming with new job opportunit...\n",
      "1   2  Natural disasters have caused significant dama...\n",
      "2   3  The new technology has revolutionized the indu...\n",
      "3   4       Political tensions are rising in the region.\n",
      "4   5  Healthcare improvements have led to better pat...\n"
     ]
    }
   ],
   "source": [
    "#load dataset\n",
    "import pandas as pd\n",
    "df=pd.read_csv(r\"C:\\Users\\preshtha\\Documents\\dataset\\articles.csv\")\n",
    "print(df.head())"
   ]
  },
  {
   "cell_type": "code",
   "execution_count": 13,
   "id": "5b951937-ac34-4195-8a3e-d4bd8d1b025c",
   "metadata": {},
   "outputs": [
    {
     "name": "stdout",
     "output_type": "stream",
     "text": [
      "     id                                            article  compound  \\\n",
      "0     1  The economy is booming with new job opportunit...    0.3818   \n",
      "1     2  Natural disasters have caused significant dama...   -0.5423   \n",
      "2     3  The new technology has revolutionized the indu...    0.0000   \n",
      "3     4       Political tensions are rising in the region.   -0.4019   \n",
      "4     5  Healthcare improvements have led to better pat...    0.6369   \n",
      "..  ...                                                ...       ...   \n",
      "95   96  Investments in renewable energy are providing ...    0.5719   \n",
      "96   97  Innovations in agriculture are helping to meet...    0.4404   \n",
      "97   98  The digital divide is being addressed to impro...    0.4404   \n",
      "98   99  The increasing popularity of plant-based diets...    0.4767   \n",
      "99  100  Sustainability in business practices is becomi...    0.4019   \n",
      "\n",
      "   sentiment_class  \n",
      "0         positive  \n",
      "1         negative  \n",
      "2          neutral  \n",
      "3         negative  \n",
      "4         positive  \n",
      "..             ...  \n",
      "95        positive  \n",
      "96        positive  \n",
      "97        positive  \n",
      "98        positive  \n",
      "99        positive  \n",
      "\n",
      "[100 rows x 4 columns]\n"
     ]
    },
    {
     "name": "stderr",
     "output_type": "stream",
     "text": [
      "[nltk_data] Downloading package vader_lexicon to\n",
      "[nltk_data]     C:\\Users\\preshtha\\AppData\\Roaming\\nltk_data...\n",
      "[nltk_data]   Package vader_lexicon is already up-to-date!\n"
     ]
    }
   ],
   "source": [
    "import pandas as pd\n",
    "from nltk.sentiment import SentimentIntensityAnalyzer\n",
    "import nltk\n",
    "nltk.download('vader_lexicon')\n",
    "df=pd.read_csv(r\"C:\\Users\\preshtha\\Documents\\dataset\\articles.csv\")\n",
    "sid = SentimentIntensityAnalyzer()\n",
    "def analyze_sentiment(article):\n",
    "    scores = sid.polarity_scores(article)\n",
    "    return scores\n",
    "df[\"sentiment\"] = df[\"article\"].apply(analyze_sentiment)\n",
    "df[\"compound\"] = df[\"sentiment\"].apply(lambda x: x[\"compound\"])\n",
    "df['sentiment_class'] = df['compound'].apply(lambda x: 'positive' if x >= 0.05 else ('negative' if x <= -0.05 else 'neutral'))\n",
    "print(df[['id', 'article', 'compound', 'sentiment_class']])"
   ]
  },
  {
   "cell_type": "code",
   "execution_count": null,
   "id": "50c62f59-6c20-4ffc-be7c-917e6a62c5f2",
   "metadata": {},
   "outputs": [],
   "source": [
    "\n",
    "\n"
   ]
  },
  {
   "cell_type": "code",
   "execution_count": null,
   "id": "24bf1daf-0ea3-430c-839e-5ae8715233d9",
   "metadata": {},
   "outputs": [],
   "source": []
  }
 ],
 "metadata": {
  "kernelspec": {
   "display_name": "Python 3 (ipykernel)",
   "language": "python",
   "name": "python3"
  },
  "language_info": {
   "codemirror_mode": {
    "name": "ipython",
    "version": 3
   },
   "file_extension": ".py",
   "mimetype": "text/x-python",
   "name": "python",
   "nbconvert_exporter": "python",
   "pygments_lexer": "ipython3",
   "version": "3.11.7"
  }
 },
 "nbformat": 4,
 "nbformat_minor": 5
}
