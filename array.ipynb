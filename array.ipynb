{
 "cells": [
  {
   "cell_type": "code",
   "execution_count": 7,
   "id": "7a15afcb-2b5a-4eab-9350-ae27d4d26c47",
   "metadata": {},
   "outputs": [
    {
     "name": "stdout",
     "output_type": "stream",
     "text": [
      "['Ford', 'Volvo', 'BMW']\n"
     ]
    }
   ],
   "source": [
    "#creating a array\n",
    "cars=[\"Ford\",\"Volvo\",\"BMW\"]\n",
    "print(cars)"
   ]
  },
  {
   "cell_type": "code",
   "execution_count": 8,
   "id": "c22e12ca-3b2b-4124-b20d-326f345f02a9",
   "metadata": {},
   "outputs": [
    {
     "name": "stdout",
     "output_type": "stream",
     "text": [
      "Ford\n"
     ]
    }
   ],
   "source": [
    "#Access the element of array\n",
    "cars=[\"Ford\",\"Volvo\",\"BMW\"]\n",
    "x=cars[0]\n",
    "print(x)"
   ]
  },
  {
   "cell_type": "code",
   "execution_count": 10,
   "id": "5272a249-9b63-4fc4-922f-767e446ce551",
   "metadata": {},
   "outputs": [
    {
     "name": "stdout",
     "output_type": "stream",
     "text": [
      "['Toyota', 'Volvo', 'BMW']\n"
     ]
    }
   ],
   "source": [
    "#Modify the element of array\n",
    "cars=[\"Ford\",\"Volvo\",\"BMW\"]\n",
    "cars[0]=\"Toyota\"\n",
    "print(cars)"
   ]
  },
  {
   "cell_type": "code",
   "execution_count": 11,
   "id": "1b64ac9b-2934-469d-b618-74f9bb72ded1",
   "metadata": {},
   "outputs": [
    {
     "name": "stdout",
     "output_type": "stream",
     "text": [
      "3\n"
     ]
    }
   ],
   "source": [
    "#Length of array\n",
    "cars=[\"Ford\",\"Volvo\",\"BMW\"]\n",
    "x=len(cars)\n",
    "print(x)"
   ]
  },
  {
   "cell_type": "code",
   "execution_count": 12,
   "id": "78913f24-fe42-4d92-8c1a-0508533e7d77",
   "metadata": {},
   "outputs": [
    {
     "name": "stdout",
     "output_type": "stream",
     "text": [
      "Ford\n",
      "Volvo\n",
      "BMW\n"
     ]
    }
   ],
   "source": [
    "#print element in array\n",
    "cars=[\"Ford\",\"Volvo\",\"BMW\"]\n",
    "for x in cars:\n",
    "    print(x)"
   ]
  },
  {
   "cell_type": "code",
   "execution_count": 17,
   "id": "eec3e0fc-4e74-4776-8e3a-a81aa7eb9309",
   "metadata": {},
   "outputs": [
    {
     "name": "stdout",
     "output_type": "stream",
     "text": [
      "['Ford', 'Volvo', 'BMW', 'Honda']\n"
     ]
    }
   ],
   "source": [
    "#Adding array element\n",
    "cars=[\"Ford\",\"Volvo\",\"BMW\"]\n",
    "cars.append(\"Honda\")\n",
    "print(cars)"
   ]
  },
  {
   "cell_type": "code",
   "execution_count": 19,
   "id": "d63a84ef-cc81-4229-9377-c892cb90cf9a",
   "metadata": {},
   "outputs": [
    {
     "name": "stdout",
     "output_type": "stream",
     "text": [
      "['Ford', 'BMW']\n"
     ]
    }
   ],
   "source": [
    "#removing an array element\n",
    "cars=[\"Ford\",\"Volvo\",\"BMW\"]\n",
    "cars.pop(1)\n",
    "print(cars)"
   ]
  },
  {
   "cell_type": "code",
   "execution_count": 20,
   "id": "87fc7562-0216-4efc-8be1-56f38a2e2639",
   "metadata": {},
   "outputs": [],
   "source": [
    "#clear()\n",
    "fruits=[\"apple\",\"banana\",\"cherry\"]\n",
    "fruits.clear()"
   ]
  },
  {
   "cell_type": "code",
   "execution_count": 21,
   "id": "5a794fbb-5948-467b-b3be-5b8717485a80",
   "metadata": {},
   "outputs": [
    {
     "name": "stdout",
     "output_type": "stream",
     "text": [
      "['apple', 'banana', 'cherry']\n"
     ]
    }
   ],
   "source": [
    "#copy()\n",
    "fruits=[\"apple\",\"banana\",\"cherry\"]\n",
    "x=fruits.copy()\n",
    "print(x)"
   ]
  },
  {
   "cell_type": "code",
   "execution_count": 23,
   "id": "21fff3cc-1fa6-4295-9ef3-7713d48416ab",
   "metadata": {},
   "outputs": [
    {
     "name": "stdout",
     "output_type": "stream",
     "text": [
      "2\n"
     ]
    }
   ],
   "source": [
    "#count\n",
    "fruits=[\"apple\",\"banana\",\"cherry\",\"cherry\"]\n",
    "x=fruits.count(\"cherry\")\n",
    "print(x)"
   ]
  },
  {
   "cell_type": "code",
   "execution_count": 27,
   "id": "8c8b93c5-4903-4e0c-a1e9-10ab5978a4fa",
   "metadata": {},
   "outputs": [
    {
     "name": "stdout",
     "output_type": "stream",
     "text": [
      "['apple', 'banana', 'cherry', 'Ford', 'Volvo', 'BMW']\n"
     ]
    }
   ],
   "source": [
    "#extend()\n",
    "fruits=[\"apple\",\"banana\",\"cherry\"]\n",
    "cars=[\"Ford\",\"Volvo\",\"BMW\"]\n",
    "fruits.extend(cars)\n",
    "print(fruits)"
   ]
  },
  {
   "cell_type": "code",
   "execution_count": 28,
   "id": "e5bbf23c-be10-49ee-aca6-aca467c2cfe6",
   "metadata": {},
   "outputs": [
    {
     "name": "stdout",
     "output_type": "stream",
     "text": [
      "2\n"
     ]
    }
   ],
   "source": [
    "#index\n",
    "fruits=[\"apple\",\"banana\",\"cherry\"]\n",
    "x=fruits.index(\"cherry\")\n",
    "print(x)"
   ]
  },
  {
   "cell_type": "code",
   "execution_count": 29,
   "id": "79cf0e75-7c0b-4955-b925-b4a069c2c23c",
   "metadata": {},
   "outputs": [
    {
     "name": "stdout",
     "output_type": "stream",
     "text": [
      "['apple', 'orange', 'banana', 'cherry']\n"
     ]
    }
   ],
   "source": [
    "#insert\n",
    "fruits=[\"apple\",\"banana\",\"cherry\"]\n",
    "fruits.insert(1,\"orange\")\n",
    "print(fruits)"
   ]
  },
  {
   "cell_type": "code",
   "execution_count": 30,
   "id": "e10a09e0-776f-47f6-95ea-734d35310ae8",
   "metadata": {},
   "outputs": [
    {
     "name": "stdout",
     "output_type": "stream",
     "text": [
      "['apple', 'cherry']\n"
     ]
    }
   ],
   "source": [
    "#pop()\n",
    "fruits=[\"apple\",\"banana\",\"cherry\"]\n",
    "fruits.pop(1)\n",
    "print(fruits)"
   ]
  },
  {
   "cell_type": "code",
   "execution_count": 31,
   "id": "7b5306c5-767d-463e-b654-48a7ad1d87b8",
   "metadata": {},
   "outputs": [
    {
     "name": "stdout",
     "output_type": "stream",
     "text": [
      "['apple', 'banana']\n"
     ]
    }
   ],
   "source": [
    "#remove()\n",
    "fruits=[\"apple\",\"banana\",\"cherry\"]\n",
    "fruits.remove(\"cherry\")\n",
    "print(fruits)"
   ]
  },
  {
   "cell_type": "code",
   "execution_count": 33,
   "id": "18a331dc-0216-4d16-85cf-ae2250c3e5a3",
   "metadata": {},
   "outputs": [
    {
     "name": "stdout",
     "output_type": "stream",
     "text": [
      "['cherry', 'banana', 'apple']\n"
     ]
    }
   ],
   "source": [
    "#Reverse()\n",
    "fruits=[\"apple\",\"banana\",\"cherry\"]\n",
    "fruits.reverse()\n",
    "print(fruits)"
   ]
  },
  {
   "cell_type": "code",
   "execution_count": 35,
   "id": "ec90debd-31d1-4f4d-8379-31eecab76976",
   "metadata": {},
   "outputs": [
    {
     "name": "stdout",
     "output_type": "stream",
     "text": [
      "['apple', 'banana', 'cherry']\n"
     ]
    }
   ],
   "source": [
    "#Sort()\n",
    "fruits=[\"apple\",\"cherry\",\"banana\"]\n",
    "fruits.sort()\n",
    "print(fruits)"
   ]
  },
  {
   "cell_type": "code",
   "execution_count": 38,
   "id": "afe28a8f-5679-482f-9fb5-7004d7a18d00",
   "metadata": {},
   "outputs": [
    {
     "name": "stdout",
     "output_type": "stream",
     "text": [
      "['Volvo', 'Ford', 'BMW']\n"
     ]
    }
   ],
   "source": [
    "#sort the length desceding \n",
    "cars=[\"Ford\",\"Volvo\",\"BMW\"]\n",
    "cars.sort(reverse=True)\n",
    "print(cars)"
   ]
  },
  {
   "cell_type": "code",
   "execution_count": 39,
   "id": "88e34a7d-89d1-48a8-9c6f-cad2bbfa68c9",
   "metadata": {},
   "outputs": [
    {
     "name": "stdout",
     "output_type": "stream",
     "text": [
      "['VW', 'BMW', 'Ford', 'Toyota']\n"
     ]
    }
   ],
   "source": [
    "#Sort the list by the length of the values\n",
    "def myfunc(e):\n",
    "    return len(e)\n",
    "cars=[\"Ford\",\"Toyota\",\"BMW\",\"VW\"]\n",
    "cars.sort(key=myfunc)\n",
    "print(cars)"
   ]
  },
  {
   "cell_type": "code",
   "execution_count": 40,
   "id": "aea58a53-ea4a-4c9d-a28b-8c97cb82d6c6",
   "metadata": {},
   "outputs": [
    {
     "name": "stdout",
     "output_type": "stream",
     "text": [
      "[{'car': 'Mitsubishi', 'year': 2000}, {'car': 'Ford', 'year': 2005}, {'car': 'VW', 'year': 2011}, {'car': 'BMW', 'year': 2019}]\n"
     ]
    }
   ],
   "source": [
    "#Sort a list of dictionaries based on the \"year\" value of the dictionaries\n",
    "def myfunc(e):\n",
    "    return e[\"year\"]\n",
    "cars=[\n",
    "     {'car': 'Ford', 'year': 2005},\n",
    "     {'car': 'Mitsubishi', 'year': 2000},\n",
    "     {'car': 'BMW', 'year': 2019},\n",
    "     {'car': 'VW', 'year': 2011}\n",
    "]\n",
    "cars.sort(key=myfunc)\n",
    "print(cars)"
   ]
  },
  {
   "cell_type": "code",
   "execution_count": 42,
   "id": "6719db1a-4a85-415f-9dea-1796399d113a",
   "metadata": {},
   "outputs": [
    {
     "name": "stdout",
     "output_type": "stream",
     "text": [
      "['Mitsubishi', 'Ford', 'BMW', 'VW']\n"
     ]
    }
   ],
   "source": [
    "#Sort the list by the length of the values and reversed\n",
    "def myfunc(e):\n",
    "    return len(e)\n",
    "cars=[\"Ford\",\"Mitsubishi\",\"BMW\",\"VW\"]\n",
    "cars.sort(reverse=True,key=myfunc)\n",
    "print(cars)"
   ]
  },
  {
   "cell_type": "code",
   "execution_count": null,
   "id": "2c0de73a-9a43-45ab-a1ba-dfb89e68dee8",
   "metadata": {},
   "outputs": [],
   "source": []
  }
 ],
 "metadata": {
  "kernelspec": {
   "display_name": "Python 3 (ipykernel)",
   "language": "python",
   "name": "python3"
  },
  "language_info": {
   "codemirror_mode": {
    "name": "ipython",
    "version": 3
   },
   "file_extension": ".py",
   "mimetype": "text/x-python",
   "name": "python",
   "nbconvert_exporter": "python",
   "pygments_lexer": "ipython3",
   "version": "3.11.7"
  }
 },
 "nbformat": 4,
 "nbformat_minor": 5
}
