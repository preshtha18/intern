{
 "cells": [
  {
   "cell_type": "code",
   "execution_count": 8,
   "id": "3008d344-1a3c-4b86-8d47-cbead2ccf0a7",
   "metadata": {},
   "outputs": [
    {
     "name": "stdout",
     "output_type": "stream",
     "text": [
      "John Doe\n"
     ]
    }
   ],
   "source": [
    "#create to parent class \n",
    "class Person:\n",
    "  def __init__(self, fname, lname):\n",
    "    self.firstname = fname\n",
    "    self.lastname = lname\n",
    "\n",
    "  def printname(self):\n",
    "    print(self.firstname, self.lastname)\n",
    "\n",
    "x = Person(\"John\", \"Doe\")\n",
    "x.printname()\n"
   ]
  },
  {
   "cell_type": "code",
   "execution_count": 9,
   "id": "baa944c9-db1c-45c6-ac93-56426278fe0f",
   "metadata": {},
   "outputs": [
    {
     "name": "stdout",
     "output_type": "stream",
     "text": [
      "Mike Ozas\n"
     ]
    }
   ],
   "source": [
    "#Use the Student class to create an object, and then execute the printname method:\n",
    "class person:\n",
    "    def __init__(self,fname,lname):\n",
    "        self.firstname = fname\n",
    "        self.lastname = lname\n",
    "\n",
    "    def printname(self):\n",
    "        print(self.firstname, self.lastname)\n",
    "class student(person):\n",
    "    pass\n",
    "x=student(\"Mike\",\"Ozas\")\n",
    "x.printname()"
   ]
  },
  {
   "cell_type": "code",
   "execution_count": 17,
   "id": "2e81b84f-b1f2-4d77-8651-d3b213063d76",
   "metadata": {},
   "outputs": [
    {
     "name": "stdout",
     "output_type": "stream",
     "text": [
      "Mike Oslen\n"
     ]
    }
   ],
   "source": [
    "#add __init__ method\n",
    "class person:\n",
    "    def __init__(self,fname,lname):\n",
    "        self.firstname = fname\n",
    "        self.lastname = lname\n",
    "\n",
    "    def printname(self):\n",
    "        print(self.firstname,self.lastname)\n",
    "class student(person):\n",
    "    def __init__(self,fname,lname):\n",
    "        person.__init__(self,fname,lname)\n",
    "\n",
    "x=student(\"Mike\",\"Oslen\")\n",
    "x.printname()\n",
    "    "
   ]
  },
  {
   "cell_type": "code",
   "execution_count": 20,
   "id": "4f5b5deb-d175-49e1-88e3-1f6d182adb68",
   "metadata": {},
   "outputs": [
    {
     "name": "stdout",
     "output_type": "stream",
     "text": [
      "Mike Oslen\n"
     ]
    }
   ],
   "source": [
    "#use the super() function\n",
    "class person:\n",
    "    def __init__(self,fname,lname):\n",
    "        self.firstname=fname\n",
    "        self.lastname=lname\n",
    "\n",
    "    def printname(self):\n",
    "        print(self.firstname,self.lastname)\n",
    "class student(person):\n",
    "    def __init__(self,fname,lname):\n",
    "        super().__init__(fname,lname)\n",
    "\n",
    "x=student(\"Mike\",\"Oslen\")\n",
    "x.printname()"
   ]
  },
  {
   "cell_type": "code",
   "execution_count": 22,
   "id": "177062ae-c751-4f6b-bef6-42562a303c6a",
   "metadata": {},
   "outputs": [
    {
     "name": "stdout",
     "output_type": "stream",
     "text": [
      "2019\n"
     ]
    }
   ],
   "source": [
    "#Add properties\n",
    "class person:\n",
    "    def __init__(self,fname,lname):\n",
    "        self.firstname=fname\n",
    "        self.lastname=lname\n",
    "    def printname(self):\n",
    "        print(self.firstname,self.lastname)\n",
    "class student(person):\n",
    "    def __init__(self,fname,lname):\n",
    "        super().__init__(fname,lname)\n",
    "        self.graduationyear=2019\n",
    "\n",
    "x=student(\"Mike\",\"oslen\")\n",
    "print(x.graduationyear)"
   ]
  },
  {
   "cell_type": "code",
   "execution_count": 30,
   "id": "9edc5635-8fda-42fa-b336-aba576169b6e",
   "metadata": {},
   "outputs": [
    {
     "name": "stdout",
     "output_type": "stream",
     "text": [
      "Welcome Mike oslen  to the class 2024\n"
     ]
    }
   ],
   "source": [
    "#Add method\n",
    "class person:\n",
    "    def __init__(self,fname,lname):\n",
    "        self.firstname=fname\n",
    "        self.lastname=lname\n",
    "    def printname(self):\n",
    "        print(self.firstname,self.lastname)\n",
    "class student(person):\n",
    "    def __init__(self,fname,lname,year):\n",
    "        super().__init__(fname,lname)\n",
    "        self.graduationyear=year\n",
    "\n",
    "    def welcome(self):\n",
    "        print(\"Welcome\", self.firstname, self.lastname,\" to the class\",self.graduationyear)\n",
    "\n",
    "x=student(\"Mike\",\"oslen\",2024)\n",
    "x.welcome()"
   ]
  },
  {
   "cell_type": "code",
   "execution_count": null,
   "id": "98b3b9ec-13d5-479d-8f64-d7d070d5434c",
   "metadata": {},
   "outputs": [],
   "source": []
  },
  {
   "cell_type": "code",
   "execution_count": null,
   "id": "fd0f15df-aa91-4f0c-807d-0a431e8c5c61",
   "metadata": {},
   "outputs": [],
   "source": []
  }
 ],
 "metadata": {
  "kernelspec": {
   "display_name": "Python 3 (ipykernel)",
   "language": "python",
   "name": "python3"
  },
  "language_info": {
   "codemirror_mode": {
    "name": "ipython",
    "version": 3
   },
   "file_extension": ".py",
   "mimetype": "text/x-python",
   "name": "python",
   "nbconvert_exporter": "python",
   "pygments_lexer": "ipython3",
   "version": "3.11.7"
  }
 },
 "nbformat": 4,
 "nbformat_minor": 5
}
