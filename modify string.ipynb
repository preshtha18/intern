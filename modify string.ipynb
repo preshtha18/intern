{
 "cells": [
  {
   "cell_type": "code",
   "execution_count": 1,
   "id": "e9ecb4e0-4433-489d-bfc4-da205a8b25fa",
   "metadata": {},
   "outputs": [
    {
     "name": "stdout",
     "output_type": "stream",
     "text": [
      "HELLO, WORLD!\n"
     ]
    }
   ],
   "source": [
    "a=\"Hello, World!\"\n",
    "print(a.upper())"
   ]
  },
  {
   "cell_type": "code",
   "execution_count": 2,
   "id": "0684f8df-ef22-47f4-9817-9d8ca59b4447",
   "metadata": {},
   "outputs": [
    {
     "name": "stdout",
     "output_type": "stream",
     "text": [
      "hello,world!\n"
     ]
    }
   ],
   "source": [
    "a=\"Hello,World!\"\n",
    "print(a.lower())"
   ]
  },
  {
   "cell_type": "code",
   "execution_count": 4,
   "id": "f8023606-9790-45b1-8bec-4d8f45f16072",
   "metadata": {},
   "outputs": [
    {
     "name": "stdout",
     "output_type": "stream",
     "text": [
      "Hello,  World!\n"
     ]
    }
   ],
   "source": [
    "#remove whitespace\n",
    "a=\"Hello,  World!\"\n",
    "print(a.strip())"
   ]
  },
  {
   "cell_type": "code",
   "execution_count": 5,
   "id": "f0cf5781-b56c-4bd8-8e76-e48a0393583e",
   "metadata": {},
   "outputs": [
    {
     "name": "stdout",
     "output_type": "stream",
     "text": [
      "Jello, World!\n"
     ]
    }
   ],
   "source": [
    "#replace string\n",
    "a=\"Hello, World!\"\n",
    "print(a.replace(\"H\",\"J\"))\n"
   ]
  },
  {
   "cell_type": "code",
   "execution_count": 6,
   "id": "83d40aaf-ab35-426a-b73e-f9f747bcafa6",
   "metadata": {},
   "outputs": [
    {
     "name": "stdout",
     "output_type": "stream",
     "text": [
      "['Hello', 'World!']\n"
     ]
    }
   ],
   "source": [
    "#split string\n",
    "a=\"Hello,World!\"\n",
    "print(a.split(\",\"))"
   ]
  },
  {
   "cell_type": "code",
   "execution_count": 7,
   "id": "694fd8ab-f06f-4cdf-ade3-69d22a79c80c",
   "metadata": {},
   "outputs": [
    {
     "name": "stdout",
     "output_type": "stream",
     "text": [
      "HelloWorld\n"
     ]
    }
   ],
   "source": [
    "#concatenation string\n",
    "a=\"Hello\"\n",
    "b=\"World\"\n",
    "c=a+b\n",
    "print(c)"
   ]
  },
  {
   "cell_type": "code",
   "execution_count": 8,
   "id": "600443d2-96a4-4cda-8483-c7642624a232",
   "metadata": {},
   "outputs": [
    {
     "name": "stdout",
     "output_type": "stream",
     "text": [
      "Hello World\n"
     ]
    }
   ],
   "source": [
    "a=\"Hello\"\n",
    "b=\"World\"\n",
    "c=a+ \" \" +b\n",
    "print(c)"
   ]
  },
  {
   "cell_type": "code",
   "execution_count": null,
   "id": "53c75a70-fba5-46bd-9f56-1bb239b29ee7",
   "metadata": {},
   "outputs": [],
   "source": []
  }
 ],
 "metadata": {
  "kernelspec": {
   "display_name": "Python 3 (ipykernel)",
   "language": "python",
   "name": "python3"
  },
  "language_info": {
   "codemirror_mode": {
    "name": "ipython",
    "version": 3
   },
   "file_extension": ".py",
   "mimetype": "text/x-python",
   "name": "python",
   "nbconvert_exporter": "python",
   "pygments_lexer": "ipython3",
   "version": "3.11.7"
  }
 },
 "nbformat": 4,
 "nbformat_minor": 5
}
