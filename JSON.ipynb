{
 "cells": [
  {
   "cell_type": "code",
   "execution_count": 3,
   "id": "1e82fb67-ef21-4899-8ee0-dc1b6d03d44e",
   "metadata": {},
   "outputs": [
    {
     "name": "stdout",
     "output_type": "stream",
     "text": [
      "34\n"
     ]
    }
   ],
   "source": [
    "import json\n",
    "x='{\"name\":\"Mike\",\"age\":34,\"city\":\"new york\"}'\n",
    "y=json.loads(x)\n",
    "print(y[\"age\"])"
   ]
  },
  {
   "cell_type": "code",
   "execution_count": 5,
   "id": "922a3774-ca8f-4f28-83f2-8b1155eaf80f",
   "metadata": {},
   "outputs": [
    {
     "name": "stdout",
     "output_type": "stream",
     "text": [
      "{\"name\": \"Mike\", \"age\": 34, \"city\": \"new york\"}\n"
     ]
    }
   ],
   "source": [
    "import json\n",
    "x={\n",
    "    \"name\":\"Mike\",\n",
    "    \"age\":34,\n",
    "    \"city\":\"new york\"\n",
    "}\n",
    "y=json.dumps(x)\n",
    "print(y)"
   ]
  },
  {
   "cell_type": "code",
   "execution_count": 12,
   "id": "d9495017-7d20-49c6-b33b-a64f3ce25507",
   "metadata": {},
   "outputs": [
    {
     "name": "stdout",
     "output_type": "stream",
     "text": [
      "\"{\\\"name\\\":\\\"Mike\\\",\\\"age\\\":34,\\\"city\\\":\\\"new york\\\"}\"\n",
      "[\"apple\", \"banana\"]\n",
      "[\"apple\", \"banana\"]\n",
      "\"hello\"\n",
      "42\n",
      "32.14\n",
      "true\n",
      "false\n",
      "null\n"
     ]
    }
   ],
   "source": [
    "import json\n",
    "print(json.dumps('{\"name\":\"Mike\",\"age\":34,\"city\":\"new york\"}'))\n",
    "print(json.dumps([\"apple\",\"banana\"]))\n",
    "print(json.dumps((\"apple\",\"banana\")))\n",
    "print(json.dumps(\"hello\"))\n",
    "print(json.dumps(42))\n",
    "print(json.dumps(32.14))\n",
    "print(json.dumps(True))\n",
    "print(json.dumps(False))\n",
    "print(json.dumps(None))"
   ]
  },
  {
   "cell_type": "code",
   "execution_count": 13,
   "id": "b5d51990-8630-42bf-8685-49541a602321",
   "metadata": {},
   "outputs": [
    {
     "name": "stdout",
     "output_type": "stream",
     "text": [
      "{\"name\": \"John\", \"age\": 30, \"married\": true, \"divorced\": false, \"children\": [\"Ann\", \"Billy\"], \"pets\": null, \"cars\": [{\"model\": \"BMW 230\", \"mpg\": 27.5}, {\"model\": \"Ford Edge\", \"mpg\": 24.1}]}\n"
     ]
    }
   ],
   "source": [
    "import json\n",
    "x={\n",
    "    \"name\": \"John\",\n",
    "    \"age\": 30,\n",
    "    \"married\": True,\n",
    "    \"divorced\": False,\n",
    "    \"children\": (\"Ann\",\"Billy\"),\n",
    "    \"pets\": None,\n",
    "    \"cars\": [\n",
    "    {\"model\": \"BMW 230\", \"mpg\": 27.5},\n",
    "    {\"model\": \"Ford Edge\", \"mpg\": 24.1}\n",
    "  ]\n",
    "}\n",
    "print(json.dumps(x))"
   ]
  },
  {
   "cell_type": "code",
   "execution_count": 14,
   "id": "d4b7db72-fdd8-4bc9-aefd-b68f1c1b1639",
   "metadata": {},
   "outputs": [
    {
     "data": {
      "text/plain": [
       "'{\\n    \"name\": \"John\",\\n    \"age\": 30,\\n    \"married\": true,\\n    \"divorced\": false,\\n    \"children\": [\\n        \"Ann\",\\n        \"Billy\"\\n    ],\\n    \"pets\": null,\\n    \"cars\": [\\n        {\\n            \"model\": \"BMW 230\",\\n            \"mpg\": 27.5\\n        },\\n        {\\n            \"model\": \"Ford Edge\",\\n            \"mpg\": 24.1\\n        }\\n    ]\\n}'"
      ]
     },
     "execution_count": 14,
     "metadata": {},
     "output_type": "execute_result"
    }
   ],
   "source": [
    "#Formate the result\n",
    "import json\n",
    "x={\n",
    "    \"name\": \"John\",\n",
    "  \"age\": 30,\n",
    "  \"married\": True,\n",
    "  \"divorced\": False,\n",
    "  \"children\": (\"Ann\",\"Billy\"),\n",
    "  \"pets\": None,\n",
    "  \"cars\": [\n",
    "    {\"model\": \"BMW 230\", \"mpg\": 27.5},\n",
    "    {\"model\": \"Ford Edge\", \"mpg\": 24.1}\n",
    "  ]\n",
    "}\n",
    "json.dumps(x,indent=4)"
   ]
  },
  {
   "cell_type": "code",
   "execution_count": 15,
   "id": "943686fe-6c89-4afa-8e9f-f8938cbfd0b3",
   "metadata": {},
   "outputs": [
    {
     "data": {
      "text/plain": [
       "'{\\n    \"name\"=\"John\".\\n    \"age\"=30.\\n    \"married\"=true.\\n    \"divorced\"=false.\\n    \"children\"=[\\n        \"Ann\".\\n        \"Billy\"\\n    ].\\n    \"pets\"=null.\\n    \"cars\"=[\\n        {\\n            \"model\"=\"BMW 230\".\\n            \"mpg\"=27.5\\n        }.\\n        {\\n            \"model\"=\"Ford Edge\".\\n            \"mpg\"=24.1\\n        }\\n    ]\\n}'"
      ]
     },
     "execution_count": 15,
     "metadata": {},
     "output_type": "execute_result"
    }
   ],
   "source": [
    "import json\n",
    "x={\n",
    "    \"name\": \"John\",\n",
    "  \"age\": 30,\n",
    "  \"married\": True,\n",
    "  \"divorced\": False,\n",
    "  \"children\": (\"Ann\",\"Billy\"),\n",
    "  \"pets\": None,\n",
    "  \"cars\": [\n",
    "    {\"model\": \"BMW 230\", \"mpg\": 27.5},\n",
    "    {\"model\": \"Ford Edge\", \"mpg\": 24.1}\n",
    "  ]\n",
    "}\n",
    "json.dumps(x,indent=4,separators=(\".\",\"=\"))"
   ]
  },
  {
   "cell_type": "code",
   "execution_count": 17,
   "id": "afcb9d4a-5bb6-4c31-be67-eae43f327c97",
   "metadata": {},
   "outputs": [
    {
     "data": {
      "text/plain": [
       "'{\\n    \"age\": 30,\\n    \"cars\": [\\n        {\\n            \"model\": \"BMW 230\",\\n            \"mpg\": 27.5\\n        },\\n        {\\n            \"model\": \"Ford Edge\",\\n            \"mpg\": 24.1\\n        }\\n    ],\\n    \"children\": [\\n        \"Ann\",\\n        \"Billy\"\\n    ],\\n    \"divorced\": false,\\n    \"married\": true,\\n    \"name\": \"John\",\\n    \"pets\": null\\n}'"
      ]
     },
     "execution_count": 17,
     "metadata": {},
     "output_type": "execute_result"
    }
   ],
   "source": [
    "#Order the result\n",
    "import json\n",
    "x={\n",
    "    \"name\": \"John\",\n",
    "  \"age\": 30,\n",
    "  \"married\": True,\n",
    "  \"divorced\": False,\n",
    "  \"children\": (\"Ann\",\"Billy\"),\n",
    "  \"pets\": None,\n",
    "  \"cars\": [\n",
    "    {\"model\": \"BMW 230\", \"mpg\": 27.5},\n",
    "    {\"model\": \"Ford Edge\", \"mpg\": 24.1}\n",
    "  ]\n",
    "}\n",
    "json.dumps(x,indent=4,sort_keys=True)"
   ]
  },
  {
   "cell_type": "code",
   "execution_count": null,
   "id": "7bc98766-8035-4a57-9d60-85f252b87769",
   "metadata": {},
   "outputs": [],
   "source": []
  }
 ],
 "metadata": {
  "kernelspec": {
   "display_name": "Python 3 (ipykernel)",
   "language": "python",
   "name": "python3"
  },
  "language_info": {
   "codemirror_mode": {
    "name": "ipython",
    "version": 3
   },
   "file_extension": ".py",
   "mimetype": "text/x-python",
   "name": "python",
   "nbconvert_exporter": "python",
   "pygments_lexer": "ipython3",
   "version": "3.11.7"
  }
 },
 "nbformat": 4,
 "nbformat_minor": 5
}
