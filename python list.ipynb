{
 "cells": [
  {
   "cell_type": "code",
   "execution_count": 1,
   "id": "85e5ceba-4b0c-4416-b88a-d2a3c282fa77",
   "metadata": {},
   "outputs": [
    {
     "name": "stdout",
     "output_type": "stream",
     "text": [
      "['apple', 'bananas', 'cherry']\n"
     ]
    }
   ],
   "source": [
    "# create list\n",
    "thislist=[\"apple\",\"bananas\",\"cherry\"]\n",
    "print(thislist)"
   ]
  },
  {
   "cell_type": "code",
   "execution_count": 2,
   "id": "8bc9a632-a358-4e57-8ce6-2caa1e2e0fd4",
   "metadata": {},
   "outputs": [
    {
     "name": "stdout",
     "output_type": "stream",
     "text": [
      "3\n"
     ]
    }
   ],
   "source": [
    "# len thislist\n",
    "thislist=[\"apple\",\"bananas\",\"cherry\"]\n",
    "print(len(thislist))"
   ]
  },
  {
   "cell_type": "code",
   "execution_count": 4,
   "id": "fcf822b1-1506-4a9a-860b-b5b1394c2db4",
   "metadata": {},
   "outputs": [
    {
     "name": "stdout",
     "output_type": "stream",
     "text": [
      "<class 'list'>\n"
     ]
    }
   ],
   "source": [
    "mylist=[\"apple\",\"bananas\",\"cherry\"]\n",
    "print(type(mylist))"
   ]
  },
  {
   "cell_type": "code",
   "execution_count": 5,
   "id": "5e063e13-f9ff-446b-b683-11134b54f0cd",
   "metadata": {},
   "outputs": [
    {
     "name": "stdout",
     "output_type": "stream",
     "text": [
      "['apple', 'bananas', 'cherry']\n"
     ]
    }
   ],
   "source": [
    "thislist=list((\"apple\",\"bananas\",\"cherry\"))\n",
    "print(thislist)"
   ]
  },
  {
   "cell_type": "code",
   "execution_count": 6,
   "id": "7addcb79-a249-4f1a-b8ac-8f827ce8ed19",
   "metadata": {},
   "outputs": [
    {
     "name": "stdout",
     "output_type": "stream",
     "text": [
      "bananas\n"
     ]
    }
   ],
   "source": [
    "thislist=list((\"apple\",\"bananas\",\"cherry\"))\n",
    "print(thislist[1])"
   ]
  },
  {
   "cell_type": "code",
   "execution_count": 7,
   "id": "abc110f4-5e56-45ad-86db-1d32fe8856d1",
   "metadata": {},
   "outputs": [
    {
     "name": "stdout",
     "output_type": "stream",
     "text": [
      "cherry\n"
     ]
    }
   ],
   "source": [
    "#Access list\n",
    "thislist=((\"apple\",\"bananas\",\"cherry\"))\n",
    "print(thislist[-1])"
   ]
  },
  {
   "cell_type": "code",
   "execution_count": 8,
   "id": "f862c89e-0308-47ab-8054-81db46a05252",
   "metadata": {},
   "outputs": [
    {
     "name": "stdout",
     "output_type": "stream",
     "text": [
      "('cherry',)\n"
     ]
    }
   ],
   "source": [
    "#Range of index\n",
    "thislist==[\"apple\",\"bananas\",\"cherry\",\"orange\",\"kiwi\",\"melon\",\"mengo\"]\n",
    "print(thislist[2:5])"
   ]
  },
  {
   "cell_type": "code",
   "execution_count": 11,
   "id": "0038bd29-dc2f-490a-8965-7f36f5e3a5bd",
   "metadata": {},
   "outputs": [
    {
     "name": "stdout",
     "output_type": "stream",
     "text": [
      "('apple', 'bananas')\n"
     ]
    }
   ],
   "source": [
    "thislist==[\"apple\",\"bananas\",\"cherry\",\"orange\",\"kiwi\",\"melon\",\"mengo\"]\n",
    "print(thislist[:2])"
   ]
  },
  {
   "cell_type": "code",
   "execution_count": 13,
   "id": "f5171cad-93de-4da7-8e53-b6caef58b63a",
   "metadata": {},
   "outputs": [
    {
     "name": "stdout",
     "output_type": "stream",
     "text": [
      "('apple', 'bananas', 'cherry')\n"
     ]
    }
   ],
   "source": [
    "thislist==[\"apple\",\"bananas\",\"cherry\",\"orange\",\"kiwi\",\"melon\",\"mengo\"]\n",
    "print(thislist[:4])"
   ]
  },
  {
   "cell_type": "code",
   "execution_count": 14,
   "id": "19b22920-07f2-46f1-8973-528b119a0816",
   "metadata": {},
   "outputs": [
    {
     "name": "stdout",
     "output_type": "stream",
     "text": [
      "('apple', 'bananas')\n"
     ]
    }
   ],
   "source": [
    "thislist==[\"apple\",\"bananas\",\"cherry\",\"orange\",\"kiwi\",\"melon\",\"mengo\"]\n",
    "print(thislist[-4:-1])"
   ]
  },
  {
   "cell_type": "code",
   "execution_count": 16,
   "id": "eb424b0f-6b09-4962-a883-b4fd1b14b9f9",
   "metadata": {},
   "outputs": [
    {
     "name": "stdout",
     "output_type": "stream",
     "text": [
      "YES 'apple' is in the fruits list\n"
     ]
    }
   ],
   "source": [
    "#check if item is exist\n",
    "thislist=[\"apple\",\"bananas\",\"cherry\"]\n",
    "if \"apple\" in thislist:\n",
    "    print(\"YES 'apple' is in the fruits list\")"
   ]
  },
  {
   "cell_type": "code",
   "execution_count": 17,
   "id": "ef4d7382-b362-46bd-b171-7088fea493ec",
   "metadata": {},
   "outputs": [
    {
     "name": "stdout",
     "output_type": "stream",
     "text": [
      "['apple', 'blackcurrent', 'cherry']\n"
     ]
    }
   ],
   "source": [
    "#Change list item\n",
    "thislist=[\"apple\",\"bananas\",\"cherry\"]\n",
    "thislist[1]=\"blackcurrent\"\n",
    "print(thislist)"
   ]
  },
  {
   "cell_type": "code",
   "execution_count": 19,
   "id": "cb578709-53fb-4969-a7fe-5a65457bc2ff",
   "metadata": {},
   "outputs": [
    {
     "name": "stdout",
     "output_type": "stream",
     "text": [
      "['apple', 'blackcurrent', 'watermelon', 'orange', 'kiwi', 'melon', 'mengo']\n"
     ]
    }
   ],
   "source": [
    "thislist=[\"apple\",\"bananas\",\"cherry\",\"orange\",\"kiwi\",\"melon\",\"mengo\"]\n",
    "thislist[1:3]=\"blackcurrent\",\"watermelon\"\n",
    "print(thislist)"
   ]
  },
  {
   "cell_type": "code",
   "execution_count": 20,
   "id": "d8f38f1a-9559-4051-952f-ce66e4c9bdd1",
   "metadata": {},
   "outputs": [
    {
     "name": "stdout",
     "output_type": "stream",
     "text": [
      "['apple', 'w', 'a', 't', 'e', 'r', 'm', 'e', 'l', 'o', 'n']\n"
     ]
    }
   ],
   "source": [
    "thislist=[\"apple\",\"bananas\",\"cherry\"]\n",
    "thislist[1:3]=\"watermelon\"\n",
    "print(thislist)"
   ]
  },
  {
   "cell_type": "code",
   "execution_count": 22,
   "id": "796f5539-f19c-465b-a76e-01dd2321681a",
   "metadata": {},
   "outputs": [
    {
     "name": "stdout",
     "output_type": "stream",
     "text": [
      "['apple', 'bananas', 'watermelon', 'cherry']\n"
     ]
    }
   ],
   "source": [
    "#insert item\n",
    "thislist=[\"apple\",\"bananas\",\"cherry\"]\n",
    "thislist.insert(2,\"watermelon\")\n",
    "print(thislist)"
   ]
  },
  {
   "cell_type": "code",
   "execution_count": 23,
   "id": "e1c66aa4-9e3d-49ea-8f59-9d3a44fa23c8",
   "metadata": {},
   "outputs": [
    {
     "name": "stdout",
     "output_type": "stream",
     "text": [
      "['apple', 'bananas', 'cherry', 'orange']\n"
     ]
    }
   ],
   "source": [
    "#python Add list item\n",
    "#append item\n",
    "thislist=[\"apple\",\"bananas\",\"cherry\"]\n",
    "thislist.append(\"orange\")\n",
    "print(thislist)"
   ]
  },
  {
   "cell_type": "code",
   "execution_count": 24,
   "id": "af46161b-c90a-4da5-b77b-af6c0e432517",
   "metadata": {},
   "outputs": [
    {
     "name": "stdout",
     "output_type": "stream",
     "text": [
      "['apple', 'bananas', 'cherry', 'mengo', 'melon', 'orange']\n"
     ]
    }
   ],
   "source": [
    "#Extend list\n",
    "thislist=[\"apple\",\"bananas\",\"cherry\"]\n",
    "tropical=[\"mengo\",\"melon\",\"orange\"]\n",
    "thislist.extend(tropical)\n",
    "print(thislist)"
   ]
  },
  {
   "cell_type": "code",
   "execution_count": 25,
   "id": "b1dacfa5-a4d8-4d04-8762-6592bb7d6728",
   "metadata": {},
   "outputs": [
    {
     "name": "stdout",
     "output_type": "stream",
     "text": [
      "['apple', 'bananas', 'cherry', 'kiwi', 'orange']\n"
     ]
    }
   ],
   "source": [
    "#add any iterable\n",
    "thislist=[\"apple\",\"bananas\",\"cherry\"]\n",
    "thistuple=(\"kiwi\",\"orange\")\n",
    "thislist.extend(thistuple)\n",
    "print(thislist)"
   ]
  },
  {
   "cell_type": "code",
   "execution_count": 26,
   "id": "90b42ee9-238d-492e-8242-092ac72f5b30",
   "metadata": {},
   "outputs": [
    {
     "name": "stdout",
     "output_type": "stream",
     "text": [
      "['apple', 'cherry']\n"
     ]
    }
   ],
   "source": [
    "#Remove list item\n",
    "thislist=[\"apple\",\"bananas\",\"cherry\"]\n",
    "thislist.remove(\"bananas\")\n",
    "print(thislist)"
   ]
  },
  {
   "cell_type": "code",
   "execution_count": 27,
   "id": "6e04710a-397a-4365-8d5c-5ac2f0854d77",
   "metadata": {},
   "outputs": [
    {
     "name": "stdout",
     "output_type": "stream",
     "text": [
      "['apple', 'cherry']\n"
     ]
    }
   ],
   "source": [
    "#Remove specific index\n",
    "thislist=[\"apple\",\"bananas\",\"cherry\"]\n",
    "thislist.pop(1)\n",
    "print(thislist)"
   ]
  },
  {
   "cell_type": "code",
   "execution_count": 28,
   "id": "bc7747c6-cfb5-48f4-9269-fe8ae44434f1",
   "metadata": {},
   "outputs": [
    {
     "name": "stdout",
     "output_type": "stream",
     "text": [
      "['apple', 'bananas']\n"
     ]
    }
   ],
   "source": [
    "#Remove the last item\n",
    "thislist=[\"apple\",\"bananas\",\"cherry\"]\n",
    "thislist.pop()\n",
    "print(thislist)"
   ]
  },
  {
   "cell_type": "code",
   "execution_count": 29,
   "id": "c8485c55-95e2-43c5-90e8-70157cf556ca",
   "metadata": {},
   "outputs": [
    {
     "name": "stdout",
     "output_type": "stream",
     "text": [
      "['bananas', 'cherry']\n"
     ]
    }
   ],
   "source": [
    "#Remove the first item\n",
    "thislist=[\"apple\",\"bananas\",\"cherry\"]\n",
    "thislist.pop(0)\n",
    "print(thislist)"
   ]
  },
  {
   "cell_type": "code",
   "execution_count": 30,
   "id": "f3bb2a9e-ad0a-4616-a5e9-e4d55df6504b",
   "metadata": {},
   "outputs": [],
   "source": [
    "#Delete the entire list\n",
    "thislist=[\"apple\",\"bananas\",\"cherry\"]\n",
    "del thislist"
   ]
  },
  {
   "cell_type": "code",
   "execution_count": 31,
   "id": "21c10227-d82c-48ba-9275-033f587f7195",
   "metadata": {},
   "outputs": [
    {
     "name": "stdout",
     "output_type": "stream",
     "text": [
      "[]\n"
     ]
    }
   ],
   "source": [
    "# clear the list\n",
    "thislist=[\"apple\",\"bananas\",\"cherry\"]\n",
    "thislist.clear()\n",
    "print(thislist)"
   ]
  },
  {
   "cell_type": "code",
   "execution_count": 32,
   "id": "3d8a1035-f94f-47dc-8c1c-c6e342e70c56",
   "metadata": {},
   "outputs": [
    {
     "name": "stdout",
     "output_type": "stream",
     "text": [
      "apple\n",
      "bananas\n",
      "cherry\n"
     ]
    }
   ],
   "source": [
    "#Loop list\n",
    "thislist=[\"apple\",\"bananas\",\"cherry\"]\n",
    "for x in thislist:\n",
    "    print(x)"
   ]
  },
  {
   "cell_type": "code",
   "execution_count": 35,
   "id": "fe3acf54-09a6-4bb0-bbe8-2c539744246d",
   "metadata": {},
   "outputs": [
    {
     "name": "stdout",
     "output_type": "stream",
     "text": [
      "apple\n",
      "bananas\n",
      "cherry\n"
     ]
    }
   ],
   "source": [
    "#Loop through the index number\n",
    "thislist=[\"apple\",\"bananas\",\"cherry\"]\n",
    "for i in range(len(thislist)):\n",
    "    print(thislist[i])\n"
   ]
  },
  {
   "cell_type": "code",
   "execution_count": 36,
   "id": "e4b53215-bd4c-4ace-81f7-d47593ee54e5",
   "metadata": {},
   "outputs": [
    {
     "name": "stdout",
     "output_type": "stream",
     "text": [
      "apple\n",
      "bananas\n",
      "cherry\n"
     ]
    }
   ],
   "source": [
    "#using a while loop\n",
    "thislist=[\"apple\",\"bananas\",\"cherry\"]\n",
    "i=0\n",
    "while i<len(thislist):\n",
    "    print(thislist[i])\n",
    "    i=i+1"
   ]
  },
  {
   "cell_type": "code",
   "execution_count": 37,
   "id": "cc470e92-bab1-4efc-928d-1b1eb677c75d",
   "metadata": {},
   "outputs": [
    {
     "name": "stdout",
     "output_type": "stream",
     "text": [
      "apple\n",
      "bananas\n",
      "cherry\n"
     ]
    },
    {
     "data": {
      "text/plain": [
       "[None, None, None]"
      ]
     },
     "execution_count": 37,
     "metadata": {},
     "output_type": "execute_result"
    }
   ],
   "source": [
    "#Looping Using List Comprehension\n",
    "thislist=[\"apple\",\"bananas\",\"cherry\"]\n",
    "[print(x) for x in thislist]"
   ]
  },
  {
   "cell_type": "code",
   "execution_count": 38,
   "id": "74f8618e-5b3b-4227-a4b7-0ebee003fa66",
   "metadata": {},
   "outputs": [
    {
     "name": "stdout",
     "output_type": "stream",
     "text": [
      "['apple', 'bananas', 'mango']\n"
     ]
    }
   ],
   "source": [
    "#List Comprehension\n",
    "fruits=[\"apple\",\"bananas\",\"cherry\",\"kiwi\",\"mango\"]\n",
    "newlist=[]\n",
    "for x in fruits:\n",
    "    if 'a' in x:\n",
    "        newlist.append(x)\n",
    "print(newlist)"
   ]
  },
  {
   "cell_type": "code",
   "execution_count": 40,
   "id": "2c597d20-45a9-484b-84d6-96a1fbdf759a",
   "metadata": {},
   "outputs": [
    {
     "name": "stdout",
     "output_type": "stream",
     "text": [
      "['apple', 'bananas', 'mango']\n"
     ]
    }
   ],
   "source": [
    "fruits=[\"apple\",\"bananas\",\"cherry\",\"kiwi\",\"mango\"]\n",
    "newlist=[x for x in fruits if 'a' in x]\n",
    "print(newlist)"
   ]
  },
  {
   "cell_type": "code",
   "execution_count": 41,
   "id": "040e762b-fac2-44ee-98ee-01b7520ca8d4",
   "metadata": {},
   "outputs": [
    {
     "name": "stdout",
     "output_type": "stream",
     "text": [
      "['bananas', 'cherry', 'kiwi', 'mango']\n"
     ]
    }
   ],
   "source": [
    "#condition\n",
    "fruits=[\"apple\",\"bananas\",\"cherry\",\"kiwi\",\"mango\"]\n",
    "newlist=[x for x in fruits if x != \"apple\"]\n",
    "print(newlist)"
   ]
  },
  {
   "cell_type": "code",
   "execution_count": 42,
   "id": "183cc582-3cd9-4a07-bcaf-b524790ba5ca",
   "metadata": {},
   "outputs": [
    {
     "name": "stdout",
     "output_type": "stream",
     "text": [
      "['apple', 'bananas', 'cherry', 'kiwi', 'mango']\n"
     ]
    }
   ],
   "source": [
    "fruits=[\"apple\",\"bananas\",\"cherry\",\"kiwi\",\"mango\"]\n",
    "newlist=[x for x in fruits]\n",
    "print(newlist)"
   ]
  },
  {
   "cell_type": "code",
   "execution_count": 43,
   "id": "cb6edfb7-8870-4b0a-8112-eaf2b8afee99",
   "metadata": {},
   "outputs": [
    {
     "name": "stdout",
     "output_type": "stream",
     "text": [
      "[0, 1, 2, 3, 4, 5, 6, 7, 8, 9]\n"
     ]
    }
   ],
   "source": [
    "#Iterable\n",
    "fruits=[\"apple\",\"bananas\",\"cherry\",\"kiwi\",\"mango\"]\n",
    "newlist=[x for x in range(10)]\n",
    "print(newlist)"
   ]
  },
  {
   "cell_type": "code",
   "execution_count": 45,
   "id": "7fd68257-2417-42e7-a0d8-3edf8951c059",
   "metadata": {},
   "outputs": [
    {
     "name": "stdout",
     "output_type": "stream",
     "text": [
      "['apple', 'bananas', 'mango']\n"
     ]
    }
   ],
   "source": [
    "#List Comprehension\n",
    "fruits=[\"apple\",\"bananas\",\"cherry\",\"kiwi\",\"mango\"]\n",
    "newlist=[]\n",
    "for x in fruits:\n",
    "    if \"a\" in x:\n",
    "        newlist.append(x)\n",
    "print(newlist)\n",
    "    "
   ]
  },
  {
   "cell_type": "code",
   "execution_count": 47,
   "id": "1018ff84-f279-40ca-9071-03ff56499443",
   "metadata": {},
   "outputs": [
    {
     "name": "stdout",
     "output_type": "stream",
     "text": [
      "['apple', 'bananas', 'mango']\n"
     ]
    }
   ],
   "source": [
    "fruits=[\"apple\",\"bananas\",\"cherry\",\"kiwi\",\"mango\"]\n",
    "newlist=[x for x in fruits if \"a\" in x]\n",
    "print(newlist)"
   ]
  },
  {
   "cell_type": "code",
   "execution_count": 48,
   "id": "d065e8e5-69c5-4812-b835-a7a50a75e424",
   "metadata": {},
   "outputs": [
    {
     "name": "stdout",
     "output_type": "stream",
     "text": [
      "['bananas', 'cherry', 'kiwi', 'mango']\n"
     ]
    }
   ],
   "source": [
    "fruits=[\"apple\",\"bananas\",\"cherry\",\"kiwi\",\"mango\"]\n",
    "newlist=[x for x in fruits if x!=\"apple\"]\n",
    "print(newlist)"
   ]
  },
  {
   "cell_type": "code",
   "execution_count": 49,
   "id": "d50894d8-7eb7-499f-9a4d-43deb287ac62",
   "metadata": {},
   "outputs": [
    {
     "name": "stdout",
     "output_type": "stream",
     "text": [
      "['apple', 'bananas', 'cherry', 'kiwi', 'mango']\n"
     ]
    }
   ],
   "source": [
    "fruits=[\"apple\",\"bananas\",\"cherry\",\"kiwi\",\"mango\"]\n",
    "newlist=[x for x in fruits]\n",
    "print(newlist)"
   ]
  },
  {
   "cell_type": "code",
   "execution_count": 50,
   "id": "d0319f3d-6cd6-44eb-8258-1fd7ba8ffb6f",
   "metadata": {},
   "outputs": [
    {
     "name": "stdout",
     "output_type": "stream",
     "text": [
      "[0, 1, 2, 3, 4, 5, 6, 7, 8, 9]\n"
     ]
    }
   ],
   "source": [
    "fruits=[\"apple\",\"bananas\",\"cherry\",\"kiwi\",\"mango\"]\n",
    "newlist=[x for x in range(10)]\n",
    "print(newlist)"
   ]
  },
  {
   "cell_type": "code",
   "execution_count": 51,
   "id": "84a4eac0-cae2-4143-8cf2-e163aa7df919",
   "metadata": {},
   "outputs": [
    {
     "name": "stdout",
     "output_type": "stream",
     "text": [
      "[0, 1, 2, 3, 4]\n"
     ]
    }
   ],
   "source": [
    "fruits=[\"apple\",\"bananas\",\"cherry\",\"kiwi\",\"mango\"]\n",
    "newlist=[x for x in range(10) if x<5]\n",
    "print(newlist)"
   ]
  },
  {
   "cell_type": "code",
   "execution_count": 53,
   "id": "334d29a6-dfc0-4c75-add9-263feb221958",
   "metadata": {},
   "outputs": [
    {
     "name": "stdout",
     "output_type": "stream",
     "text": [
      "['APPLE', 'BANANAS', 'CHERRY', 'KIWI', 'MANGO']\n"
     ]
    }
   ],
   "source": [
    "fruits=[\"apple\",\"bananas\",\"cherry\",\"kiwi\",\"mango\"]\n",
    "newlist=[x.upper() for x in fruits]\n",
    "print(newlist)"
   ]
  },
  {
   "cell_type": "code",
   "execution_count": 54,
   "id": "0206520f-9129-43d7-9e9c-36da4cd5329e",
   "metadata": {},
   "outputs": [
    {
     "name": "stdout",
     "output_type": "stream",
     "text": [
      "['hello', 'hello', 'hello', 'hello', 'hello']\n"
     ]
    }
   ],
   "source": [
    "fruits=[\"apple\",\"bananas\",\"cherry\",\"kiwi\",\"mango\"]\n",
    "newlist=['hello' for x in fruits]\n",
    "print(newlist)"
   ]
  },
  {
   "cell_type": "code",
   "execution_count": 55,
   "id": "4ad4eacb-8292-43d3-9a62-a29088a2fda0",
   "metadata": {},
   "outputs": [
    {
     "name": "stdout",
     "output_type": "stream",
     "text": [
      "['apple', 'orange', 'cherry', 'kiwi', 'mango']\n"
     ]
    }
   ],
   "source": [
    "fruits=[\"apple\",\"bananas\",\"cherry\",\"kiwi\",\"mango\"]\n",
    "newlist=[x if x!= \"bananas\" else \"orange\" for x in fruits]\n",
    "print(newlist)"
   ]
  },
  {
   "cell_type": "code",
   "execution_count": 56,
   "id": "4f3a31f7-6857-4cba-8097-4e6b7fb4e1d7",
   "metadata": {},
   "outputs": [
    {
     "name": "stdout",
     "output_type": "stream",
     "text": [
      "['banana', 'kiwi', 'mango', 'orange', 'pineapple']\n"
     ]
    }
   ],
   "source": [
    "#sort list alphanumerically\n",
    "thislist=[\"orange\",\"mango\",\"kiwi\",\"pineapple\",\"banana\"]\n",
    "thislist.sort()\n",
    "print(thislist)"
   ]
  },
  {
   "cell_type": "code",
   "execution_count": 57,
   "id": "0488d808-caf4-48a9-8dba-0545a2ab23dc",
   "metadata": {},
   "outputs": [
    {
     "name": "stdout",
     "output_type": "stream",
     "text": [
      "[22, 30, 42, 44, 100, 110]\n"
     ]
    }
   ],
   "source": [
    "thislist=[110,42,44,22,100,30]\n",
    "thislist.sort()\n",
    "print(thislist)"
   ]
  },
  {
   "cell_type": "code",
   "execution_count": 58,
   "id": "d274acee-20b8-41b9-81c3-2ab3a79235ca",
   "metadata": {},
   "outputs": [
    {
     "name": "stdout",
     "output_type": "stream",
     "text": [
      "['pineapple', 'orange', 'mango', 'kiwi', 'banana']\n"
     ]
    }
   ],
   "source": [
    "thislist=[\"orange\",\"mango\",\"kiwi\",\"pineapple\",\"banana\"]\n",
    "thislist.sort(reverse=True)\n",
    "print(thislist)"
   ]
  },
  {
   "cell_type": "code",
   "execution_count": 59,
   "id": "cb8ad863-3f98-4c17-9752-dea003fda4b6",
   "metadata": {},
   "outputs": [
    {
     "name": "stdout",
     "output_type": "stream",
     "text": [
      "[110, 100, 44, 42, 30, 22]\n"
     ]
    }
   ],
   "source": [
    "thislist=[110,42,44,22,100,30]\n",
    "thislist.sort(reverse=True)\n",
    "print(thislist)"
   ]
  },
  {
   "cell_type": "code",
   "execution_count": 60,
   "id": "d6275bcb-a17a-4634-9682-14ac1e770e18",
   "metadata": {},
   "outputs": [
    {
     "name": "stdout",
     "output_type": "stream",
     "text": [
      "[44, 42, 30, 22, 100, 110]\n"
     ]
    }
   ],
   "source": [
    "#Customize sort function\n",
    "def myfunc(n):\n",
    "    return abs(n-50)\n",
    "thislist=[110,42,44,22,100,30]\n",
    "thislist.sort(key=myfunc)\n",
    "print(thislist)"
   ]
  },
  {
   "cell_type": "code",
   "execution_count": 61,
   "id": "c0a5f995-adb5-4b66-90d7-336cf6b019aa",
   "metadata": {},
   "outputs": [
    {
     "name": "stdout",
     "output_type": "stream",
     "text": [
      "['banana', 'kiwi', 'mango', 'orange', 'pineapple']\n"
     ]
    }
   ],
   "source": [
    "#Case sensitive sort\n",
    "thislist=[\"orange\",\"mango\",\"kiwi\",\"pineapple\",\"banana\"]\n",
    "thislist.sort()\n",
    "print(thislist)"
   ]
  },
  {
   "cell_type": "code",
   "execution_count": 62,
   "id": "05b6d835-d7a6-44f3-9d41-92821c0bf07d",
   "metadata": {},
   "outputs": [
    {
     "name": "stdout",
     "output_type": "stream",
     "text": [
      "['banana', 'kiwi', 'mango', 'orange', 'pineapple']\n"
     ]
    }
   ],
   "source": [
    "thislist=[\"orange\",\"mango\",\"kiwi\",\"pineapple\",\"banana\"]\n",
    "thislist.sort(key=str.lower)\n",
    "print(thislist)"
   ]
  },
  {
   "cell_type": "code",
   "execution_count": 63,
   "id": "9f85465a-3ff6-4c98-a252-aaedecf8fb89",
   "metadata": {},
   "outputs": [
    {
     "name": "stdout",
     "output_type": "stream",
     "text": [
      "['pineapple', 'orange', 'mango', 'kiwi', 'banana']\n"
     ]
    }
   ],
   "source": [
    "hislist=[\"orange\",\"mango\",\"kiwi\",\"pineapple\",\"banana\"]\n",
    "thislist.reverse()\n",
    "print(thislist)"
   ]
  },
  {
   "cell_type": "code",
   "execution_count": 65,
   "id": "e10a5323-1909-402d-a479-6cc201f4f4b5",
   "metadata": {},
   "outputs": [
    {
     "name": "stdout",
     "output_type": "stream",
     "text": [
      "['orange', 'mango', 'kiwi', 'pineapple', 'banana']\n"
     ]
    }
   ],
   "source": [
    "#Copy list\n",
    "thislist=[\"orange\",\"mango\",\"kiwi\",\"pineapple\",\"banana\"]\n",
    "mylist=thislist.copy()\n",
    "print(mylist)"
   ]
  },
  {
   "cell_type": "code",
   "execution_count": 66,
   "id": "f65a756c-4e25-4227-804f-f67d6e42ae9b",
   "metadata": {},
   "outputs": [
    {
     "name": "stdout",
     "output_type": "stream",
     "text": [
      "['orange', 'mango', 'kiwi', 'pineapple', 'banana']\n"
     ]
    }
   ],
   "source": [
    "thislist=[\"orange\",\"mango\",\"kiwi\",\"pineapple\",\"banana\"]\n",
    "mylist=list(thislist)\n",
    "print(mylist)"
   ]
  },
  {
   "cell_type": "code",
   "execution_count": 68,
   "id": "11e87e5e-e937-4b59-b444-a4aa616dcd4a",
   "metadata": {},
   "outputs": [
    {
     "name": "stdout",
     "output_type": "stream",
     "text": [
      "['orange', 'mango', 'kiwi', 'pineapple', 'banana']\n"
     ]
    }
   ],
   "source": [
    "#use slice operator\n",
    "thislist=[\"orange\",\"mango\",\"kiwi\",\"pineapple\",\"banana\"]\n",
    "mylist=list[:]\n",
    "print(thislist)"
   ]
  },
  {
   "cell_type": "code",
   "execution_count": 69,
   "id": "dbd9454d-fae8-476f-b839-d71b3b797a0f",
   "metadata": {},
   "outputs": [
    {
     "name": "stdout",
     "output_type": "stream",
     "text": [
      "[1, 2, 3, 4, 'a', 'b', 'c', 'd']\n"
     ]
    }
   ],
   "source": [
    "#Join list\n",
    "list1=[1,2,3,4]\n",
    "list2=[\"a\",\"b\",\"c\",\"d\"]\n",
    "list3=list1+list2\n",
    "print(list3)"
   ]
  },
  {
   "cell_type": "code",
   "execution_count": 70,
   "id": "29b21621-aafe-4e0b-89e8-547a1f2c9a1e",
   "metadata": {},
   "outputs": [
    {
     "name": "stdout",
     "output_type": "stream",
     "text": [
      "<class 'list'>\n"
     ]
    }
   ],
   "source": [
    "#append list\n",
    "list1=[1,2,3,4]\n",
    "list2=[\"a\",\"b\",\"c\",\"d\"]\n",
    "for x in list2:\n",
    "    list1.append(x)\n",
    "print(list)"
   ]
  },
  {
   "cell_type": "code",
   "execution_count": 71,
   "id": "a579b210-4a40-42bc-83b8-93e27feaea3e",
   "metadata": {},
   "outputs": [
    {
     "name": "stdout",
     "output_type": "stream",
     "text": [
      "[1, 2, 3, 4, 'a', 'b', 'c', 'd']\n"
     ]
    }
   ],
   "source": [
    "list1=[1,2,3,4]\n",
    "list2=[\"a\",\"b\",\"c\",\"d\"]\n",
    "list1.extend(list2)\n",
    "print(list1)"
   ]
  },
  {
   "cell_type": "code",
   "execution_count": null,
   "id": "4ff2d5f9-08ee-4c68-8941-7735194e1175",
   "metadata": {},
   "outputs": [],
   "source": []
  }
 ],
 "metadata": {
  "kernelspec": {
   "display_name": "Python 3 (ipykernel)",
   "language": "python",
   "name": "python3"
  },
  "language_info": {
   "codemirror_mode": {
    "name": "ipython",
    "version": 3
   },
   "file_extension": ".py",
   "mimetype": "text/x-python",
   "name": "python",
   "nbconvert_exporter": "python",
   "pygments_lexer": "ipython3",
   "version": "3.11.7"
  }
 },
 "nbformat": 4,
 "nbformat_minor": 5
}
