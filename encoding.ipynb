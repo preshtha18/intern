{
 "cells": [
  {
   "cell_type": "code",
   "execution_count": 9,
   "id": "904b911e-3f16-4633-94b9-d6aeb141dbd3",
   "metadata": {},
   "outputs": [
    {
     "name": "stdout",
     "output_type": "stream",
     "text": [
      "  team  points\n",
      "0    A      25\n",
      "1    A      12\n",
      "2    B      15\n",
      "3    B      14\n",
      "4    B      19\n",
      "5    B      23\n",
      "6    C      25\n",
      "7    C      29\n"
     ]
    }
   ],
   "source": [
    "#Label encoding\n",
    "import pandas as pd\n",
    "\n",
    "df = pd.DataFrame({'team': ['A', 'A', 'B', 'B', 'B', 'B', 'C', 'C'],\n",
    "                   'points': [25, 12, 15, 14, 19, 23, 25, 29]})\n",
    "print(df)"
   ]
  },
  {
   "cell_type": "code",
   "execution_count": 8,
   "id": "cf72f672-84ca-4265-9023-259c82ea476f",
   "metadata": {},
   "outputs": [
    {
     "name": "stdout",
     "output_type": "stream",
     "text": [
      "   team  points\n",
      "0     0      25\n",
      "1     0      12\n",
      "2     1      15\n",
      "3     1      14\n",
      "4     1      19\n",
      "5     1      23\n",
      "6     2      25\n",
      "7     2      29\n"
     ]
    }
   ],
   "source": [
    "#Label encoding\n",
    "import pandas as pd\n",
    "from sklearn.preprocessing import LabelEncoder\n",
    "lab=LabelEncoder()\n",
    "df['team']=lab.fit_transform(df['team'])\n",
    "print(df)"
   ]
  },
  {
   "cell_type": "code",
   "execution_count": 10,
   "id": "872d0d44-62e1-4516-9b2c-dcad81bfa09a",
   "metadata": {},
   "outputs": [
    {
     "name": "stdout",
     "output_type": "stream",
     "text": [
      "  team  points\n",
      "0    A      25\n",
      "1    A      12\n",
      "2    B      15\n",
      "3    B      14\n",
      "4    B      19\n",
      "5    B      23\n",
      "6    C      25\n",
      "7    C      29\n"
     ]
    }
   ],
   "source": [
    "#One hot encoding\n",
    "import pandas as pd\n",
    "df = pd.DataFrame({'team': ['A', 'A', 'B', 'B', 'B', 'B', 'C', 'C'],\n",
    "                   'points': [25, 12, 15, 14, 19, 23, 25, 29]})\n",
    "print(df)"
   ]
  },
  {
   "cell_type": "code",
   "execution_count": 14,
   "id": "d6a53d95-20d1-471b-aa93-5a7ce9a46b00",
   "metadata": {},
   "outputs": [
    {
     "name": "stdout",
     "output_type": "stream",
     "text": [
      "  team  points    0    1    2\n",
      "0    A      25  1.0  0.0  0.0\n",
      "1    A      12  1.0  0.0  0.0\n",
      "2    B      15  0.0  1.0  0.0\n",
      "3    B      14  0.0  1.0  0.0\n",
      "4    B      19  0.0  1.0  0.0\n",
      "5    B      23  0.0  1.0  0.0\n",
      "6    C      25  0.0  0.0  1.0\n",
      "7    C      29  0.0  0.0  1.0\n"
     ]
    }
   ],
   "source": [
    "#Perform One-Hot Encoding\n",
    "import pandas as pd\n",
    "from sklearn.preprocessing import OneHotEncoder\n",
    "encoder=OneHotEncoder(handle_unknown='ignore')\n",
    "encoder_df=pd.DataFrame(encoder.fit_transform(df[['team']]).toarray())\n",
    "final_df=df.join(encoder_df)\n",
    "print(final_df)"
   ]
  },
  {
   "cell_type": "code",
   "execution_count": 15,
   "id": "bec7846f-c2a7-4da4-9b94-a0707d48abb8",
   "metadata": {},
   "outputs": [
    {
     "name": "stdout",
     "output_type": "stream",
     "text": [
      "   points    0    1    2\n",
      "0      25  1.0  0.0  0.0\n",
      "1      12  1.0  0.0  0.0\n",
      "2      15  0.0  1.0  0.0\n",
      "3      14  0.0  1.0  0.0\n",
      "4      19  0.0  1.0  0.0\n",
      "5      23  0.0  1.0  0.0\n",
      "6      25  0.0  0.0  1.0\n",
      "7      29  0.0  0.0  1.0\n"
     ]
    }
   ],
   "source": [
    "#Drop the Original Categorical Variable\n",
    "final_df.drop('team',axis=1,inplace=True)\n",
    "print(final_df)"
   ]
  },
  {
   "cell_type": "code",
   "execution_count": 16,
   "id": "dd109aaf-3ea9-4301-9513-6b111fdd59b6",
   "metadata": {},
   "outputs": [
    {
     "name": "stdout",
     "output_type": "stream",
     "text": [
      "   Points  teamA  teamB  teamC\n",
      "0      25    1.0    0.0    0.0\n",
      "1      12    1.0    0.0    0.0\n",
      "2      15    0.0    1.0    0.0\n",
      "3      14    0.0    1.0    0.0\n",
      "4      19    0.0    1.0    0.0\n",
      "5      23    0.0    1.0    0.0\n",
      "6      25    0.0    0.0    1.0\n",
      "7      29    0.0    0.0    1.0\n"
     ]
    }
   ],
   "source": [
    "#Drop colummns in pandas \n",
    "final_df.columns=['Points','teamA','teamB','teamC']\n",
    "print(final_df)"
   ]
  },
  {
   "cell_type": "code",
   "execution_count": null,
   "id": "a68d96ed-c172-4b0b-b6b2-84a6cc338a2f",
   "metadata": {},
   "outputs": [],
   "source": []
  }
 ],
 "metadata": {
  "kernelspec": {
   "display_name": "Python 3 (ipykernel)",
   "language": "python",
   "name": "python3"
  },
  "language_info": {
   "codemirror_mode": {
    "name": "ipython",
    "version": 3
   },
   "file_extension": ".py",
   "mimetype": "text/x-python",
   "name": "python",
   "nbconvert_exporter": "python",
   "pygments_lexer": "ipython3",
   "version": "3.11.7"
  }
 },
 "nbformat": 4,
 "nbformat_minor": 5
}
