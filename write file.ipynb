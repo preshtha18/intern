{
 "cells": [
  {
   "cell_type": "code",
   "execution_count": 5,
   "id": "3de08f24-c6f5-474c-b9b5-1109de3169a7",
   "metadata": {},
   "outputs": [
    {
     "name": "stdout",
     "output_type": "stream",
     "text": [
      "Hello! Welcome to demofile2.txt\n",
      "This file is for testing purposes.\n",
      "Good Luck!Now file has more content!Now file has more content!Now file has more content!\n"
     ]
    }
   ],
   "source": [
    "#open the file and append content to the file\n",
    "f=open(\"D:\\demofile2.txt\",\"a\")\n",
    "f.write(\"Now file has more content!\")\n",
    "f.close()\n",
    "\n",
    "f=open(\"D:\\demofile2.txt\",\"r\")\n",
    "print(f.read())"
   ]
  },
  {
   "cell_type": "code",
   "execution_count": 10,
   "id": "31790052-0c6d-41b4-b134-3dd509c4239f",
   "metadata": {},
   "outputs": [
    {
     "name": "stdout",
     "output_type": "stream",
     "text": [
      "Woops! I have deleted the content!\n"
     ]
    }
   ],
   "source": [
    "#open the txtfile and overwriting\n",
    "f=open(\"demofile.txt\",\"w\")\n",
    "f.write(\"Woops! I have deleted the content!\")\n",
    "f.close()\n",
    "\n",
    "f=open(\"demofile3.txt\",\"r\")\n",
    "print(f.read())"
   ]
  },
  {
   "cell_type": "code",
   "execution_count": null,
   "id": "3cb3544d-0f6e-4a55-abc4-84e1a000ed0d",
   "metadata": {},
   "outputs": [],
   "source": []
  },
  {
   "cell_type": "code",
   "execution_count": null,
   "id": "395cfd76-113e-4d28-b0a6-3b6130937f05",
   "metadata": {},
   "outputs": [],
   "source": []
  }
 ],
 "metadata": {
  "kernelspec": {
   "display_name": "Python 3 (ipykernel)",
   "language": "python",
   "name": "python3"
  },
  "language_info": {
   "codemirror_mode": {
    "name": "ipython",
    "version": 3
   },
   "file_extension": ".py",
   "mimetype": "text/x-python",
   "name": "python",
   "nbconvert_exporter": "python",
   "pygments_lexer": "ipython3",
   "version": "3.11.7"
  }
 },
 "nbformat": 4,
 "nbformat_minor": 5
}
