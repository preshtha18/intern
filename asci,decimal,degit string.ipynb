{
 "cells": [
  {
   "cell_type": "code",
   "execution_count": 1,
   "id": "2b23d682-b137-43b6-aadb-11ffadc8c671",
   "metadata": {},
   "outputs": [
    {
     "name": "stdout",
     "output_type": "stream",
     "text": [
      "True\n"
     ]
    }
   ],
   "source": [
    "#isascii()\n",
    "txt=\"company12\"\n",
    "x=txt.isascii()\n",
    "print(x)"
   ]
  },
  {
   "cell_type": "code",
   "execution_count": 2,
   "id": "d7e818b9-b40f-42a7-91a9-421465a5d739",
   "metadata": {},
   "outputs": [
    {
     "name": "stdout",
     "output_type": "stream",
     "text": [
      "True\n"
     ]
    }
   ],
   "source": [
    "#isdecimal()\n",
    "txt=\"1234\"\n",
    "x=txt.isdecimal()\n",
    "print(x)"
   ]
  },
  {
   "cell_type": "code",
   "execution_count": 3,
   "id": "239cf380-3abf-4f83-8129-9166ab044130",
   "metadata": {},
   "outputs": [
    {
     "name": "stdout",
     "output_type": "stream",
     "text": [
      "True\n",
      "False\n"
     ]
    }
   ],
   "source": [
    "#isdecimal()\n",
    "a=\"\\u0030\" #unicode for 0\n",
    "b=\"\\u0047\" #unicode for G\n",
    "print(a.isdecimal())\n",
    "print(b.isdecimal())\n"
   ]
  },
  {
   "cell_type": "code",
   "execution_count": 4,
   "id": "923057db-992a-4e4e-b906-97ac2e2094d4",
   "metadata": {},
   "outputs": [
    {
     "name": "stdout",
     "output_type": "stream",
     "text": [
      "True\n"
     ]
    }
   ],
   "source": [
    "#isdigit()\n",
    "txt=\"50800\"\n",
    "x=txt.isdigit()\n",
    "print(x)"
   ]
  },
  {
   "cell_type": "code",
   "execution_count": 5,
   "id": "447d1470-6189-49f0-b206-e6f39824209e",
   "metadata": {},
   "outputs": [
    {
     "name": "stdout",
     "output_type": "stream",
     "text": [
      "True\n",
      "True\n"
     ]
    }
   ],
   "source": [
    "#isdigit()\n",
    "a=\"\\u0030\" #unicode for 0\n",
    "b=\"\\u00B2\" #unicode for 2\n",
    "print(a.isdigit())\n",
    "print(b.isdigit())"
   ]
  },
  {
   "cell_type": "code",
   "execution_count": null,
   "id": "c41efa22-a9e8-45f0-a676-4771c63183fd",
   "metadata": {},
   "outputs": [],
   "source": []
  }
 ],
 "metadata": {
  "kernelspec": {
   "display_name": "Python 3 (ipykernel)",
   "language": "python",
   "name": "python3"
  },
  "language_info": {
   "codemirror_mode": {
    "name": "ipython",
    "version": 3
   },
   "file_extension": ".py",
   "mimetype": "text/x-python",
   "name": "python",
   "nbconvert_exporter": "python",
   "pygments_lexer": "ipython3",
   "version": "3.11.7"
  }
 },
 "nbformat": 4,
 "nbformat_minor": 5
}
