{
 "cells": [
  {
   "cell_type": "code",
   "execution_count": 2,
   "id": "ce60f19b-fd7b-4e16-9056-4c7417d6d2eb",
   "metadata": {},
   "outputs": [
    {
     "name": "stdout",
     "output_type": "stream",
     "text": [
      "Hello Pam!\n"
     ]
    }
   ],
   "source": [
    "#maketrans()\n",
    "txt=\"Hello Sam!\"\n",
    "mytable=str.maketrans(\"S\",\"P\")\n",
    "print(txt.translate(mytable))"
   ]
  },
  {
   "cell_type": "code",
   "execution_count": 3,
   "id": "cc07bdd6-42d3-40df-8870-3025c61f9f11",
   "metadata": {},
   "outputs": [
    {
     "name": "stdout",
     "output_type": "stream",
     "text": [
      "Hi Joe!\n"
     ]
    }
   ],
   "source": [
    "#maketrans()\n",
    "txt=\"Hi Sam!\"\n",
    "x=\"mSa\"\n",
    "y=\"eJo\"\n",
    "mytable=str.maketrans(x,y)\n",
    "print(txt.translate(mytable))\n"
   ]
  },
  {
   "cell_type": "code",
   "execution_count": 4,
   "id": "64ae04d5-5590-4689-834e-f9b6bd672910",
   "metadata": {},
   "outputs": [
    {
     "name": "stdout",
     "output_type": "stream",
     "text": [
      "G i Joe!\n"
     ]
    }
   ],
   "source": [
    "#maketrans()\n",
    "txt=\"Good night Sam!\"\n",
    "x=\"mSa\"\n",
    "y=\"eJo\"\n",
    "z=\"odnght\"\n",
    "mytable=str.maketrans(x,y,z)\n",
    "print(txt.translate(mytable))"
   ]
  },
  {
   "cell_type": "code",
   "execution_count": 5,
   "id": "1bb7ec3e-352f-4ecf-be7d-24a3e26d3a8c",
   "metadata": {},
   "outputs": [
    {
     "name": "stdout",
     "output_type": "stream",
     "text": [
      "{109: 101, 83: 74, 97: 111, 111: None, 100: None, 110: None, 103: None, 104: None, 116: None}\n"
     ]
    }
   ],
   "source": [
    "#maketrans()\n",
    "txt=\"Good night Sam!\"\n",
    "x=\"mSa\"\n",
    "y=\"eJo\"\n",
    "z=\"odnght\"\n",
    "print(str.maketrans(x,y,z))"
   ]
  },
  {
   "cell_type": "code",
   "execution_count": 6,
   "id": "6ad8e0dc-8b5c-40f4-bcd4-4d69aa20c71d",
   "metadata": {},
   "outputs": [
    {
     "name": "stdout",
     "output_type": "stream",
     "text": [
      "('I could eat ', 'bananas', ' all day')\n"
     ]
    }
   ],
   "source": [
    "#partition()\n",
    "txt=\"I could eat bananas all day\"\n",
    "x=txt.partition(\"bananas\")\n",
    "print(x)"
   ]
  },
  {
   "cell_type": "code",
   "execution_count": 8,
   "id": "9940a25c-1680-4335-8587-eeb461f48fdb",
   "metadata": {},
   "outputs": [
    {
     "name": "stdout",
     "output_type": "stream",
     "text": [
      "I like apples\n"
     ]
    }
   ],
   "source": [
    "#replace()\n",
    "txt=\"I like bananas\"\n",
    "x=txt.replace(\"bananas\",\"apples\")\n",
    "print(x)"
   ]
  },
  {
   "cell_type": "code",
   "execution_count": 9,
   "id": "f3e00f5a-5fe8-4b3f-935c-b4244196a3b7",
   "metadata": {},
   "outputs": [
    {
     "name": "stdout",
     "output_type": "stream",
     "text": [
      "three three was a race horse, two two was one too.\n"
     ]
    }
   ],
   "source": [
    "#replace()\n",
    "txt=\"one one was a race horse, two two was one too.\"\n",
    "x=txt.replace(\"one\",\"three\",2)\n",
    "print(x)"
   ]
  },
  {
   "cell_type": "code",
   "execution_count": null,
   "id": "d23b7435-0573-4fd9-a510-e38e8e66b531",
   "metadata": {},
   "outputs": [],
   "source": []
  }
 ],
 "metadata": {
  "kernelspec": {
   "display_name": "Python 3 (ipykernel)",
   "language": "python",
   "name": "python3"
  },
  "language_info": {
   "codemirror_mode": {
    "name": "ipython",
    "version": 3
   },
   "file_extension": ".py",
   "mimetype": "text/x-python",
   "name": "python",
   "nbconvert_exporter": "python",
   "pygments_lexer": "ipython3",
   "version": "3.11.7"
  }
 },
 "nbformat": 4,
 "nbformat_minor": 5
}
