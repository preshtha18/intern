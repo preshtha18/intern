{
 "cells": [
  {
   "cell_type": "code",
   "execution_count": 1,
   "id": "cefa5684-d43b-48dc-9e76-c33a11bc161f",
   "metadata": {},
   "outputs": [
    {
     "name": "stdout",
     "output_type": "stream",
     "text": [
      "Email Refsnes\n",
      "Tonias Refsnes\n",
      "Linus Refsnes\n"
     ]
    }
   ],
   "source": [
    "#argument\n",
    "def my_function(fname):\n",
    "    print(fname+ \" Refsnes\")\n",
    "my_function(\"Email\")\n",
    "my_function(\"Tonias\")\n",
    "my_function(\"Linus\")"
   ]
  },
  {
   "cell_type": "code",
   "execution_count": 2,
   "id": "b5a5800b-f80f-4bd3-8bc5-5a44c6d5a1d1",
   "metadata": {},
   "outputs": [
    {
     "name": "stdout",
     "output_type": "stream",
     "text": [
      "Email Refsnes\n"
     ]
    }
   ],
   "source": [
    "#number of argument\n",
    "def my_function(fname,lname):\n",
    "    print(fname+\" \"+lname)\n",
    "my_function(\"Email\",\"Refsnes\")"
   ]
  },
  {
   "cell_type": "code",
   "execution_count": 3,
   "id": "f37ffa89-5e6d-4ed0-8fcb-57db3aeb2639",
   "metadata": {},
   "outputs": [
    {
     "name": "stdout",
     "output_type": "stream",
     "text": [
      "The youngest child is Linus\n"
     ]
    }
   ],
   "source": [
    "#Arbitary argument *args\n",
    "def my_function(*kids):\n",
    "    print(\"The youngest child is \"+kids[2])\n",
    "\n",
    "my_function(\"Email\",\"Tonias\",\"Linus\")"
   ]
  },
  {
   "cell_type": "code",
   "execution_count": 1,
   "id": "62129772-85de-4071-8eff-9eb1156899ed",
   "metadata": {},
   "outputs": [
    {
     "name": "stdout",
     "output_type": "stream",
     "text": [
      "The youngest child is Tonia\n"
     ]
    }
   ],
   "source": [
    "#keyword arguments\n",
    "def my_function(child3,child2,child1):\n",
    "    print(\"The youngest child is \" + child2)\n",
    "my_function(child1=\"Email\", child2=\"Tonia\",child3=\"Linus\")"
   ]
  },
  {
   "cell_type": "code",
   "execution_count": 5,
   "id": "f707e884-ac30-452e-b555-4c11ea6c9886",
   "metadata": {},
   "outputs": [
    {
     "name": "stdout",
     "output_type": "stream",
     "text": [
      "His last name is Refsnes\n"
     ]
    }
   ],
   "source": [
    "#Arbitary keywords argument *Kwargs\n",
    "def my_function(**kid):\n",
    "    print(\"His last name is \" + kid[\"lname\"])\n",
    "    \n",
    "my_function(fname=\"Tobias\",lname=\"Refsnes\")"
   ]
  },
  {
   "cell_type": "code",
   "execution_count": 6,
   "id": "0d445aff-b9d3-45b2-abe7-bf9f8b86d06c",
   "metadata": {},
   "outputs": [
    {
     "name": "stdout",
     "output_type": "stream",
     "text": [
      "I am from sweden\n",
      "I am from India\n",
      "I am from Norway\n",
      "I am from Brazil\n"
     ]
    }
   ],
   "source": [
    "#Default parameter values\n",
    "def my_function(country=\"Norway\"):\n",
    "    print(\"I am from \" + country)\n",
    "my_function(\"sweden\")\n",
    "my_function(\"India\")\n",
    "my_function()\n",
    "my_function(\"Brazil\")"
   ]
  },
  {
   "cell_type": "code",
   "execution_count": 8,
   "id": "535d1b3f-a821-49e5-8804-f4db66400056",
   "metadata": {},
   "outputs": [
    {
     "name": "stdout",
     "output_type": "stream",
     "text": [
      "apple\n",
      "banana\n",
      "cherry\n"
     ]
    }
   ],
   "source": [
    "#Passing the list as an argument\n",
    "def my_function(food):\n",
    "    for x in food:\n",
    "        print(x)\n",
    "fruits=[\"apple\",\"banana\",\"cherry\"]\n",
    "my_function(fruits)"
   ]
  },
  {
   "cell_type": "code",
   "execution_count": 9,
   "id": "be9fa457-3cf0-46b3-8389-72bc5a81b7ec",
   "metadata": {},
   "outputs": [
    {
     "name": "stdout",
     "output_type": "stream",
     "text": [
      "15\n",
      "25\n",
      "45\n"
     ]
    }
   ],
   "source": [
    "#Return value\n",
    "def my_function(x):\n",
    "    return 5*x\n",
    "print(my_function(3))\n",
    "print(my_function(5))\n",
    "print(my_function(9))"
   ]
  },
  {
   "cell_type": "code",
   "execution_count": 10,
   "id": "530a412f-0575-4e99-b269-8d2df672c5b5",
   "metadata": {},
   "outputs": [
    {
     "name": "stdout",
     "output_type": "stream",
     "text": [
      "3\n"
     ]
    }
   ],
   "source": [
    "#Positional-only argument\n",
    "def my_function(x, /):\n",
    "    print(x)\n",
    "my_function(3)"
   ]
  },
  {
   "cell_type": "code",
   "execution_count": 11,
   "id": "1c83e59c-2cb7-4ba0-95e4-9c83aa738848",
   "metadata": {},
   "outputs": [
    {
     "name": "stdout",
     "output_type": "stream",
     "text": [
      "3\n"
     ]
    }
   ],
   "source": [
    "def my_function(x):\n",
    "    print(x)\n",
    "my_function(x=3)"
   ]
  },
  {
   "cell_type": "code",
   "execution_count": 13,
   "id": "ce0e2cd2-57a5-4d7a-b41c-e7fd96368125",
   "metadata": {},
   "outputs": [
    {
     "name": "stdout",
     "output_type": "stream",
     "text": [
      "3\n"
     ]
    }
   ],
   "source": [
    "#keywords only arguments\n",
    "def my_function(*,x):\n",
    "    print(x)\n",
    "my_function(x=3)"
   ]
  },
  {
   "cell_type": "code",
   "execution_count": 14,
   "id": "d5d32a0b-c618-4ddc-94f0-40de89fb35a2",
   "metadata": {},
   "outputs": [
    {
     "name": "stdout",
     "output_type": "stream",
     "text": [
      "3\n"
     ]
    }
   ],
   "source": [
    "def my_function(x):\n",
    "    print(x)\n",
    "my_function(x=3)"
   ]
  },
  {
   "cell_type": "code",
   "execution_count": 15,
   "id": "d0ebef1a-6577-4074-99c4-5c5552a05d90",
   "metadata": {},
   "outputs": [
    {
     "name": "stdout",
     "output_type": "stream",
     "text": [
      "26\n"
     ]
    }
   ],
   "source": [
    "#combine positional-only and keywrod-only\n",
    "def my_function(a,b,/,*,c,d):\n",
    "    print(a+b+c+d)\n",
    "my_function(5,6,c=7,d=8)"
   ]
  },
  {
   "cell_type": "code",
   "execution_count": 18,
   "id": "69f1b47e-bd1c-42a6-8672-9774d9036f8b",
   "metadata": {},
   "outputs": [
    {
     "name": "stdout",
     "output_type": "stream",
     "text": [
      "Recursion examples results:\n",
      "1\n",
      "3\n",
      "6\n",
      "10\n",
      "15\n",
      "21\n",
      "28\n"
     ]
    },
    {
     "data": {
      "text/plain": [
       "28"
      ]
     },
     "execution_count": 18,
     "metadata": {},
     "output_type": "execute_result"
    }
   ],
   "source": [
    "#Recursion\n",
    "def tri_recursion(k):\n",
    "    if(k>0):\n",
    "        result = k+tri_recursion(k-1)\n",
    "        print(result)\n",
    "    else:\n",
    "        result=0\n",
    "    return result\n",
    "print(\"Recursion examples results:\")\n",
    "tri_recursion(7)"
   ]
  },
  {
   "cell_type": "code",
   "execution_count": null,
   "id": "ff6cd4d1-972f-4e1f-a22d-f5dd5f23b1aa",
   "metadata": {},
   "outputs": [],
   "source": []
  }
 ],
 "metadata": {
  "kernelspec": {
   "display_name": "Python 3 (ipykernel)",
   "language": "python",
   "name": "python3"
  },
  "language_info": {
   "codemirror_mode": {
    "name": "ipython",
    "version": 3
   },
   "file_extension": ".py",
   "mimetype": "text/x-python",
   "name": "python",
   "nbconvert_exporter": "python",
   "pygments_lexer": "ipython3",
   "version": "3.11.7"
  }
 },
 "nbformat": 4,
 "nbformat_minor": 5
}
