{
 "cells": [
  {
   "cell_type": "code",
   "execution_count": 1,
   "id": "a86bda5b-41cd-4e18-8a30-846366e9bd67",
   "metadata": {},
   "outputs": [
    {
     "name": "stdout",
     "output_type": "stream",
     "text": [
      "hELLO MY NAME IS peter\n"
     ]
    }
   ],
   "source": [
    "#swapcase\n",
    "txt=\"Hello my name is PETER\"\n",
    "x=txt.swapcase()\n",
    "print(x)"
   ]
  },
  {
   "cell_type": "code",
   "execution_count": 2,
   "id": "17a7d2d4-763b-46aa-94bb-5a764b752acc",
   "metadata": {},
   "outputs": [
    {
     "name": "stdout",
     "output_type": "stream",
     "text": [
      "Welcome To My World\n"
     ]
    }
   ],
   "source": [
    "#title\n",
    "txt=\"Welcome to my world\"\n",
    "x=txt.title()\n",
    "print(x)"
   ]
  },
  {
   "cell_type": "code",
   "execution_count": 3,
   "id": "ebea7d3b-f352-4f5d-9847-fa3c8213eee9",
   "metadata": {},
   "outputs": [
    {
     "name": "stdout",
     "output_type": "stream",
     "text": [
      "Welcome To My 2Nd World\n"
     ]
    }
   ],
   "source": [
    "#title\n",
    "txt=\"Welcome to my 2nd world\"\n",
    "x=txt.title()\n",
    "print(x)"
   ]
  },
  {
   "cell_type": "code",
   "execution_count": 4,
   "id": "9e71e76f-afa6-4286-84ea-ed4ed526438d",
   "metadata": {},
   "outputs": [
    {
     "name": "stdout",
     "output_type": "stream",
     "text": [
      "Hello B2B2B2 And 3G3G3G\n"
     ]
    }
   ],
   "source": [
    "#title\n",
    "txt=\"hello b2b2b2 and 3g3g3g\"\n",
    "x=txt.title()\n",
    "print(x)"
   ]
  },
  {
   "cell_type": "code",
   "execution_count": 6,
   "id": "4ee30a3c-50a0-4f96-84e7-01e1d5503c87",
   "metadata": {},
   "outputs": [
    {
     "name": "stdout",
     "output_type": "stream",
     "text": [
      "Hello Pam\n"
     ]
    }
   ],
   "source": [
    "#translate\n",
    "mydict={83: 80}\n",
    "txt=\"Hello Sam\"\n",
    "print(txt.translate(mydict))"
   ]
  },
  {
   "cell_type": "code",
   "execution_count": 7,
   "id": "11cdbe21-b7c7-4ce4-901a-fcbfa924c608",
   "metadata": {},
   "outputs": [
    {
     "name": "stdout",
     "output_type": "stream",
     "text": [
      "Hello Pam!\n"
     ]
    }
   ],
   "source": [
    "#translate\n",
    "txt=\"Hello Sam!\"\n",
    "mytable=str.maketrans(\"S\",\"P\")\n",
    "print(txt.translate(mytable))"
   ]
  },
  {
   "cell_type": "code",
   "execution_count": 8,
   "id": "8258ca66-ba65-4bc5-ade9-45f87786b27b",
   "metadata": {},
   "outputs": [
    {
     "name": "stdout",
     "output_type": "stream",
     "text": [
      "G i Joe!\n"
     ]
    }
   ],
   "source": [
    "#translate\n",
    "txt=\"Good night Sam!\"\n",
    "x=\"mSa\"\n",
    "y=\"eJo\"\n",
    "z=\"odnght\"\n",
    "mytable=str.maketrans(x,y,z)\n",
    "print(txt.translate(mytable))"
   ]
  },
  {
   "cell_type": "code",
   "execution_count": 9,
   "id": "b1a9443d-7d95-4acb-b2fa-95ae35f8a1ab",
   "metadata": {},
   "outputs": [
    {
     "name": "stdout",
     "output_type": "stream",
     "text": [
      "G i Joe!\n"
     ]
    }
   ],
   "source": [
    "#translate\n",
    "txt = \"Good night Sam!\"\n",
    "mydict = {109: 101, 83: 74, 97: 111, 111: None, 100: None, 110: None, 103: None, 104: None, 116: None}\n",
    "print(txt.translate(mydict))"
   ]
  },
  {
   "cell_type": "code",
   "execution_count": 10,
   "id": "2767dd72-7bbe-4292-bd65-dd4774263bd0",
   "metadata": {},
   "outputs": [
    {
     "name": "stdout",
     "output_type": "stream",
     "text": [
      "HELLO MY FRIEND\n"
     ]
    }
   ],
   "source": [
    "#upper\n",
    "txt=\"Hello my friend\"\n",
    "x=txt.upper()\n",
    "print(x)"
   ]
  },
  {
   "cell_type": "code",
   "execution_count": 12,
   "id": "0b8d2412-3826-4363-98b5-068c479e2427",
   "metadata": {},
   "outputs": [
    {
     "name": "stdout",
     "output_type": "stream",
     "text": [
      "0000000050\n"
     ]
    }
   ],
   "source": [
    "#zfill\n",
    "txt=\"50\"\n",
    "x=txt.zfill(10)\n",
    "print(x)"
   ]
  },
  {
   "cell_type": "code",
   "execution_count": 13,
   "id": "17e33ff5-1bfc-464d-b031-5c37d9f34f59",
   "metadata": {},
   "outputs": [
    {
     "name": "stdout",
     "output_type": "stream",
     "text": [
      "000000Hell\n",
      "welcome to the jungle\n",
      "000010.000\n"
     ]
    }
   ],
   "source": [
    "#zfill\n",
    "a=\"Hell\"\n",
    "b=\"welcome to the jungle\"\n",
    "c=\"10.000\"\n",
    "print(a.zfill(10))\n",
    "print(b.zfill(10))\n",
    "print(c.zfill(10))"
   ]
  },
  {
   "cell_type": "code",
   "execution_count": null,
   "id": "ba298094-8a32-47c7-b41d-7bb13cab537a",
   "metadata": {},
   "outputs": [],
   "source": []
  }
 ],
 "metadata": {
  "kernelspec": {
   "display_name": "Python 3 (ipykernel)",
   "language": "python",
   "name": "python3"
  },
  "language_info": {
   "codemirror_mode": {
    "name": "ipython",
    "version": 3
   },
   "file_extension": ".py",
   "mimetype": "text/x-python",
   "name": "python",
   "nbconvert_exporter": "python",
   "pygments_lexer": "ipython3",
   "version": "3.11.7"
  }
 },
 "nbformat": 4,
 "nbformat_minor": 5
}
