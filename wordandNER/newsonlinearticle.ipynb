{
 "cells": [
  {
   "cell_type": "code",
   "execution_count": 2,
   "id": "d9af9a1c-33e2-4b9a-96db-a2f738a51004",
   "metadata": {},
   "outputs": [
    {
     "name": "stdout",
     "output_type": "stream",
     "text": [
      "Requirement already satisfied: pandas in c:\\users\\preshtha\\anaconda3\\lib\\site-packages (1.5.3)\n",
      "Requirement already satisfied: nltk in c:\\users\\preshtha\\anaconda3\\lib\\site-packages (3.9.1)\n",
      "Requirement already satisfied: textblob in c:\\users\\preshtha\\anaconda3\\lib\\site-packages (0.19.0)\n",
      "Requirement already satisfied: matplotlib in c:\\users\\preshtha\\anaconda3\\lib\\site-packages (3.8.0)\n",
      "Requirement already satisfied: seaborn in c:\\users\\preshtha\\anaconda3\\lib\\site-packages (0.12.2)\n",
      "Requirement already satisfied: requests in c:\\users\\preshtha\\anaconda3\\lib\\site-packages (2.31.0)\n",
      "Collecting newspaper3k\n",
      "  Downloading newspaper3k-0.2.8-py3-none-any.whl.metadata (11 kB)\n",
      "Requirement already satisfied: python-dateutil>=2.8.1 in c:\\users\\preshtha\\anaconda3\\lib\\site-packages (from pandas) (2.8.2)\n",
      "Requirement already satisfied: pytz>=2020.1 in c:\\users\\preshtha\\anaconda3\\lib\\site-packages (from pandas) (2023.3.post1)\n",
      "Requirement already satisfied: numpy>=1.21.0 in c:\\users\\preshtha\\anaconda3\\lib\\site-packages (from pandas) (1.24.4)\n",
      "Requirement already satisfied: click in c:\\users\\preshtha\\anaconda3\\lib\\site-packages (from nltk) (8.1.7)\n",
      "Requirement already satisfied: joblib in c:\\users\\preshtha\\anaconda3\\lib\\site-packages (from nltk) (1.2.0)\n",
      "Requirement already satisfied: regex>=2021.8.3 in c:\\users\\preshtha\\anaconda3\\lib\\site-packages (from nltk) (2023.10.3)\n",
      "Requirement already satisfied: tqdm in c:\\users\\preshtha\\anaconda3\\lib\\site-packages (from nltk) (4.65.0)\n",
      "Requirement already satisfied: contourpy>=1.0.1 in c:\\users\\preshtha\\anaconda3\\lib\\site-packages (from matplotlib) (1.2.0)\n",
      "Requirement already satisfied: cycler>=0.10 in c:\\users\\preshtha\\anaconda3\\lib\\site-packages (from matplotlib) (0.11.0)\n",
      "Requirement already satisfied: fonttools>=4.22.0 in c:\\users\\preshtha\\anaconda3\\lib\\site-packages (from matplotlib) (4.25.0)\n",
      "Requirement already satisfied: kiwisolver>=1.0.1 in c:\\users\\preshtha\\anaconda3\\lib\\site-packages (from matplotlib) (1.4.4)\n",
      "Requirement already satisfied: packaging>=20.0 in c:\\users\\preshtha\\anaconda3\\lib\\site-packages (from matplotlib) (23.1)\n",
      "Requirement already satisfied: pillow>=6.2.0 in c:\\users\\preshtha\\anaconda3\\lib\\site-packages (from matplotlib) (10.2.0)\n",
      "Requirement already satisfied: pyparsing>=2.3.1 in c:\\users\\preshtha\\anaconda3\\lib\\site-packages (from matplotlib) (3.0.9)\n",
      "Requirement already satisfied: charset-normalizer<4,>=2 in c:\\users\\preshtha\\anaconda3\\lib\\site-packages (from requests) (2.0.4)\n",
      "Requirement already satisfied: idna<4,>=2.5 in c:\\users\\preshtha\\anaconda3\\lib\\site-packages (from requests) (3.4)\n",
      "Requirement already satisfied: urllib3<3,>=1.21.1 in c:\\users\\preshtha\\anaconda3\\lib\\site-packages (from requests) (2.0.7)\n",
      "Requirement already satisfied: certifi>=2017.4.17 in c:\\users\\preshtha\\anaconda3\\lib\\site-packages (from requests) (2024.2.2)\n",
      "Requirement already satisfied: beautifulsoup4>=4.4.1 in c:\\users\\preshtha\\anaconda3\\lib\\site-packages (from newspaper3k) (4.12.2)\n",
      "Requirement already satisfied: PyYAML>=3.11 in c:\\users\\preshtha\\anaconda3\\lib\\site-packages (from newspaper3k) (6.0.1)\n",
      "Requirement already satisfied: cssselect>=0.9.2 in c:\\users\\preshtha\\anaconda3\\lib\\site-packages (from newspaper3k) (1.2.0)\n",
      "Requirement already satisfied: lxml>=3.6.0 in c:\\users\\preshtha\\anaconda3\\lib\\site-packages (from newspaper3k) (4.9.3)\n",
      "Collecting feedparser>=5.2.1 (from newspaper3k)\n",
      "  Downloading feedparser-6.0.11-py3-none-any.whl.metadata (2.4 kB)\n",
      "Requirement already satisfied: tldextract>=2.0.1 in c:\\users\\preshtha\\anaconda3\\lib\\site-packages (from newspaper3k) (3.2.0)\n",
      "Collecting feedfinder2>=0.0.4 (from newspaper3k)\n",
      "  Downloading feedfinder2-0.0.4.tar.gz (3.3 kB)\n",
      "  Preparing metadata (setup.py): started\n",
      "  Preparing metadata (setup.py): finished with status 'done'\n",
      "Collecting jieba3k>=0.35.1 (from newspaper3k)\n",
      "  Downloading jieba3k-0.35.1.zip (7.4 MB)\n",
      "     ---------------------------------------- 0.0/7.4 MB ? eta -:--:--\n",
      "     ---------------------------------------- 0.0/7.4 MB ? eta -:--:--\n",
      "     ---------------------------------------- 0.0/7.4 MB ? eta -:--:--\n",
      "     ---------------------------------------- 0.1/7.4 MB 469.7 kB/s eta 0:00:16\n",
      "      --------------------------------------- 0.2/7.4 MB 919.0 kB/s eta 0:00:08\n",
      "     - -------------------------------------- 0.3/7.4 MB 1.5 MB/s eta 0:00:05\n",
      "     --- ------------------------------------ 0.6/7.4 MB 2.5 MB/s eta 0:00:03\n",
      "     ----- ---------------------------------- 1.1/7.4 MB 3.7 MB/s eta 0:00:02\n",
      "     -------- ------------------------------- 1.6/7.4 MB 4.7 MB/s eta 0:00:02\n",
      "     ----------- ---------------------------- 2.2/7.4 MB 5.5 MB/s eta 0:00:01\n",
      "     -------------- ------------------------- 2.6/7.4 MB 6.2 MB/s eta 0:00:01\n",
      "     --------------- ------------------------ 2.9/7.4 MB 6.2 MB/s eta 0:00:01\n",
      "     ------------------ --------------------- 3.5/7.4 MB 6.6 MB/s eta 0:00:01\n",
      "     --------------------- ------------------ 4.0/7.4 MB 6.9 MB/s eta 0:00:01\n",
      "     ------------------------ --------------- 4.6/7.4 MB 7.4 MB/s eta 0:00:01\n",
      "     -------------------------- ------------- 4.9/7.4 MB 7.5 MB/s eta 0:00:01\n",
      "     -------------------------- ------------- 5.0/7.4 MB 7.4 MB/s eta 0:00:01\n",
      "     ----------------------------- ---------- 5.5/7.4 MB 7.2 MB/s eta 0:00:01\n",
      "     --------------------------------- ------ 6.3/7.4 MB 7.9 MB/s eta 0:00:01\n",
      "     ------------------------------------ --- 6.7/7.4 MB 8.0 MB/s eta 0:00:01\n",
      "     ------------------------------------- -- 7.0/7.4 MB 7.9 MB/s eta 0:00:01\n",
      "     ---------------------------------------  7.3/7.4 MB 7.8 MB/s eta 0:00:01\n",
      "     ---------------------------------------  7.4/7.4 MB 7.8 MB/s eta 0:00:01\n",
      "     ---------------------------------------- 7.4/7.4 MB 7.4 MB/s eta 0:00:00\n",
      "  Preparing metadata (setup.py): started\n",
      "  Preparing metadata (setup.py): finished with status 'done'\n",
      "Collecting tinysegmenter==0.3 (from newspaper3k)\n",
      "  Downloading tinysegmenter-0.3.tar.gz (16 kB)\n",
      "  Preparing metadata (setup.py): started\n",
      "  Preparing metadata (setup.py): finished with status 'done'\n",
      "Requirement already satisfied: soupsieve>1.2 in c:\\users\\preshtha\\anaconda3\\lib\\site-packages (from beautifulsoup4>=4.4.1->newspaper3k) (2.5)\n",
      "Requirement already satisfied: six in c:\\users\\preshtha\\anaconda3\\lib\\site-packages (from feedfinder2>=0.0.4->newspaper3k) (1.16.0)\n",
      "Collecting sgmllib3k (from feedparser>=5.2.1->newspaper3k)\n",
      "  Downloading sgmllib3k-1.0.0.tar.gz (5.8 kB)\n",
      "  Preparing metadata (setup.py): started\n",
      "  Preparing metadata (setup.py): finished with status 'done'\n",
      "Requirement already satisfied: requests-file>=1.4 in c:\\users\\preshtha\\anaconda3\\lib\\site-packages (from tldextract>=2.0.1->newspaper3k) (1.5.1)\n",
      "Requirement already satisfied: filelock>=3.0.8 in c:\\users\\preshtha\\anaconda3\\lib\\site-packages (from tldextract>=2.0.1->newspaper3k) (3.13.1)\n",
      "Requirement already satisfied: colorama in c:\\users\\preshtha\\anaconda3\\lib\\site-packages (from click->nltk) (0.4.6)\n",
      "Downloading newspaper3k-0.2.8-py3-none-any.whl (211 kB)\n",
      "   ---------------------------------------- 0.0/211.1 kB ? eta -:--:--\n",
      "   ---------------------------------------- 211.1/211.1 kB 6.5 MB/s eta 0:00:00\n",
      "Downloading feedparser-6.0.11-py3-none-any.whl (81 kB)\n",
      "   ---------------------------------------- 0.0/81.3 kB ? eta -:--:--\n",
      "   ---------------------------------------- 81.3/81.3 kB 4.7 MB/s eta 0:00:00\n",
      "Building wheels for collected packages: tinysegmenter, feedfinder2, jieba3k, sgmllib3k\n",
      "  Building wheel for tinysegmenter (setup.py): started\n",
      "  Building wheel for tinysegmenter (setup.py): finished with status 'done'\n",
      "  Created wheel for tinysegmenter: filename=tinysegmenter-0.3-py3-none-any.whl size=13567 sha256=0ffe1dcdfa142042f7d85db0046b3fcb6cd65307ffe0ff4472628b3afa1d7778\n",
      "  Stored in directory: c:\\users\\preshtha\\appdata\\local\\pip\\cache\\wheels\\fc\\ab\\f8\\cce3a9ae6d828bd346be695f7ff54612cd22b7cbd7208d68f3\n",
      "  Building wheel for feedfinder2 (setup.py): started\n",
      "  Building wheel for feedfinder2 (setup.py): finished with status 'done'\n",
      "  Created wheel for feedfinder2: filename=feedfinder2-0.0.4-py3-none-any.whl size=3357 sha256=769fabccb48e1b94e781bc6a797d02d0b77f02d64227021df24953244166d7c8\n",
      "  Stored in directory: c:\\users\\preshtha\\appdata\\local\\pip\\cache\\wheels\\80\\d5\\72\\9cd9eccc819636436c6a6e59c22a0fb1ec167beef141f56491\n",
      "  Building wheel for jieba3k (setup.py): started\n",
      "  Building wheel for jieba3k (setup.py): finished with status 'done'\n",
      "  Created wheel for jieba3k: filename=jieba3k-0.35.1-py3-none-any.whl size=7398387 sha256=300cf70e0cc7569edff0ff1bf683b8ba81d2907c488b7f1de07b3869c55f5304\n",
      "  Stored in directory: c:\\users\\preshtha\\appdata\\local\\pip\\cache\\wheels\\3a\\a1\\46\\8e68055c1713f9c4598774c15ad0541f26d5425ee7423b6493\n",
      "  Building wheel for sgmllib3k (setup.py): started\n",
      "  Building wheel for sgmllib3k (setup.py): finished with status 'done'\n",
      "  Created wheel for sgmllib3k: filename=sgmllib3k-1.0.0-py3-none-any.whl size=6061 sha256=a05c2eeaeb7b044ba53a5d73bab6ca4571dda84ca039e89f817bede639ef4088\n",
      "  Stored in directory: c:\\users\\preshtha\\appdata\\local\\pip\\cache\\wheels\\3b\\25\\2a\\105d6a15df6914f4d15047691c6c28f9052cc1173e40285d03\n",
      "Successfully built tinysegmenter feedfinder2 jieba3k sgmllib3k\n",
      "Installing collected packages: tinysegmenter, sgmllib3k, jieba3k, feedparser, feedfinder2, newspaper3k\n",
      "Successfully installed feedfinder2-0.0.4 feedparser-6.0.11 jieba3k-0.35.1 newspaper3k-0.2.8 sgmllib3k-1.0.0 tinysegmenter-0.3\n"
     ]
    }
   ],
   "source": [
    "!pip install pandas nltk textblob matplotlib seaborn requests newspaper3k"
   ]
  },
  {
   "cell_type": "code",
   "execution_count": 3,
   "id": "7e7131d7-b953-4d0c-92a6-685c7dc7b2fd",
   "metadata": {},
   "outputs": [
    {
     "name": "stdout",
     "output_type": "stream",
     "text": [
      "Mysterious New Jersey drones were 'not the enemy' - White House\n",
      "\n",
      "White House: Mysterious New Jersey drones 'not the enemy'\n",
      "\n",
      "Authorities never provided definitive answers about the sightings, saying only that they were not a danger to the public or national security.\n",
      "\n",
      "The drones were spotted in New Jersey and other nearby states in November and December and led to rampant online speculation about their origins and intentions.\n",
      "\n",
      "The Federal Aviation Administration (FAA) had approved the drones for \n"
     ]
    }
   ],
   "source": [
    "#Load newsdata using newpaper3k \n",
    "from newspaper import Article \n",
    "url=\"https://www.bbc.com/news/articles/ce3nx1kd9q1o\"\n",
    "article = Article(url)\n",
    "article.download()\n",
    "article.parse()\n",
    "news_text=article.text\n",
    "print(news_text[:500])"
   ]
  },
  {
   "cell_type": "code",
   "execution_count": 4,
   "id": "f2f8a690-5048-477c-bae9-32ad37d20e84",
   "metadata": {},
   "outputs": [
    {
     "name": "stdout",
     "output_type": "stream",
     "text": [
      "Polarity:0.06179503367003367,Subjectivity0.3664772727272727\n"
     ]
    }
   ],
   "source": [
    "#Perform sentiment analysis using Textblob\n",
    "from textblob import TextBlob\n",
    "sentiment=TextBlob(news_text).sentiment\n",
    "print(f\"Polarity:{sentiment.polarity},Subjectivity{sentiment.subjectivity}\")"
   ]
  },
  {
   "cell_type": "code",
   "execution_count": 7,
   "id": "352de26b-16ca-487c-bd3c-e3c3acd1a2e5",
   "metadata": {},
   "outputs": [
    {
     "name": "stdout",
     "output_type": "stream",
     "text": [
      "{'neg': 0.051, 'neu': 0.909, 'pos': 0.04, 'compound': -0.5875}\n",
      "Overall Sentiment:Negative\n"
     ]
    },
    {
     "name": "stderr",
     "output_type": "stream",
     "text": [
      "[nltk_data] Downloading package vader_lexicon to\n",
      "[nltk_data]     C:\\Users\\preshtha\\AppData\\Roaming\\nltk_data...\n",
      "[nltk_data]   Package vader_lexicon is already up-to-date!\n"
     ]
    }
   ],
   "source": [
    "#Sentiment Analysis Using NLTK’s VADER \n",
    "from nltk.sentiment import SentimentIntensityAnalyzer\n",
    "import nltk\n",
    "nltk.download(\"vader_lexicon\")\n",
    "sia=SentimentIntensityAnalyzer()\n",
    "sentiment_scores=sia.polarity_scores(news_text)\n",
    "print(sentiment_scores)\n",
    "if sentiment_scores[\"compound\"]>0:\n",
    "    sentiment_label=\"Positive\"\n",
    "elif sentiment_scores[\"compound\"]<0:\n",
    "    sentiment_label=\"Negative\"\n",
    "else:\n",
    "    sentiment_label=\"Neutral\"\n",
    "print(f\"Overall Sentiment:{sentiment_label}\")"
   ]
  },
  {
   "cell_type": "code",
   "execution_count": 9,
   "id": "27638b2e-5248-4ce8-a3c0-ea7ffa64fa95",
   "metadata": {},
   "outputs": [
    {
     "data": {
      "image/png": "[encoded data removed]",
      "text/plain": [
       "<Figure size 640x480 with 1 Axes>"
      ]
     },
     "metadata": {},
     "output_type": "display_data"
    }
   ],
   "source": [
    "#Visualizing sentiment Distribution\n",
    "import seaborn as sns\n",
    "import matplotlib.pyplot as plt\n",
    "sentiments=[0.2,-0.5,0.8,-0.1,0.4]\n",
    "labels=[\"Positive\" if s>0 else \"Negative\" if s<0 else \"Neutral\" for s in sentiments]\n",
    "sns.countplot(x=labels,palette=\"coolwarm\")\n",
    "plt.title(\"News Article Sentiment Distribution\")\n",
    "plt.xlabel(\"Sentiment\")\n",
    "plt.ylabel(\"News Articles\")\n",
    "plt.show()"
   ]
  },
  {
   "cell_type": "code",
   "execution_count": 10,
   "id": "b8b4f166-61ab-4757-8d58-2cd67ae6636b",
   "metadata": {},
   "outputs": [],
   "source": [
    "#TextBlob gives a simple sentiment score based on popularity\n",
    "#VADER(from NLTK) is better suited for short texts like headlines or news articles\n",
    "#Deep learning like BERT can be used for more accurate sentiment classification\n"
   ]
  },
  {
   "cell_type": "code",
   "execution_count": null,
   "id": "b069264b-8490-4b5d-bac8-942a234592d6",
   "metadata": {},
   "outputs": [],
   "source": []
  }
 ],
 "metadata": {
  "kernelspec": {
   "display_name": "Python 3 (ipykernel)",
   "language": "python",
   "name": "python3"
  },
  "language_info": {
   "codemirror_mode": {
    "name": "ipython",
    "version": 3
   },
   "file_extension": ".py",
   "mimetype": "text/x-python",
   "name": "python",
   "nbconvert_exporter": "python",
   "pygments_lexer": "ipython3",
   "version": "3.11.7"
  }
 },
 "nbformat": 4,
 "nbformat_minor": 5
}
