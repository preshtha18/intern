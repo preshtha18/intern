{
 "cells": [
  {
   "cell_type": "code",
   "execution_count": 3,
   "id": "52267ab7-4c84-407c-b018-d0345739678b",
   "metadata": {},
   "outputs": [
    {
     "name": "stdout",
     "output_type": "stream",
     "text": [
      "300\n"
     ]
    }
   ],
   "source": [
    "#Local scope\n",
    "def myfunc():\n",
    "    x=300\n",
    "    print(x)\n",
    "myfunc()"
   ]
  },
  {
   "cell_type": "code",
   "execution_count": 4,
   "id": "9139da89-a0a0-4d21-b97a-95655571e994",
   "metadata": {},
   "outputs": [
    {
     "name": "stdout",
     "output_type": "stream",
     "text": [
      "300\n"
     ]
    }
   ],
   "source": [
    "#Function inside function\n",
    "def mufunc():\n",
    "    x=300\n",
    "def myinnerfunc():\n",
    "    print(x)\n",
    "    myinnerfunc()\n",
    "myfunc()"
   ]
  },
  {
   "cell_type": "code",
   "execution_count": 6,
   "id": "c0c7e3fb-4dc9-4457-8300-09db77c7e9b6",
   "metadata": {},
   "outputs": [
    {
     "name": "stdout",
     "output_type": "stream",
     "text": [
      "300\n"
     ]
    }
   ],
   "source": [
    "#global scope\n",
    "x=300\n",
    "def myfunc():\n",
    "    print(x)\n",
    "    myfunc()\n",
    "\n",
    "print(x)"
   ]
  },
  {
   "cell_type": "code",
   "execution_count": 7,
   "id": "77e9c872-6b24-417f-afbb-b72603f51c80",
   "metadata": {},
   "outputs": [
    {
     "name": "stdout",
     "output_type": "stream",
     "text": [
      "300\n"
     ]
    }
   ],
   "source": [
    "#Naming variable\n",
    "x=300\n",
    "def myfunc():\n",
    "    x=200\n",
    "    print(x)\n",
    "    myfunc()\n",
    "print(x)"
   ]
  },
  {
   "cell_type": "code",
   "execution_count": 9,
   "id": "0ef58923-8955-405d-88a0-137446d5bcc6",
   "metadata": {},
   "outputs": [
    {
     "name": "stdout",
     "output_type": "stream",
     "text": [
      "300\n"
     ]
    }
   ],
   "source": [
    "#Global keyword\n",
    "def myfunc():\n",
    "    global x\n",
    "    x=300\n",
    "myfunc()\n",
    "print(x)"
   ]
  },
  {
   "cell_type": "code",
   "execution_count": 10,
   "id": "5ea470e1-a94d-44b1-8831-283684b09815",
   "metadata": {},
   "outputs": [
    {
     "name": "stdout",
     "output_type": "stream",
     "text": [
      "Jane\n"
     ]
    }
   ],
   "source": [
    "#Nonlocal keyword\n",
    "def myfunc1():\n",
    "    x=\"Jane\"\n",
    "    def myfunc2():\n",
    "        x=\"Hello\"\n",
    "    myfunc2()\n",
    "    return x\n",
    "print(myfunc1())\n",
    "    "
   ]
  },
  {
   "cell_type": "code",
   "execution_count": null,
   "id": "e40d5a86-a5e3-485d-83e3-d76fd7bc6739",
   "metadata": {},
   "outputs": [],
   "source": []
  }
 ],
 "metadata": {
  "kernelspec": {
   "display_name": "Python 3 (ipykernel)",
   "language": "python",
   "name": "python3"
  },
  "language_info": {
   "codemirror_mode": {
    "name": "ipython",
    "version": 3
   },
   "file_extension": ".py",
   "mimetype": "text/x-python",
   "name": "python",
   "nbconvert_exporter": "python",
   "pygments_lexer": "ipython3",
   "version": "3.11.7"
  }
 },
 "nbformat": 4,
 "nbformat_minor": 5
}
