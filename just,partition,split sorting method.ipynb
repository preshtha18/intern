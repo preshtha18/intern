{
 "cells": [
  {
   "cell_type": "code",
   "execution_count": 1,
   "id": "2c7ba3d0-5467-4f1e-8026-ca582a70e104",
   "metadata": {},
   "outputs": [
    {
     "name": "stdout",
     "output_type": "stream",
     "text": [
      "              banana is my favorite fruit.\n"
     ]
    }
   ],
   "source": [
    "#rjust()\n",
    "txt=\"banana\"\n",
    "x=txt.rjust(20)\n",
    "print(x,\"is my favorite fruit.\")"
   ]
  },
  {
   "cell_type": "code",
   "execution_count": 2,
   "id": "12d7af81-e504-449e-9a5e-ca3a2c64d5f8",
   "metadata": {},
   "outputs": [
    {
     "name": "stdout",
     "output_type": "stream",
     "text": [
      "OOOOOOOOOOOOOObanana\n"
     ]
    }
   ],
   "source": [
    "#rjust()\n",
    "txt=\"banana\"\n",
    "x=txt.rjust(20,\"O\")\n",
    "print(x)"
   ]
  },
  {
   "cell_type": "code",
   "execution_count": 4,
   "id": "c7224938-7172-4829-8da1-0d2d298b4378",
   "metadata": {},
   "outputs": [
    {
     "name": "stdout",
     "output_type": "stream",
     "text": [
      "('I could eat bananas all day, ', 'bananas', ' are my favorite fruit')\n"
     ]
    }
   ],
   "source": [
    "#rpartition()\n",
    "txt=\"I could eat bananas all day, bananas are my favorite fruit\"\n",
    "x=txt.rpartition(\"bananas\")\n",
    "print(x)\n"
   ]
  },
  {
   "cell_type": "code",
   "execution_count": 5,
   "id": "b8c20492-df8b-4b97-acc2-9f8f810900e1",
   "metadata": {},
   "outputs": [
    {
     "name": "stdout",
     "output_type": "stream",
     "text": [
      "('', '', 'I could eat bananas all day, bananas are my favorite fruit')\n"
     ]
    }
   ],
   "source": [
    "#rpartition()\n",
    "txt=\"I could eat bananas all day, bananas are my favorite fruit\"\n",
    "x=txt.rpartition(\"apples\")\n",
    "print(x)"
   ]
  },
  {
   "cell_type": "code",
   "execution_count": 6,
   "id": "ae148db9-f7af-49ea-96ef-7fc978bdd509",
   "metadata": {},
   "outputs": [
    {
     "name": "stdout",
     "output_type": "stream",
     "text": [
      "['apple,banana,cherry']\n"
     ]
    }
   ],
   "source": [
    "#rsplit()\n",
    "txt=\"apple,banana,cherry\"\n",
    "x=txt.rsplit(\", \")\n",
    "print(x)"
   ]
  },
  {
   "cell_type": "code",
   "execution_count": 7,
   "id": "753dd9d0-55ee-4a35-9eb6-6ed72e6c20ea",
   "metadata": {},
   "outputs": [
    {
     "name": "stdout",
     "output_type": "stream",
     "text": [
      "['apple,banana', 'cherry']\n"
     ]
    }
   ],
   "source": [
    "#split\n",
    "txt=\"apple,banana,cherry\"\n",
    "x=txt.rsplit(\",\",1)\n",
    "print(x)"
   ]
  },
  {
   "cell_type": "code",
   "execution_count": null,
   "id": "51069188-c4ef-4f03-abb4-e45fe56ec51e",
   "metadata": {},
   "outputs": [],
   "source": []
  }
 ],
 "metadata": {
  "kernelspec": {
   "display_name": "Python 3 (ipykernel)",
   "language": "python",
   "name": "python3"
  },
  "language_info": {
   "codemirror_mode": {
    "name": "ipython",
    "version": 3
   },
   "file_extension": ".py",
   "mimetype": "text/x-python",
   "name": "python",
   "nbconvert_exporter": "python",
   "pygments_lexer": "ipython3",
   "version": "3.11.7"
  }
 },
 "nbformat": 4,
 "nbformat_minor": 5
}
