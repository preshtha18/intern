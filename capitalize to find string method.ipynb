{
 "cells": [
  {
   "cell_type": "code",
   "execution_count": 3,
   "id": "6538f1b9-f646-40d4-9d40-368ca5d1847b",
   "metadata": {},
   "outputs": [
    {
     "name": "stdout",
     "output_type": "stream",
     "text": [
      "Hello, and welcome to my world\n"
     ]
    }
   ],
   "source": [
    "#capitalize()\n",
    "txt=\"hello, and welcome to my WORLD\"\n",
    "x=txt.capitalize()\n",
    "print(x)"
   ]
  },
  {
   "cell_type": "code",
   "execution_count": 4,
   "id": "923c787c-c8dd-4a3c-92ac-f69584ac64f4",
   "metadata": {},
   "outputs": [
    {
     "name": "stdout",
     "output_type": "stream",
     "text": [
      "hello, and welcome to my world!\n"
     ]
    }
   ],
   "source": [
    "#Casefold()\n",
    "txt=\"Hello, And Welcome To My World!\"\n",
    "x=txt.casefold()\n",
    "print(x)"
   ]
  },
  {
   "cell_type": "code",
   "execution_count": 5,
   "id": "e8314382-1368-446c-b19a-fe5a59e94b58",
   "metadata": {},
   "outputs": [
    {
     "name": "stdout",
     "output_type": "stream",
     "text": [
      "            banana            \n"
     ]
    }
   ],
   "source": [
    "#center\n",
    "txt=\"banana\"\n",
    "x=txt.center(30)\n",
    "print(x)"
   ]
  },
  {
   "cell_type": "code",
   "execution_count": 7,
   "id": "18ac4b61-8a7d-4a4c-b07b-16a2d65eefe0",
   "metadata": {},
   "outputs": [
    {
     "name": "stdout",
     "output_type": "stream",
     "text": [
      "2\n"
     ]
    }
   ],
   "source": [
    "#count\n",
    "txt=\" I love python, python is awesome\"\n",
    "x=txt.count(\"python\")\n",
    "print(x)"
   ]
  },
  {
   "cell_type": "code",
   "execution_count": 8,
   "id": "11cbe87f-f5fe-4892-8b13-6ce9f407b846",
   "metadata": {},
   "outputs": [
    {
     "name": "stdout",
     "output_type": "stream",
     "text": [
      "b'My name is John'\n"
     ]
    }
   ],
   "source": [
    "#encode\n",
    "txt=\"My name is John\"\n",
    "x=txt.encode()\n",
    "print(x)"
   ]
  },
  {
   "cell_type": "code",
   "execution_count": 10,
   "id": "98168f5d-aee2-4a3a-9d17-24f2ced47050",
   "metadata": {},
   "outputs": [
    {
     "name": "stdout",
     "output_type": "stream",
     "text": [
      "False\n"
     ]
    }
   ],
   "source": [
    "#endswith\n",
    "txt=\"Hello,welcome to my world\"\n",
    "x=txt.endswith(\".\")\n",
    "print(x)"
   ]
  },
  {
   "cell_type": "code",
   "execution_count": 11,
   "id": "21689615-732a-4894-aaa8-eec2d2b6d481",
   "metadata": {},
   "outputs": [
    {
     "name": "stdout",
     "output_type": "stream",
     "text": [
      "False\n"
     ]
    }
   ],
   "source": [
    "txt = \"Hello, welcome to my world.\"\n",
    "x = txt.endswith(\"my world.\", 5, 11)\n",
    "print(x)\n"
   ]
  },
  {
   "cell_type": "code",
   "execution_count": 12,
   "id": "9c8c1b80-0434-4ca7-93b4-a754b2829d6e",
   "metadata": {},
   "outputs": [
    {
     "name": "stdout",
     "output_type": "stream",
     "text": [
      "H e l l o\n"
     ]
    }
   ],
   "source": [
    "#expandtabs\n",
    "txt=\"H\\te\\tl\\tl\\to\"\n",
    "x=txt.expandtabs(2)\n",
    "print(x)"
   ]
  },
  {
   "cell_type": "code",
   "execution_count": 14,
   "id": "16c0fc52-059c-4053-a15c-e67cf9be22bc",
   "metadata": {},
   "outputs": [
    {
     "name": "stdout",
     "output_type": "stream",
     "text": [
      "H\te\tl\tl\to\n",
      "H       e       l       l       o\n",
      "H e l l o\n",
      "H   e   l   l   o\n",
      "H         e         l         l         o\n"
     ]
    }
   ],
   "source": [
    "txt=\"H\\te\\tl\\tl\\to\"\n",
    "print(txt)\n",
    "print(txt.expandtabs())\n",
    "print(txt.expandtabs(2))\n",
    "print(txt.expandtabs(4))\n",
    "print(txt.expandtabs(10))"
   ]
  },
  {
   "cell_type": "code",
   "execution_count": 15,
   "id": "6715d78d-54cd-4fbc-bbbb-e457f30f95ca",
   "metadata": {},
   "outputs": [
    {
     "name": "stdout",
     "output_type": "stream",
     "text": [
      "7\n"
     ]
    }
   ],
   "source": [
    "#find()\n",
    "txt=\"Hello, welcome to my world.\"\n",
    "x=txt.find(\"welcome\")\n",
    "print(x)"
   ]
  },
  {
   "cell_type": "code",
   "execution_count": 16,
   "id": "bdb34d1d-1bb1-487d-bf09-1fc98ad93461",
   "metadata": {},
   "outputs": [
    {
     "name": "stdout",
     "output_type": "stream",
     "text": [
      "For only 49.00 dollars!\n"
     ]
    }
   ],
   "source": [
    "#format()\n",
    "txt=\"For only {price:.2f} dollars!\"\n",
    "print(txt.format(price=49))"
   ]
  },
  {
   "cell_type": "code",
   "execution_count": 17,
   "id": "81759ba6-f14d-4967-b3a7-f8b1e1ce4685",
   "metadata": {},
   "outputs": [
    {
     "name": "stdout",
     "output_type": "stream",
     "text": [
      "we have 49       chickens.\n"
     ]
    }
   ],
   "source": [
    "#left aligns the result\n",
    "txt=\"we have {:<8} chickens.\"\n",
    "print(txt.format(49))\n"
   ]
  },
  {
   "cell_type": "code",
   "execution_count": 18,
   "id": "daedbb96-a87e-4ba4-a52a-734d51b22d0e",
   "metadata": {},
   "outputs": [
    {
     "name": "stdout",
     "output_type": "stream",
     "text": [
      "we have       49 chickens.\n"
     ]
    }
   ],
   "source": [
    "#right aligns the result\n",
    "txt=\"we have {:>8} chickens.\"\n",
    "print(txt.format(49))"
   ]
  },
  {
   "cell_type": "code",
   "execution_count": 19,
   "id": "26d688c5-4187-4837-a5eb-4111c75c78d6",
   "metadata": {},
   "outputs": [
    {
     "name": "stdout",
     "output_type": "stream",
     "text": [
      "we have    49    chickens.\n"
     ]
    }
   ],
   "source": [
    "#center aligns the result \n",
    "txt=\"we have {:^8} chickens.\"\n",
    "print(txt.format(49))"
   ]
  },
  {
   "cell_type": "code",
   "execution_count": 20,
   "id": "8c0c9ca2-994f-476b-8e9c-e432f1d0da7b",
   "metadata": {},
   "outputs": [
    {
     "name": "stdout",
     "output_type": "stream",
     "text": [
      "The temperature is -      5 degrees celsius.\n"
     ]
    }
   ],
   "source": [
    "#places the sign to the left most position\n",
    "txt=\"The temperature is {:=8} degrees celsius.\"\n",
    "print(txt.format(-5))\n"
   ]
  },
  {
   "cell_type": "code",
   "execution_count": 21,
   "id": "b7c184d8-901d-44b7-adcd-e3de7c3d9134",
   "metadata": {},
   "outputs": [
    {
     "name": "stdout",
     "output_type": "stream",
     "text": [
      "The temperature is between -3 and +7 degree celsius.\n"
     ]
    }
   ],
   "source": [
    "#use a plus sign to indicate if the result is positive or negative\n",
    "txt=\"The temperature is between {:+} and {:+} degree celsius.\"\n",
    "print(txt.format(-3,7))"
   ]
  },
  {
   "cell_type": "code",
   "execution_count": 22,
   "id": "d9fb2cd0-9869-41e8-b398-2965c97286e2",
   "metadata": {},
   "outputs": [
    {
     "name": "stdout",
     "output_type": "stream",
     "text": [
      "The temperature is between -3 and 7 degree celsius.\n"
     ]
    }
   ],
   "source": [
    "#use minus sign for negative values only \n",
    "txt=\"The temperature is between {:-} and {:-} degree celsius.\"\n",
    "print(txt.format(-3,7))"
   ]
  },
  {
   "cell_type": "code",
   "execution_count": 23,
   "id": "456494aa-8f4d-469b-95fd-9da4ea2f5e66",
   "metadata": {},
   "outputs": [
    {
     "name": "stdout",
     "output_type": "stream",
     "text": [
      "The temperature is between -3 and  7 degree celsius.\n"
     ]
    }
   ],
   "source": [
    "#use a space to insert an extra space before positive numbers(and a minus sign before negative numbers)\n",
    "txt=\"The temperature is between {: } and {: } degree celsius.\"\n",
    "print(txt.format(-3,7))"
   ]
  },
  {
   "cell_type": "code",
   "execution_count": 24,
   "id": "942c6f5d-f7ac-43cd-9991-1ad5be708823",
   "metadata": {},
   "outputs": [
    {
     "name": "stdout",
     "output_type": "stream",
     "text": [
      "The universe is 13,800,000,000 years old.\n"
     ]
    }
   ],
   "source": [
    "#use a comma as a thousand  separator\n",
    "txt=\"The universe is {:,} years old.\"\n",
    "print(txt.format(13800000000))"
   ]
  },
  {
   "cell_type": "code",
   "execution_count": 25,
   "id": "f0464127-6954-4d45-851d-a487456005f9",
   "metadata": {},
   "outputs": [
    {
     "name": "stdout",
     "output_type": "stream",
     "text": [
      "The universe is 13_800_000_000 years old.\n"
     ]
    }
   ],
   "source": [
    "#use a underscore as a thousand separator\n",
    "txt=\"The universe is {:_} years old.\"\n",
    "print(txt.format(13800000000))\n"
   ]
  },
  {
   "cell_type": "code",
   "execution_count": 26,
   "id": "fa6ca037-650a-450b-ac57-1af525e93217",
   "metadata": {},
   "outputs": [
    {
     "name": "stdout",
     "output_type": "stream",
     "text": [
      "The binary version of 5 is 101\n"
     ]
    }
   ],
   "source": [
    "#binary format\n",
    "txt=\"The binary version of {0} is {0:b}\"\n",
    "print(txt.format(5))"
   ]
  },
  {
   "cell_type": "code",
   "execution_count": 27,
   "id": "4fc00545-fe3b-4fe1-8a6e-066ce2991095",
   "metadata": {},
   "outputs": [
    {
     "name": "stdout",
     "output_type": "stream",
     "text": [
      "We have 5 chickens.\n"
     ]
    }
   ],
   "source": [
    "#decimal format\n",
    "txt=\"We have {:d} chickens.\"\n",
    "print(txt.format(0b101))"
   ]
  },
  {
   "cell_type": "code",
   "execution_count": 28,
   "id": "ddd6589e-f8d9-441f-8138-051ef7689c3d",
   "metadata": {},
   "outputs": [
    {
     "name": "stdout",
     "output_type": "stream",
     "text": [
      "We have 5.000000e+00 chickens.\n"
     ]
    }
   ],
   "source": [
    "#scientific format, with a lower case e\n",
    "txt=\"We have {:e} chickens.\"\n",
    "print(txt.format(5))"
   ]
  },
  {
   "cell_type": "code",
   "execution_count": 29,
   "id": "37314a0c-c262-48dc-aaf5-09de34847d6d",
   "metadata": {},
   "outputs": [
    {
     "name": "stdout",
     "output_type": "stream",
     "text": [
      "We have 5.000000E+00 chickens.\n"
     ]
    }
   ],
   "source": [
    "#scientific format, with a upper case E\n",
    "txt=\"We have {:E} chickens.\"\n",
    "print(txt.format(5))"
   ]
  },
  {
   "cell_type": "code",
   "execution_count": 30,
   "id": "b3c6d9d8-6167-4c61-ae68-7105179ef2ad",
   "metadata": {},
   "outputs": [
    {
     "name": "stdout",
     "output_type": "stream",
     "text": [
      "The octal version of 10 is 12\n"
     ]
    }
   ],
   "source": [
    "# octal format\n",
    "txt=\"The octal version of {0} is {0:o}\"\n",
    "print(txt.format(10))"
   ]
  },
  {
   "cell_type": "code",
   "execution_count": 31,
   "id": "d5b2f285-66fe-4cfd-81a9-c517ce0e0c06",
   "metadata": {},
   "outputs": [
    {
     "name": "stdout",
     "output_type": "stream",
     "text": [
      "The Hexadecimal version of 255 is ff\n"
     ]
    }
   ],
   "source": [
    "#hex format lower case\n",
    "txt=\"The Hexadecimal version of {0} is {0:x}\"\n",
    "print(txt.format(255))"
   ]
  },
  {
   "cell_type": "code",
   "execution_count": 32,
   "id": "c587e2e4-490e-4b51-b18a-71c81c97c730",
   "metadata": {},
   "outputs": [
    {
     "name": "stdout",
     "output_type": "stream",
     "text": [
      "The Hexadecimal version of 255 is FF\n"
     ]
    }
   ],
   "source": [
    "#hex format upper case\n",
    "txt=\"The Hexadecimal version of {0} is {0:X}\"\n",
    "print(txt.format(255))"
   ]
  },
  {
   "cell_type": "code",
   "execution_count": 33,
   "id": "ed8309ad-e3b6-49af-9acb-3cc72b6baf25",
   "metadata": {},
   "outputs": [
    {
     "name": "stdout",
     "output_type": "stream",
     "text": [
      "You scored 25.000000%\n",
      "You scored 25%\n"
     ]
    }
   ],
   "source": [
    "#Percentage format\n",
    "txt=\"You scored {:%}\"\n",
    "print(txt.format(0.25))\n",
    "txt=\"You scored {:.0%}\"\n",
    "print(txt.format(0.25))"
   ]
  },
  {
   "cell_type": "code",
   "execution_count": null,
   "id": "7774eea3-a460-4e1f-9f58-15f052a73e80",
   "metadata": {},
   "outputs": [],
   "source": []
  }
 ],
 "metadata": {
  "kernelspec": {
   "display_name": "Python 3 (ipykernel)",
   "language": "python",
   "name": "python3"
  },
  "language_info": {
   "codemirror_mode": {
    "name": "ipython",
    "version": 3
   },
   "file_extension": ".py",
   "mimetype": "text/x-python",
   "name": "python",
   "nbconvert_exporter": "python",
   "pygments_lexer": "ipython3",
   "version": "3.11.7"
  }
 },
 "nbformat": 4,
 "nbformat_minor": 5
}
