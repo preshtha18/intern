{
 "cells": [
  {
   "cell_type": "code",
   "execution_count": 2,
   "id": "b90e92d5-e05a-4c5f-9003-ae4fda1a48c9",
   "metadata": {},
   "outputs": [
    {
     "name": "stdout",
     "output_type": "stream",
     "text": [
      "15\n"
     ]
    }
   ],
   "source": [
    "#addition\n",
    "print(10+5)"
   ]
  },
  {
   "cell_type": "code",
   "execution_count": 3,
   "id": "05800de8-f6e3-4e6d-8be3-0259bd7e710e",
   "metadata": {},
   "outputs": [
    {
     "name": "stdout",
     "output_type": "stream",
     "text": [
      "3\n"
     ]
    }
   ],
   "source": [
    "#subtraction\n",
    "x=5\n",
    "y=2\n",
    "print(x-y)"
   ]
  },
  {
   "cell_type": "code",
   "execution_count": 4,
   "id": "c1b4749d-616d-45d2-a601-b746a7105992",
   "metadata": {},
   "outputs": [
    {
     "name": "stdout",
     "output_type": "stream",
     "text": [
      "10\n"
     ]
    }
   ],
   "source": [
    "#multiplication\n",
    "x=5\n",
    "y=2\n",
    "print(x*y)"
   ]
  },
  {
   "cell_type": "code",
   "execution_count": 5,
   "id": "c032939a-c655-46a7-83a5-1e76511022f3",
   "metadata": {},
   "outputs": [
    {
     "name": "stdout",
     "output_type": "stream",
     "text": [
      "2.5\n"
     ]
    }
   ],
   "source": [
    "#division\n",
    "x=5\n",
    "y=2\n",
    "print(x/y)"
   ]
  },
  {
   "cell_type": "code",
   "execution_count": 6,
   "id": "f900cca2-577f-4ee4-88f9-d574518835ab",
   "metadata": {},
   "outputs": [
    {
     "name": "stdout",
     "output_type": "stream",
     "text": [
      "1\n"
     ]
    }
   ],
   "source": [
    "#moduls\n",
    "x=5\n",
    "y=2\n",
    "print(x%y)"
   ]
  },
  {
   "cell_type": "code",
   "execution_count": 7,
   "id": "e57aaec6-5eeb-4770-91a3-c6a3a5d72844",
   "metadata": {},
   "outputs": [
    {
     "name": "stdout",
     "output_type": "stream",
     "text": [
      "32\n"
     ]
    }
   ],
   "source": [
    "#Exponentiation\n",
    "x=2\n",
    "y=5\n",
    "print(x**y)"
   ]
  },
  {
   "cell_type": "code",
   "execution_count": 8,
   "id": "747be063-0d75-4c71-9091-48a5e9be4452",
   "metadata": {},
   "outputs": [
    {
     "name": "stdout",
     "output_type": "stream",
     "text": [
      "7\n"
     ]
    }
   ],
   "source": [
    "#floor division\n",
    "x=15\n",
    "y=2\n",
    "print(x//y)"
   ]
  },
  {
   "cell_type": "code",
   "execution_count": 9,
   "id": "8878f968-6d34-4f46-8097-325b67f62b70",
   "metadata": {},
   "outputs": [
    {
     "name": "stdout",
     "output_type": "stream",
     "text": [
      "5\n"
     ]
    }
   ],
   "source": [
    "#python assignment operator\n",
    "#=\n",
    "x=5\n",
    "print(x)"
   ]
  },
  {
   "cell_type": "code",
   "execution_count": 10,
   "id": "fb198d8a-3f91-4e31-a7c7-635c16173aab",
   "metadata": {},
   "outputs": [
    {
     "name": "stdout",
     "output_type": "stream",
     "text": [
      "8\n"
     ]
    }
   ],
   "source": [
    "#+=\n",
    "x=5\n",
    "x+=3\n",
    "print(x)"
   ]
  },
  {
   "cell_type": "code",
   "execution_count": 11,
   "id": "d1ee5e8d-c296-4243-b220-2c45711e52d8",
   "metadata": {},
   "outputs": [
    {
     "name": "stdout",
     "output_type": "stream",
     "text": [
      "2\n"
     ]
    }
   ],
   "source": [
    "#-=\n",
    "x=5\n",
    "x-=3\n",
    "print(x)"
   ]
  },
  {
   "cell_type": "code",
   "execution_count": 12,
   "id": "8b318633-74a4-41fb-9c6f-87049ce0761e",
   "metadata": {},
   "outputs": [
    {
     "name": "stdout",
     "output_type": "stream",
     "text": [
      "15\n"
     ]
    }
   ],
   "source": [
    "#*=\n",
    "x=5\n",
    "x*=3\n",
    "print(x)"
   ]
  },
  {
   "cell_type": "code",
   "execution_count": 13,
   "id": "b670b811-920c-4af8-803b-c6f063ab1568",
   "metadata": {},
   "outputs": [
    {
     "name": "stdout",
     "output_type": "stream",
     "text": [
      "1.6666666666666667\n"
     ]
    }
   ],
   "source": [
    "#/=\n",
    "x=5\n",
    "x/=3\n",
    "print(x)"
   ]
  },
  {
   "cell_type": "code",
   "execution_count": 14,
   "id": "4091aa83-2345-4f6a-b1aa-35661e0d142a",
   "metadata": {},
   "outputs": [
    {
     "name": "stdout",
     "output_type": "stream",
     "text": [
      "2\n"
     ]
    }
   ],
   "source": [
    "#%=\n",
    "x=5\n",
    "x%=3\n",
    "print(x)"
   ]
  },
  {
   "cell_type": "code",
   "execution_count": 15,
   "id": "36f6d6d2-6bb5-4f7d-a0fc-cdfc7a04e77c",
   "metadata": {},
   "outputs": [
    {
     "name": "stdout",
     "output_type": "stream",
     "text": [
      "1\n"
     ]
    }
   ],
   "source": [
    "#//=\n",
    "x=5\n",
    "x//=3\n",
    "print(x)"
   ]
  },
  {
   "cell_type": "code",
   "execution_count": 16,
   "id": "4cd1d1e4-0b96-4b22-a62b-85e78c600442",
   "metadata": {},
   "outputs": [
    {
     "name": "stdout",
     "output_type": "stream",
     "text": [
      "125\n"
     ]
    }
   ],
   "source": [
    "#**=\n",
    "x=5\n",
    "x**=3\n",
    "print(x)"
   ]
  },
  {
   "cell_type": "code",
   "execution_count": 18,
   "id": "25f58880-ee09-4bfc-91df-0c217c574acc",
   "metadata": {},
   "outputs": [
    {
     "name": "stdout",
     "output_type": "stream",
     "text": [
      "1\n"
     ]
    }
   ],
   "source": [
    "#&=\n",
    "x=5\n",
    "x&=3\n",
    "print(x)"
   ]
  },
  {
   "cell_type": "code",
   "execution_count": 19,
   "id": "0451149d-a5c6-4120-befd-99a22c5534b4",
   "metadata": {},
   "outputs": [
    {
     "name": "stdout",
     "output_type": "stream",
     "text": [
      "7\n"
     ]
    }
   ],
   "source": [
    "#|=\n",
    "x=5\n",
    "x|=3\n",
    "print(x)"
   ]
  },
  {
   "cell_type": "code",
   "execution_count": 20,
   "id": "beaae021-5eb4-4a05-8f0c-9d4b5125d18a",
   "metadata": {},
   "outputs": [
    {
     "name": "stdout",
     "output_type": "stream",
     "text": [
      "6\n"
     ]
    }
   ],
   "source": [
    "#^=\n",
    "x=5\n",
    "x^=3\n",
    "print(x)"
   ]
  },
  {
   "cell_type": "code",
   "execution_count": 21,
   "id": "815f28b0-f1ca-4c24-a5a0-e623954172ea",
   "metadata": {},
   "outputs": [
    {
     "name": "stdout",
     "output_type": "stream",
     "text": [
      "0\n"
     ]
    }
   ],
   "source": [
    "#>>=\n",
    "x=5\n",
    "x>>=3\n",
    "print(x)"
   ]
  },
  {
   "cell_type": "code",
   "execution_count": 22,
   "id": "84424063-cba0-460a-a97e-1b18673dfac2",
   "metadata": {},
   "outputs": [
    {
     "name": "stdout",
     "output_type": "stream",
     "text": [
      "40\n"
     ]
    }
   ],
   "source": [
    "#<<=\n",
    "x=5\n",
    "x<<=3\n",
    "print(x)"
   ]
  },
  {
   "cell_type": "code",
   "execution_count": 24,
   "id": "c173a255-9ff6-4f52-956e-b44879458da8",
   "metadata": {},
   "outputs": [
    {
     "name": "stdout",
     "output_type": "stream",
     "text": [
      "3\n"
     ]
    }
   ],
   "source": [
    "#:=\n",
    "print(x:=3)"
   ]
  },
  {
   "cell_type": "code",
   "execution_count": 25,
   "id": "2980d254-0549-4b50-bc9e-c8f49eeaedb4",
   "metadata": {},
   "outputs": [
    {
     "name": "stdout",
     "output_type": "stream",
     "text": [
      "False\n"
     ]
    }
   ],
   "source": [
    "#python comparison operator\n",
    "#== equal\n",
    "x=5\n",
    "y=3\n",
    "print(x==y)"
   ]
  },
  {
   "cell_type": "code",
   "execution_count": 26,
   "id": "55624770-77a7-4935-9fbd-20d60af7ec0d",
   "metadata": {},
   "outputs": [
    {
     "name": "stdout",
     "output_type": "stream",
     "text": [
      "True\n"
     ]
    }
   ],
   "source": [
    "#!= not equal\n",
    "x=5\n",
    "y=3\n",
    "print(x!=y)"
   ]
  },
  {
   "cell_type": "code",
   "execution_count": 27,
   "id": "4789e8de-252a-4964-8251-6ced3cc46d4d",
   "metadata": {},
   "outputs": [
    {
     "name": "stdout",
     "output_type": "stream",
     "text": [
      "True\n"
     ]
    }
   ],
   "source": [
    "#> greater than\n",
    "x=5\n",
    "y=3\n",
    "print(x>y)"
   ]
  },
  {
   "cell_type": "code",
   "execution_count": 28,
   "id": "547ee4c9-7b5c-4509-b732-37495d66d5f8",
   "metadata": {},
   "outputs": [
    {
     "name": "stdout",
     "output_type": "stream",
     "text": [
      "False\n"
     ]
    }
   ],
   "source": [
    "#< less than\n",
    "x=5\n",
    "y=3\n",
    "print(x<y)"
   ]
  },
  {
   "cell_type": "code",
   "execution_count": 29,
   "id": "81ceaaaa-c27c-4f81-8bfe-12d9e98a408a",
   "metadata": {},
   "outputs": [
    {
     "name": "stdout",
     "output_type": "stream",
     "text": [
      "True\n"
     ]
    }
   ],
   "source": [
    "#>= greater than or equal to\n",
    "x=5\n",
    "y=3\n",
    "print(x>=y)"
   ]
  },
  {
   "cell_type": "code",
   "execution_count": 30,
   "id": "ed34b65a-44b8-4749-833a-bb88d49d23ba",
   "metadata": {},
   "outputs": [
    {
     "name": "stdout",
     "output_type": "stream",
     "text": [
      "False\n"
     ]
    }
   ],
   "source": [
    "#<= less than or equal to \n",
    "x=5\n",
    "y=3\n",
    "print(x<=y)"
   ]
  },
  {
   "cell_type": "code",
   "execution_count": 31,
   "id": "359fd7a6-d09e-4276-b590-60d0931bf81e",
   "metadata": {},
   "outputs": [
    {
     "name": "stdout",
     "output_type": "stream",
     "text": [
      "True\n"
     ]
    }
   ],
   "source": [
    "#python logical operator \n",
    "#AND\n",
    "x=5\n",
    "print(x>3 and x<10)"
   ]
  },
  {
   "cell_type": "code",
   "execution_count": 32,
   "id": "1dd0c691-3848-4bf4-93ff-8d50f6e73c4f",
   "metadata": {},
   "outputs": [
    {
     "name": "stdout",
     "output_type": "stream",
     "text": [
      "True\n"
     ]
    }
   ],
   "source": [
    "#OR\n",
    "x=5\n",
    "print(x>3 or x<10)"
   ]
  },
  {
   "cell_type": "code",
   "execution_count": 34,
   "id": "2a19cba5-b20a-4d88-bd5d-ef8a6133fad2",
   "metadata": {},
   "outputs": [
    {
     "name": "stdout",
     "output_type": "stream",
     "text": [
      "False\n"
     ]
    }
   ],
   "source": [
    "#NOT\n",
    "x=5\n",
    "print(not(x>3 and x<10))"
   ]
  },
  {
   "cell_type": "code",
   "execution_count": 35,
   "id": "af85f191-f978-46d2-a686-8df03dfa3d86",
   "metadata": {},
   "outputs": [
    {
     "name": "stdout",
     "output_type": "stream",
     "text": [
      "False\n",
      "False\n",
      "True\n"
     ]
    }
   ],
   "source": [
    "#python identity operator \n",
    "#is\n",
    "x=[\"apple\",\"bananas\"]\n",
    "y=[\"apple\",\"bananas\"]\n",
    "z=x\n",
    "print(x is y)\n",
    "print(y is z)\n",
    "print(x==y)"
   ]
  },
  {
   "cell_type": "code",
   "execution_count": 36,
   "id": "1bbfeae7-c19c-4286-9a64-3d24e05c0fb5",
   "metadata": {},
   "outputs": [
    {
     "name": "stdout",
     "output_type": "stream",
     "text": [
      "True\n",
      "True\n",
      "False\n"
     ]
    }
   ],
   "source": [
    "# is not\n",
    "x=[\"apple\",\"bananas\"]\n",
    "y=[\"apple\",\"bananas\"]\n",
    "z=x\n",
    "print(x is not y)\n",
    "print(x is not y)\n",
    "print(x!=y)"
   ]
  },
  {
   "cell_type": "code",
   "execution_count": 37,
   "id": "ffffd3cd-f72a-434f-a6ea-08b934fd5cd3",
   "metadata": {},
   "outputs": [
    {
     "name": "stdout",
     "output_type": "stream",
     "text": [
      "True\n"
     ]
    }
   ],
   "source": [
    "#python membership operator\n",
    "#in\n",
    "x=[\"apple\",\"bananas\"]\n",
    "print(\"bananas\" in x)"
   ]
  },
  {
   "cell_type": "code",
   "execution_count": 40,
   "id": "3f4d6d37-55ab-42ad-960b-05a8cde72367",
   "metadata": {},
   "outputs": [
    {
     "name": "stdout",
     "output_type": "stream",
     "text": [
      "False\n"
     ]
    }
   ],
   "source": [
    "# not in\n",
    "x=[\"apple\",\"bananas\"]\n",
    "print(\"bananas\" not in x)"
   ]
  },
  {
   "cell_type": "code",
   "execution_count": 42,
   "id": "45898a58-0c23-4d42-8b8e-90a0746e3d00",
   "metadata": {},
   "outputs": [
    {
     "name": "stdout",
     "output_type": "stream",
     "text": [
      "The result of 10 & 13 is: 8\n",
      "binary of 10: 0b1010\n",
      "binary of 13: 0b1101\n",
      "binary result: 0b1000\n"
     ]
    }
   ],
   "source": [
    "#python bitwise operator\n",
    "#& AND\n",
    "a=10\n",
    "b=13\n",
    "result=a&b\n",
    "print(\"The result of\",a,\"&\",b,\"is:\",result)\n",
    "print(f\"binary of {a}: {bin(a)}\")\n",
    "print(f\"binary of {b}: {bin(b)}\")\n",
    "print(f\"binary result: {bin(result)}\")"
   ]
  },
  {
   "cell_type": "code",
   "execution_count": 43,
   "id": "62d7df8c-a73a-4440-a8e1-10db50a5d775",
   "metadata": {},
   "outputs": [
    {
     "name": "stdout",
     "output_type": "stream",
     "text": [
      "a in binary: 0b1010\n",
      "b in binary: 0b1101\n",
      "result of a|b: 15\n",
      "result in binary: 0b1111\n"
     ]
    }
   ],
   "source": [
    "#| OR\n",
    "a=10\n",
    "b=13\n",
    "result=a|b\n",
    "print(\"a in binary:\", bin(a))\n",
    "print(\"b in binary:\", bin(b))\n",
    "print(\"result of a|b:\", result)\n",
    "print(\"result in binary:\", bin(result))"
   ]
  },
  {
   "cell_type": "code",
   "execution_count": 44,
   "id": "1318f0bc-5d03-491f-b67f-18a105d0d169",
   "metadata": {},
   "outputs": [
    {
     "name": "stdout",
     "output_type": "stream",
     "text": [
      "The result of 5 ^ 3 is: 6\n"
     ]
    }
   ],
   "source": [
    "#^ XOR\n",
    "a=5\n",
    "b=3\n",
    "result=a^b\n",
    "print(\"The result of {} ^ {} is: {}\".format(a,b,result))"
   ]
  },
  {
   "cell_type": "code",
   "execution_count": 48,
   "id": "e2602846-c640-4c95-8ddb-b84171984cf5",
   "metadata": {},
   "outputs": [
    {
     "name": "stdout",
     "output_type": "stream",
     "text": [
      "orignal number: 5\n",
      "Binary of 5: 0b101\n",
      "Binary of ~5: -6\n",
      "Binary of result: -6\n"
     ]
    }
   ],
   "source": [
    "#~NOT\n",
    "number=5\n",
    "result=~number\n",
    "print(f\"orignal number: {number}\")\n",
    "print(f\"Binary of {number}: {bin(number)}\")\n",
    "print(f\"Binary of ~{number}: {result}\")\n",
    "print(f\"Binary of result: {result}\")"
   ]
  },
  {
   "cell_type": "code",
   "execution_count": 46,
   "id": "57c7d185-ec0a-4a6f-849a-c6a7cda54b7b",
   "metadata": {},
   "outputs": [
    {
     "name": "stdout",
     "output_type": "stream",
     "text": [
      "orignal number: 5\n",
      "Binary of orignal number: 0b101\n",
      "After left shift by 2: 20\n",
      "Binary of result: 0b10100\n"
     ]
    }
   ],
   "source": [
    "#<< zero fill left shift\n",
    "number=5\n",
    "result=number<<2\n",
    "print(\"orignal number:\", number)\n",
    "print(\"Binary of orignal number:\",bin(number))\n",
    "print(\"After left shift by 2:\",result)\n",
    "print(\"Binary of result:\",bin(result))"
   ]
  },
  {
   "cell_type": "code",
   "execution_count": 49,
   "id": "75768d74-7807-4f1f-b884-b61b07ca8dad",
   "metadata": {},
   "outputs": [
    {
     "name": "stdout",
     "output_type": "stream",
     "text": [
      "2\n"
     ]
    }
   ],
   "source": [
    "#>>\tSigned right shift\n",
    "print(8>>2)"
   ]
  },
  {
   "cell_type": "code",
   "execution_count": 50,
   "id": "f1f891a4-0606-4fae-a101-a98daae01bd4",
   "metadata": {},
   "outputs": [
    {
     "name": "stdout",
     "output_type": "stream",
     "text": [
      "0\n"
     ]
    }
   ],
   "source": [
    "#Operator Precedence\n",
    "print((6+3)-(6+3))"
   ]
  },
  {
   "cell_type": "code",
   "execution_count": 51,
   "id": "26a35f14-cbbc-476e-9afa-9cb25c712a4e",
   "metadata": {},
   "outputs": [
    {
     "name": "stdout",
     "output_type": "stream",
     "text": [
      "505\n"
     ]
    }
   ],
   "source": [
    "print(100*5+5)"
   ]
  },
  {
   "cell_type": "code",
   "execution_count": 53,
   "id": "025e6eec-7796-46f5-95a8-2fd60ca3c215",
   "metadata": {},
   "outputs": [
    {
     "name": "stdout",
     "output_type": "stream",
     "text": [
      "73\n"
     ]
    }
   ],
   "source": [
    "print(100-3**3)"
   ]
  },
  {
   "cell_type": "raw",
   "id": "30ef5081-c045-4381-9447-84964086a755",
   "metadata": {},
   "source": [
    "print(100+~3)"
   ]
  },
  {
   "cell_type": "code",
   "execution_count": 54,
   "id": "101db811-dea4-4a57-bae8-7bad271e738b",
   "metadata": {},
   "outputs": [
    {
     "name": "stdout",
     "output_type": "stream",
     "text": [
      "96\n"
     ]
    }
   ],
   "source": [
    "print(100+~3)"
   ]
  },
  {
   "cell_type": "code",
   "execution_count": 55,
   "id": "a024c219-eb46-461b-862f-78b5fdb6779f",
   "metadata": {},
   "outputs": [
    {
     "name": "stdout",
     "output_type": "stream",
     "text": [
      "115\n"
     ]
    }
   ],
   "source": [
    "print(100+5*3)"
   ]
  },
  {
   "cell_type": "code",
   "execution_count": 57,
   "id": "eb0aa4e4-4a9f-45e7-a3e5-b9c81657226d",
   "metadata": {},
   "outputs": [
    {
     "name": "stdout",
     "output_type": "stream",
     "text": [
      "85\n"
     ]
    }
   ],
   "source": [
    "print(100-5*3)"
   ]
  },
  {
   "cell_type": "code",
   "execution_count": 58,
   "id": "53e2797d-27e8-430e-a1b2-d219db565af8",
   "metadata": {},
   "outputs": [
    {
     "name": "stdout",
     "output_type": "stream",
     "text": [
      "True\n"
     ]
    }
   ],
   "source": [
    "print(5==4+1)"
   ]
  },
  {
   "cell_type": "code",
   "execution_count": 59,
   "id": "2ee13539-ea40-4f4f-909e-3a3679867556",
   "metadata": {},
   "outputs": [
    {
     "name": "stdout",
     "output_type": "stream",
     "text": [
      "5\n"
     ]
    }
   ],
   "source": [
    "print(6^2+1)"
   ]
  },
  {
   "cell_type": "code",
   "execution_count": 60,
   "id": "2c154545-838e-4a51-957e-27a51ddba9f9",
   "metadata": {},
   "outputs": [
    {
     "name": "stdout",
     "output_type": "stream",
     "text": [
      "7\n"
     ]
    }
   ],
   "source": [
    "print(6|2+1)"
   ]
  },
  {
   "cell_type": "code",
   "execution_count": 61,
   "id": "e76a1503-f136-45a9-b985-fd02ea7952e5",
   "metadata": {},
   "outputs": [
    {
     "name": "stdout",
     "output_type": "stream",
     "text": [
      "2\n"
     ]
    }
   ],
   "source": [
    "print(6&2+1)"
   ]
  },
  {
   "cell_type": "code",
   "execution_count": 62,
   "id": "36e52350-1bc7-4830-bf26-406a073fab39",
   "metadata": {},
   "outputs": [
    {
     "name": "stdout",
     "output_type": "stream",
     "text": [
      "False\n"
     ]
    }
   ],
   "source": [
    "print(not 5==5)"
   ]
  },
  {
   "cell_type": "code",
   "execution_count": 63,
   "id": "77a88883-d1ed-49a2-a2e5-f5d94d3a854a",
   "metadata": {},
   "outputs": [
    {
     "name": "stdout",
     "output_type": "stream",
     "text": [
      "1\n"
     ]
    }
   ],
   "source": [
    "print(1 or 2 and 3)"
   ]
  },
  {
   "cell_type": "code",
   "execution_count": 64,
   "id": "126bc1d4-4c4a-4c0d-88ac-6af343eeaae8",
   "metadata": {},
   "outputs": [
    {
     "name": "stdout",
     "output_type": "stream",
     "text": [
      "4\n"
     ]
    }
   ],
   "source": [
    "print(4 or 5+10 or 8)"
   ]
  },
  {
   "cell_type": "code",
   "execution_count": null,
   "id": "5fbae52d-6f47-4de3-9561-c8f5568cf054",
   "metadata": {},
   "outputs": [],
   "source": []
  }
 ],
 "metadata": {
  "kernelspec": {
   "display_name": "Python 3 (ipykernel)",
   "language": "python",
   "name": "python3"
  },
  "language_info": {
   "codemirror_mode": {
    "name": "ipython",
    "version": 3
   },
   "file_extension": ".py",
   "mimetype": "text/x-python",
   "name": "python",
   "nbconvert_exporter": "python",
   "pygments_lexer": "ipython3",
   "version": "3.11.7"
  }
 },
 "nbformat": 4,
 "nbformat_minor": 5
}
