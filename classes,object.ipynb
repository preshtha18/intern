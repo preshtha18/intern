{
 "cells": [
  {
   "cell_type": "code",
   "execution_count": 1,
   "id": "eff3a78b-287e-44f4-aae2-353fed610b3b",
   "metadata": {},
   "outputs": [
    {
     "name": "stdout",
     "output_type": "stream",
     "text": [
      "<class '__main__.Myclass'>\n"
     ]
    }
   ],
   "source": [
    "#create a class\n",
    "class Myclass:\n",
    "    x=5\n",
    "print(Myclass)"
   ]
  },
  {
   "cell_type": "code",
   "execution_count": 2,
   "id": "5c328ea0-90cd-49c5-b05b-32990ddbb531",
   "metadata": {},
   "outputs": [
    {
     "name": "stdout",
     "output_type": "stream",
     "text": [
      "5\n"
     ]
    }
   ],
   "source": [
    "#create object\n",
    "class Myclass:\n",
    "    x=5\n",
    "p1=Myclass()\n",
    "print(p1.x)"
   ]
  },
  {
   "cell_type": "code",
   "execution_count": 4,
   "id": "82df0b97-590c-405c-ad7d-a4948bf7fa3f",
   "metadata": {},
   "outputs": [
    {
     "name": "stdout",
     "output_type": "stream",
     "text": [
      "John\n",
      "36\n"
     ]
    }
   ],
   "source": [
    "#__init__()\n",
    "class person:\n",
    "    def __init__(self,name,age):\n",
    "        self.name=name\n",
    "        self.age=age\n",
    "p1 = person(\"John\",36)\n",
    "print(p1.name)\n",
    "print(p1.age)"
   ]
  },
  {
   "cell_type": "code",
   "execution_count": 6,
   "id": "98f55704-3ea8-4ede-911b-92105303be7e",
   "metadata": {},
   "outputs": [
    {
     "name": "stdout",
     "output_type": "stream",
     "text": [
      "<__main__.person object at 0x0000025FA8E64690>\n"
     ]
    }
   ],
   "source": [
    "#__str__()\n",
    "class person:\n",
    "    def __init__(self,name,age):\n",
    "        self.name=name\n",
    "        self.age=age\n",
    "p1=person(\"John\",36)\n",
    "print(p1)"
   ]
  },
  {
   "cell_type": "code",
   "execution_count": 8,
   "id": "19e76119-8a80-4934-aa01-177289871931",
   "metadata": {},
   "outputs": [
    {
     "name": "stdout",
     "output_type": "stream",
     "text": [
      "John(36)\n"
     ]
    }
   ],
   "source": [
    "#The string representation of an object WITH the __str__() function\n",
    "class person:\n",
    "    def __init__(self,name,age):\n",
    "        self.name=name\n",
    "        self.age=age\n",
    "    def __str__(self):\n",
    "        return f\"{self.name}({self.age})\"\n",
    "p1=person(\"John\",36)\n",
    "print(p1)"
   ]
  },
  {
   "cell_type": "code",
   "execution_count": 10,
   "id": "16d49834-ccbb-485c-b7be-f93dd6956886",
   "metadata": {},
   "outputs": [
    {
     "name": "stdout",
     "output_type": "stream",
     "text": [
      "Hello my name is John\n"
     ]
    }
   ],
   "source": [
    "#Object method\n",
    "class person:\n",
    "    def __init__(self,name,age):\n",
    "        self.name=name\n",
    "        self.age=name\n",
    "    def myfunc(self):\n",
    "        print(\"Hello my name is \" + self.name)\n",
    "p1=person(\"John\",36)\n",
    "p1.myfunc()"
   ]
  },
  {
   "cell_type": "code",
   "execution_count": 13,
   "id": "63a5ea8a-9c54-4274-ae73-d51591fad62f",
   "metadata": {},
   "outputs": [
    {
     "name": "stdout",
     "output_type": "stream",
     "text": [
      "Hello my name is John\n"
     ]
    }
   ],
   "source": [
    "#The self parameter\n",
    "class person:\n",
    "    def __init__(mysillyobject,name,age):\n",
    "        mysillyobject.name=name\n",
    "        mysillyobject.age=age\n",
    "    def myfunc(abc):\n",
    "        print(\"Hello my name is \" + abc.name)\n",
    "p1=person(\"John\",36)\n",
    "p1.myfunc()"
   ]
  },
  {
   "cell_type": "code",
   "execution_count": 14,
   "id": "5bf1f16d-6232-4a2d-91c0-fd0526726eca",
   "metadata": {},
   "outputs": [
    {
     "name": "stdout",
     "output_type": "stream",
     "text": [
      "40\n"
     ]
    }
   ],
   "source": [
    "#modify object properties\n",
    "class person:\n",
    "    def __init__(self,name,age):\n",
    "        self.name=name\n",
    "        self.age=name\n",
    "    def myfunc(self):\n",
    "        print(\"Hello my name is \" + self.name)\n",
    "p1=person(\"John\",36)\n",
    "p1.age=40\n",
    "print(p1.age)"
   ]
  },
  {
   "cell_type": "code",
   "execution_count": null,
   "id": "f4143ce6-3594-43ca-9e18-8a1c1eedc7e9",
   "metadata": {},
   "outputs": [],
   "source": []
  },
  {
   "cell_type": "code",
   "execution_count": null,
   "id": "a0dc1571-2e43-4ff6-bee9-68d89cb32ffa",
   "metadata": {},
   "outputs": [],
   "source": []
  }
 ],
 "metadata": {
  "kernelspec": {
   "display_name": "Python 3 (ipykernel)",
   "language": "python",
   "name": "python3"
  },
  "language_info": {
   "codemirror_mode": {
    "name": "ipython",
    "version": 3
   },
   "file_extension": ".py",
   "mimetype": "text/x-python",
   "name": "python",
   "nbconvert_exporter": "python",
   "pygments_lexer": "ipython3",
   "version": "3.11.7"
  }
 },
 "nbformat": 4,
 "nbformat_minor": 5
}
