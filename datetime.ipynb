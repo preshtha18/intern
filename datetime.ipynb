{
 "cells": [
  {
   "cell_type": "code",
   "execution_count": 1,
   "id": "31e63861-17fa-45b0-b9d4-2d2ecdb17c4d",
   "metadata": {},
   "outputs": [
    {
     "name": "stdout",
     "output_type": "stream",
     "text": [
      "2025-01-17 15:46:14.655316\n"
     ]
    }
   ],
   "source": [
    "import datetime\n",
    "x=datetime.datetime.now()\n",
    "print(x)"
   ]
  },
  {
   "cell_type": "code",
   "execution_count": 3,
   "id": "382b1ac1-ad1a-47f6-a563-10d1125486c7",
   "metadata": {},
   "outputs": [
    {
     "name": "stdout",
     "output_type": "stream",
     "text": [
      "2025\n",
      "Friday\n"
     ]
    }
   ],
   "source": [
    "import datetime\n",
    "x=datetime.datetime.now()\n",
    "print(x.year)\n",
    "print(x.strftime(\"%A\"))"
   ]
  },
  {
   "cell_type": "code",
   "execution_count": 5,
   "id": "16cb3107-1527-42dc-959e-3048ab06daea",
   "metadata": {},
   "outputs": [
    {
     "name": "stdout",
     "output_type": "stream",
     "text": [
      "2025-01-17 00:00:00\n"
     ]
    }
   ],
   "source": [
    "#creating date object\n",
    "import datetime\n",
    "x=datetime.datetime(2025,1,17)\n",
    "print(x)"
   ]
  },
  {
   "cell_type": "code",
   "execution_count": 6,
   "id": "5fe91417-72d9-450c-b589-6cbdb0f71fbd",
   "metadata": {},
   "outputs": [
    {
     "name": "stdout",
     "output_type": "stream",
     "text": [
      "January\n"
     ]
    }
   ],
   "source": [
    "#The strftime() method\n",
    "import datetime\n",
    "x=datetime.datetime(2025,1,17)\n",
    "print(x.strftime(\"%B\"))"
   ]
  },
  {
   "cell_type": "code",
   "execution_count": 7,
   "id": "4088f10c-f6bb-475d-bede-f8700f6e5d72",
   "metadata": {},
   "outputs": [
    {
     "name": "stdout",
     "output_type": "stream",
     "text": [
      "Fri\n"
     ]
    }
   ],
   "source": [
    "#%a\n",
    "import datetime\n",
    "x=datetime.datetime.now()\n",
    "print(x.strftime(\"%a\"))"
   ]
  },
  {
   "cell_type": "code",
   "execution_count": 8,
   "id": "d12b369d-aa57-495a-849b-e68a02342468",
   "metadata": {},
   "outputs": [
    {
     "name": "stdout",
     "output_type": "stream",
     "text": [
      "Friday\n"
     ]
    }
   ],
   "source": [
    "#%A\n",
    "import datetime\n",
    "x=datetime.datetime.now()\n",
    "print(x.strftime(\"%A\"))"
   ]
  },
  {
   "cell_type": "code",
   "execution_count": 9,
   "id": "b216ddf9-5860-4d40-b194-d6c5aebe1d99",
   "metadata": {},
   "outputs": [
    {
     "name": "stdout",
     "output_type": "stream",
     "text": [
      "5\n"
     ]
    }
   ],
   "source": [
    "#%w\n",
    "import datetime\n",
    "x=datetime.datetime.now()\n",
    "print(x.strftime(\"%w\"))"
   ]
  },
  {
   "cell_type": "code",
   "execution_count": 10,
   "id": "09a13a06-401a-472c-9f3d-a30893a4be30",
   "metadata": {},
   "outputs": [
    {
     "name": "stdout",
     "output_type": "stream",
     "text": [
      "17\n"
     ]
    }
   ],
   "source": [
    "#%d\n",
    "import datetime\n",
    "x=datetime.datetime.now()\n",
    "print(x.strftime(\"%d\"))"
   ]
  },
  {
   "cell_type": "code",
   "execution_count": 11,
   "id": "99034473-6dd1-458f-9c80-ccc55fdba637",
   "metadata": {},
   "outputs": [
    {
     "name": "stdout",
     "output_type": "stream",
     "text": [
      "Jan\n"
     ]
    }
   ],
   "source": [
    "#%b\n",
    "import datetime\n",
    "x=datetime.datetime.now()\n",
    "print(x.strftime(\"%b\"))"
   ]
  },
  {
   "cell_type": "code",
   "execution_count": 12,
   "id": "fcdf3c04-1930-44b0-8a7f-193c88813201",
   "metadata": {},
   "outputs": [
    {
     "name": "stdout",
     "output_type": "stream",
     "text": [
      "January\n"
     ]
    }
   ],
   "source": [
    "#%B\n",
    "import datetime\n",
    "x=datetime.datetime.now()\n",
    "print(x.strftime(\"%B\"))"
   ]
  },
  {
   "cell_type": "code",
   "execution_count": 13,
   "id": "a164bed6-eb15-452a-bd33-2b9c11f64f4f",
   "metadata": {},
   "outputs": [
    {
     "name": "stdout",
     "output_type": "stream",
     "text": [
      "01\n"
     ]
    }
   ],
   "source": [
    "#%m\n",
    "import datetime\n",
    "x=datetime.datetime.now()\n",
    "print(x.strftime(\"%m\"))"
   ]
  },
  {
   "cell_type": "code",
   "execution_count": 15,
   "id": "574a38fe-f24d-4b57-bde1-1e13db53df61",
   "metadata": {},
   "outputs": [
    {
     "name": "stdout",
     "output_type": "stream",
     "text": [
      "25\n"
     ]
    }
   ],
   "source": [
    "#%y\n",
    "import datetime\n",
    "x=datetime.datetime.now()\n",
    "print(x.strftime(\"%y\"))"
   ]
  },
  {
   "cell_type": "code",
   "execution_count": 16,
   "id": "2776d765-1a43-4a2a-b7e3-7073613d7f8f",
   "metadata": {},
   "outputs": [
    {
     "name": "stdout",
     "output_type": "stream",
     "text": [
      "2025\n"
     ]
    }
   ],
   "source": [
    "#%Y\n",
    "import datetime\n",
    "x=datetime.datetime.now()\n",
    "print(x.strftime(\"%Y\"))"
   ]
  },
  {
   "cell_type": "code",
   "execution_count": 17,
   "id": "f674083d-d4d7-4f77-915f-8d660d88b470",
   "metadata": {},
   "outputs": [
    {
     "name": "stdout",
     "output_type": "stream",
     "text": [
      "16\n"
     ]
    }
   ],
   "source": [
    "#%H\n",
    "import datetime\n",
    "x=datetime.datetime.now()\n",
    "print(x.strftime(\"%H\"))"
   ]
  },
  {
   "cell_type": "code",
   "execution_count": 18,
   "id": "93e6947d-1f25-45f3-b890-c6f5f363e54b",
   "metadata": {},
   "outputs": [
    {
     "name": "stdout",
     "output_type": "stream",
     "text": [
      "04\n"
     ]
    }
   ],
   "source": [
    "#%I\n",
    "import datetime\n",
    "x=datetime.datetime.now()\n",
    "print(x.strftime(\"%I\"))"
   ]
  },
  {
   "cell_type": "code",
   "execution_count": 19,
   "id": "19e85513-5304-4666-92c2-696644d82a32",
   "metadata": {},
   "outputs": [
    {
     "name": "stdout",
     "output_type": "stream",
     "text": [
      "PM\n"
     ]
    }
   ],
   "source": [
    "#%p\n",
    "import datetime\n",
    "x=datetime.datetime.now()\n",
    "print(x.strftime(\"%p\"))"
   ]
  },
  {
   "cell_type": "code",
   "execution_count": 20,
   "id": "efac3b8d-669c-4639-a72c-87f30594e206",
   "metadata": {},
   "outputs": [
    {
     "name": "stdout",
     "output_type": "stream",
     "text": [
      "27\n"
     ]
    }
   ],
   "source": [
    "#%M\n",
    "import datetime\n",
    "x=datetime.datetime.now()\n",
    "print(x.strftime(\"%M\"))"
   ]
  },
  {
   "cell_type": "code",
   "execution_count": 21,
   "id": "72764b94-e372-461e-9140-a4e19f109862",
   "metadata": {},
   "outputs": [
    {
     "name": "stdout",
     "output_type": "stream",
     "text": [
      "14\n"
     ]
    }
   ],
   "source": [
    "#%S\n",
    "import datetime\n",
    "x=datetime.datetime.now()\n",
    "print(x.strftime(\"%S\"))"
   ]
  },
  {
   "cell_type": "code",
   "execution_count": 22,
   "id": "efc80525-0469-48d7-a495-107ebd6f7ee1",
   "metadata": {},
   "outputs": [
    {
     "name": "stdout",
     "output_type": "stream",
     "text": [
      "612067\n"
     ]
    }
   ],
   "source": [
    "#%f\n",
    "import datetime\n",
    "x=datetime.datetime.now()\n",
    "print(x.strftime(\"%f\"))"
   ]
  },
  {
   "cell_type": "code",
   "execution_count": 26,
   "id": "10dc4865-a7e1-4453-9bdc-5fa2b37a8ea7",
   "metadata": {},
   "outputs": [
    {
     "name": "stdout",
     "output_type": "stream",
     "text": [
      "017\n"
     ]
    }
   ],
   "source": [
    "#%j\n",
    "import datetime\n",
    "x=datetime.datetime.now()\n",
    "print(x.strftime(\"%j\"))"
   ]
  },
  {
   "cell_type": "code",
   "execution_count": 27,
   "id": "f82fd5eb-4bb2-47a7-b2c9-ceef657af471",
   "metadata": {},
   "outputs": [
    {
     "name": "stdout",
     "output_type": "stream",
     "text": [
      "02\n"
     ]
    }
   ],
   "source": [
    "#%U\n",
    "import datetime\n",
    "x=datetime.datetime.now()\n",
    "print(x.strftime(\"%U\"))"
   ]
  },
  {
   "cell_type": "code",
   "execution_count": 28,
   "id": "282f12ca-d4d5-4182-941e-32b82aeacbc6",
   "metadata": {},
   "outputs": [
    {
     "name": "stdout",
     "output_type": "stream",
     "text": [
      "02\n"
     ]
    }
   ],
   "source": [
    "#%W\n",
    "import datetime\n",
    "x=datetime.datetime.now()\n",
    "print(x.strftime(\"%W\"))\n"
   ]
  },
  {
   "cell_type": "code",
   "execution_count": 30,
   "id": "66fcddec-887b-44db-b047-6586c331c20d",
   "metadata": {},
   "outputs": [
    {
     "name": "stdout",
     "output_type": "stream",
     "text": [
      "Fri Jan 17 16:34:01 2025\n"
     ]
    }
   ],
   "source": [
    "#%c\n",
    "import datetime\n",
    "x=datetime.datetime.now()\n",
    "print(x.strftime(\"%c\"))"
   ]
  },
  {
   "cell_type": "code",
   "execution_count": 31,
   "id": "9ba2e9fe-fa06-431f-97a1-7101ecd98f44",
   "metadata": {},
   "outputs": [
    {
     "name": "stdout",
     "output_type": "stream",
     "text": [
      "20\n"
     ]
    }
   ],
   "source": [
    "#%C\n",
    "import datetime\n",
    "x=datetime.datetime.now()\n",
    "print(x.strftime(\"%C\"))\n"
   ]
  },
  {
   "cell_type": "code",
   "execution_count": 32,
   "id": "9bab0418-60ad-44b8-a583-5d195acfc986",
   "metadata": {},
   "outputs": [
    {
     "name": "stdout",
     "output_type": "stream",
     "text": [
      "01/17/25\n"
     ]
    }
   ],
   "source": [
    "#%x\n",
    "import datetime\n",
    "x=datetime.datetime.now()\n",
    "print(x.strftime(\"%x\"))"
   ]
  },
  {
   "cell_type": "code",
   "execution_count": 33,
   "id": "58031811-b491-46a6-ba31-c154c72103ac",
   "metadata": {},
   "outputs": [
    {
     "name": "stdout",
     "output_type": "stream",
     "text": [
      "16:36:32\n"
     ]
    }
   ],
   "source": [
    "#%X\n",
    "import datetime\n",
    "x=datetime.datetime.now()\n",
    "print(x.strftime(\"%X\"))"
   ]
  },
  {
   "cell_type": "code",
   "execution_count": 34,
   "id": "cd207daa-89f7-42af-9073-b209d303d108",
   "metadata": {},
   "outputs": [
    {
     "name": "stdout",
     "output_type": "stream",
     "text": [
      "%\n"
     ]
    }
   ],
   "source": [
    "#%%\n",
    "import datetime\n",
    "x=datetime.datetime.now()\n",
    "print(x.strftime(\"%%\"))"
   ]
  },
  {
   "cell_type": "code",
   "execution_count": 35,
   "id": "83bf4e2d-02a4-4b86-8f85-2c7f872332ab",
   "metadata": {},
   "outputs": [
    {
     "name": "stdout",
     "output_type": "stream",
     "text": [
      "2025\n"
     ]
    }
   ],
   "source": [
    "#%G\n",
    "import datetime\n",
    "x=datetime.datetime.now()\n",
    "print(x.strftime(\"%G\"))"
   ]
  },
  {
   "cell_type": "code",
   "execution_count": 36,
   "id": "6c94a68b-30ae-4fb7-9a14-15d7937431a9",
   "metadata": {},
   "outputs": [
    {
     "name": "stdout",
     "output_type": "stream",
     "text": [
      "5\n"
     ]
    }
   ],
   "source": [
    "#%u\n",
    "import datetime\n",
    "x=datetime.datetime.now()\n",
    "print(x.strftime(\"%u\"))"
   ]
  },
  {
   "cell_type": "code",
   "execution_count": 37,
   "id": "e2dfd45e-935a-4319-abc4-0eff7a3f0eba",
   "metadata": {},
   "outputs": [
    {
     "name": "stdout",
     "output_type": "stream",
     "text": [
      "03\n"
     ]
    }
   ],
   "source": [
    "#%V\n",
    "import datetime\n",
    "x=datetime.datetime.now()\n",
    "print(x.strftime(\"%V\"))"
   ]
  },
  {
   "cell_type": "code",
   "execution_count": null,
   "id": "eb869fdb-2f60-4936-b752-b81d4af345fd",
   "metadata": {},
   "outputs": [],
   "source": []
  }
 ],
 "metadata": {
  "kernelspec": {
   "display_name": "Python 3 (ipykernel)",
   "language": "python",
   "name": "python3"
  },
  "language_info": {
   "codemirror_mode": {
    "name": "ipython",
    "version": 3
   },
   "file_extension": ".py",
   "mimetype": "text/x-python",
   "name": "python",
   "nbconvert_exporter": "python",
   "pygments_lexer": "ipython3",
   "version": "3.11.7"
  }
 },
 "nbformat": 4,
 "nbformat_minor": 5
}
