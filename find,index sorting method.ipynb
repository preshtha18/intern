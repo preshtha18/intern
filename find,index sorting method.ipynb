{
 "cells": [
  {
   "cell_type": "code",
   "execution_count": 1,
   "id": "b192367d-3215-4c84-a1d1-420d3178bde1",
   "metadata": {},
   "outputs": [
    {
     "name": "stdout",
     "output_type": "stream",
     "text": [
      "12\n"
     ]
    }
   ],
   "source": [
    "#rfind()\n",
    "txt=\"Mi casa, su casa.\"\n",
    "x=txt.rfind(\"casa\")\n",
    "print(x)"
   ]
  },
  {
   "cell_type": "code",
   "execution_count": 2,
   "id": "10b49fc6-8b9e-43c4-bec1-4a9ca6dca843",
   "metadata": {},
   "outputs": [
    {
     "name": "stdout",
     "output_type": "stream",
     "text": [
      "8\n"
     ]
    }
   ],
   "source": [
    "#rfind()\n",
    "txt=\"Hello, welcome to my world.\"\n",
    "x=txt.rfind(\"e\",5,10)\n",
    "print(x)"
   ]
  },
  {
   "cell_type": "code",
   "execution_count": 4,
   "id": "1c2f3233-122b-4e44-b0ba-b20c9f8bc814",
   "metadata": {},
   "outputs": [
    {
     "name": "stdout",
     "output_type": "stream",
     "text": [
      "-1\n",
      "-1\n"
     ]
    }
   ],
   "source": [
    "#rfind()\n",
    "txt=\"Hello, welcome to my world.\"\n",
    "print(txt.rfind(\"q\"))\n",
    "print(txt.rfind(\"q\"))"
   ]
  },
  {
   "cell_type": "code",
   "execution_count": 5,
   "id": "f2b157ee-99c1-4cfa-bfd9-51fa89b63fec",
   "metadata": {},
   "outputs": [
    {
     "name": "stdout",
     "output_type": "stream",
     "text": [
      "12\n"
     ]
    }
   ],
   "source": [
    "#rindex()\n",
    "txt=\"Mi Casa, su casa.\"\n",
    "x=txt.rindex(\"casa\")\n",
    "print(x)"
   ]
  },
  {
   "cell_type": "code",
   "execution_count": 6,
   "id": "02f934d9-20fe-492f-aa99-65d71956655b",
   "metadata": {},
   "outputs": [
    {
     "name": "stdout",
     "output_type": "stream",
     "text": [
      "8\n"
     ]
    }
   ],
   "source": [
    "#rindex()\n",
    "txt=\"Hello, welcome to my world.\"\n",
    "x=txt.rindex(\"e\",5,10)\n",
    "print(x)"
   ]
  },
  {
   "cell_type": "code",
   "execution_count": null,
   "id": "f5081220-6afd-4fa1-b559-4a8b608476e0",
   "metadata": {},
   "outputs": [],
   "source": []
  },
  {
   "cell_type": "code",
   "execution_count": null,
   "id": "ac84ace7-b7e8-4ce5-bb78-949474a4b6f6",
   "metadata": {},
   "outputs": [],
   "source": []
  }
 ],
 "metadata": {
  "kernelspec": {
   "display_name": "Python 3 (ipykernel)",
   "language": "python",
   "name": "python3"
  },
  "language_info": {
   "codemirror_mode": {
    "name": "ipython",
    "version": 3
   },
   "file_extension": ".py",
   "mimetype": "text/x-python",
   "name": "python",
   "nbconvert_exporter": "python",
   "pygments_lexer": "ipython3",
   "version": "3.11.7"
  }
 },
 "nbformat": 4,
 "nbformat_minor": 5
}
