{
 "cells": [
  {
   "cell_type": "code",
   "execution_count": 3,
   "id": "3531611a-f2d6-446c-ab3b-609d4b28dceb",
   "metadata": {},
   "outputs": [
    {
     "name": "stdout",
     "output_type": "stream",
     "text": [
      "['Thank you for the music', 'welcome to the jungle']\n"
     ]
    }
   ],
   "source": [
    "#splitline\n",
    "txt=\"Thank you for the music\\nwelcome to the jungle\"\n",
    "x=txt.splitlines()\n",
    "print(x)"
   ]
  },
  {
   "cell_type": "code",
   "execution_count": 5,
   "id": "dca17204-c2b4-45a2-b15d-98eb9d41ba6a",
   "metadata": {},
   "outputs": [
    {
     "name": "stdout",
     "output_type": "stream",
     "text": [
      "['Thank you for the music\\n', 'welcome to the jungle']\n"
     ]
    }
   ],
   "source": [
    "#splitline\n",
    "txt=\"Thank you for the music\\nwelcome to the jungle\"\n",
    "x=txt.splitlines(True)\n",
    "print(x)"
   ]
  },
  {
   "cell_type": "code",
   "execution_count": 7,
   "id": "9c0c3cfa-e85f-44f3-a895-71e2844b57f0",
   "metadata": {},
   "outputs": [
    {
     "name": "stdout",
     "output_type": "stream",
     "text": [
      "True\n"
     ]
    }
   ],
   "source": [
    "#startswith\n",
    "txt=\"Hello, welcome to my world\"\n",
    "x=txt.startswith(\"Hello\")\n",
    "print(x)"
   ]
  },
  {
   "cell_type": "code",
   "execution_count": 8,
   "id": "ad7c2874-26c1-46c8-bae5-15685aab8f81",
   "metadata": {},
   "outputs": [
    {
     "name": "stdout",
     "output_type": "stream",
     "text": [
      "False\n"
     ]
    }
   ],
   "source": [
    "#startswith\n",
    "txt=\"Hello,welcome to my world\"\n",
    "x=txt.startswith(\"wel\",7,20)\n",
    "print(x)"
   ]
  },
  {
   "cell_type": "code",
   "execution_count": 9,
   "id": "571befad-e802-4dfc-91a8-f4f6d1a11976",
   "metadata": {},
   "outputs": [
    {
     "name": "stdout",
     "output_type": "stream",
     "text": [
      "True\n"
     ]
    }
   ],
   "source": [
    "#startswith\n",
    "txt=\"Hello,welcome to my world\"\n",
    "x=txt.startswith((\"Hello\",\"Hi\"))\n",
    "print(x)"
   ]
  },
  {
   "cell_type": "code",
   "execution_count": 10,
   "id": "a70b2352-ebb9-42f1-9acb-0e2073b0b907",
   "metadata": {},
   "outputs": [
    {
     "name": "stdout",
     "output_type": "stream",
     "text": [
      "of all fruits bananas is my favorite\n"
     ]
    }
   ],
   "source": [
    "#strip\n",
    "txt=\"    bananas    \"\n",
    "x=txt.strip()\n",
    "print(\"of all fruits\",x, \"is my favorite\")"
   ]
  },
  {
   "cell_type": "code",
   "execution_count": 11,
   "id": "8d54ecef-ea70-46ed-ab57-7213814e83f8",
   "metadata": {},
   "outputs": [
    {
     "name": "stdout",
     "output_type": "stream",
     "text": [
      "bananas\n"
     ]
    }
   ],
   "source": [
    "#strip\n",
    "txt=\",,,,,rrttgg.....bananas.....rrrr\"\n",
    "x=txt.strip(\",.gtr\")\n",
    "print(x)\n"
   ]
  },
  {
   "cell_type": "code",
   "execution_count": null,
   "id": "31144e8a-dd15-41e2-94fa-104440b886d9",
   "metadata": {},
   "outputs": [],
   "source": []
  }
 ],
 "metadata": {
  "kernelspec": {
   "display_name": "Python 3 (ipykernel)",
   "language": "python",
   "name": "python3"
  },
  "language_info": {
   "codemirror_mode": {
    "name": "ipython",
    "version": 3
   },
   "file_extension": ".py",
   "mimetype": "text/x-python",
   "name": "python",
   "nbconvert_exporter": "python",
   "pygments_lexer": "ipython3",
   "version": "3.11.7"
  }
 },
 "nbformat": 4,
 "nbformat_minor": 5
}
