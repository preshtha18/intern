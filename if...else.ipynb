{
 "cells": [
  {
   "cell_type": "code",
   "execution_count": 1,
   "id": "3af1ce75-1671-46f7-bfa4-27750bb0e8b5",
   "metadata": {},
   "outputs": [
    {
     "name": "stdout",
     "output_type": "stream",
     "text": [
      "b is greater than a\n"
     ]
    }
   ],
   "source": [
    "#if statement\n",
    "a=33\n",
    "b=200\n",
    "if b>a:\n",
    "    print(\"b is greater than a\")"
   ]
  },
  {
   "cell_type": "code",
   "execution_count": 2,
   "id": "b2bba770-dbec-4e9d-9cd2-72bf2af13912",
   "metadata": {},
   "outputs": [
    {
     "name": "stdout",
     "output_type": "stream",
     "text": [
      "b is greater than a\n"
     ]
    }
   ],
   "source": [
    "#Elif\n",
    "a=33\n",
    "b=200\n",
    "if b>a:\n",
    "    print(\"b is greater than a\")\n",
    "elif b==a:\n",
    "    print(\"a and b are equal\")\n"
   ]
  },
  {
   "cell_type": "code",
   "execution_count": 5,
   "id": "03555c5d-ee5c-4eca-af47-d049c7a47924",
   "metadata": {},
   "outputs": [
    {
     "name": "stdout",
     "output_type": "stream",
     "text": [
      "a is greater than b\n"
     ]
    }
   ],
   "source": [
    "#else\n",
    "a = 200\n",
    "b = 33\n",
    "if b > a:\n",
    "  print(\"b is greater than a\")\n",
    "elif a == b:\n",
    "  print(\"a and b are equal\")\n",
    "else:\n",
    "  print(\"a is greater than b\")"
   ]
  },
  {
   "cell_type": "code",
   "execution_count": 6,
   "id": "d8a9bd1d-8959-4405-8ff6-4928172a50c5",
   "metadata": {},
   "outputs": [
    {
     "name": "stdout",
     "output_type": "stream",
     "text": [
      "b is not greater than a\n"
     ]
    }
   ],
   "source": [
    "#else without elif\n",
    "a = 200\n",
    "b = 33\n",
    "if b > a:\n",
    "  print(\"b is greater than a\")\n",
    "else:\n",
    "  print(\"b is not greater than a\")"
   ]
  },
  {
   "cell_type": "code",
   "execution_count": 8,
   "id": "b6c3d7b4-8f12-4c33-b6af-e7d9d99096e0",
   "metadata": {},
   "outputs": [
    {
     "name": "stdout",
     "output_type": "stream",
     "text": [
      "a is greater than b\n"
     ]
    }
   ],
   "source": [
    "#one line if statement\n",
    "a=200\n",
    "b=33\n",
    "if a>b:\n",
    "    print(\"a is greater than b\")"
   ]
  },
  {
   "cell_type": "code",
   "execution_count": 9,
   "id": "21c08304-2bd0-46ad-a80e-04864fe49fab",
   "metadata": {},
   "outputs": [
    {
     "name": "stdout",
     "output_type": "stream",
     "text": [
      "B\n"
     ]
    }
   ],
   "source": [
    "#short hand if else\n",
    "a=2\n",
    "b=330\n",
    "print(\"A\") if a>b else print (\"B\")"
   ]
  },
  {
   "cell_type": "code",
   "execution_count": 11,
   "id": "143b094b-9089-4a01-ae76-d377cdd12d9b",
   "metadata": {},
   "outputs": [
    {
     "name": "stdout",
     "output_type": "stream",
     "text": [
      "=\n"
     ]
    }
   ],
   "source": [
    "a=300\n",
    "b=300\n",
    "print(\"A\") if a>b else print (\"=\") if a == b else print(\"B\")"
   ]
  },
  {
   "cell_type": "code",
   "execution_count": 12,
   "id": "2d8184b6-f52f-4420-af41-961e23220927",
   "metadata": {},
   "outputs": [
    {
     "name": "stdout",
     "output_type": "stream",
     "text": [
      "Both condition are True\n"
     ]
    }
   ],
   "source": [
    "#AND\n",
    "a=200\n",
    "b=33\n",
    "c=500\n",
    "if a>b and c>a:\n",
    "    print(\"Both condition are True\")"
   ]
  },
  {
   "cell_type": "code",
   "execution_count": 14,
   "id": "5f92423a-ca70-418b-8777-16f08913ff68",
   "metadata": {},
   "outputs": [
    {
     "name": "stdout",
     "output_type": "stream",
     "text": [
      "At least one of the condition is True\n"
     ]
    }
   ],
   "source": [
    "#OR\n",
    "a=200\n",
    "b=33\n",
    "c=500\n",
    "if a>b or c>a:\n",
    "    print(\"At least one of the condition is True\")"
   ]
  },
  {
   "cell_type": "code",
   "execution_count": 15,
   "id": "b677b25b-f392-42ae-b6f2-329526ecafa1",
   "metadata": {},
   "outputs": [
    {
     "name": "stdout",
     "output_type": "stream",
     "text": [
      "a is NOT greater than b\n"
     ]
    }
   ],
   "source": [
    "#NOT\n",
    "a=33\n",
    "b=200\n",
    "if not a>b:\n",
    "    print(\"a is NOT greater than b\")"
   ]
  },
  {
   "cell_type": "code",
   "execution_count": 16,
   "id": "3fdfa380-9a7e-46af-b076-2bc18162e717",
   "metadata": {},
   "outputs": [
    {
     "name": "stdout",
     "output_type": "stream",
     "text": [
      "Above ten,\n",
      "And also above 20!\n"
     ]
    }
   ],
   "source": [
    "#Nested if\n",
    "x=41\n",
    "if x>10:\n",
    "    print(\"Above ten,\")\n",
    "if x>20:\n",
    "    print(\"And also above 20!\")\n",
    "else:\n",
    "    print(\"But not above 20.\")"
   ]
  },
  {
   "cell_type": "code",
   "execution_count": 17,
   "id": "196547e4-049d-4351-a6f1-f9876b0da941",
   "metadata": {},
   "outputs": [],
   "source": [
    "#Pass statement\n",
    "a=33\n",
    "b=200\n",
    "if b>a:\n",
    "    pass"
   ]
  },
  {
   "cell_type": "code",
   "execution_count": null,
   "id": "d163a9cc-7403-4c62-abf4-ffcc670a73a3",
   "metadata": {},
   "outputs": [],
   "source": []
  }
 ],
 "metadata": {
  "kernelspec": {
   "display_name": "Python 3 (ipykernel)",
   "language": "python",
   "name": "python3"
  },
  "language_info": {
   "codemirror_mode": {
    "name": "ipython",
    "version": 3
   },
   "file_extension": ".py",
   "mimetype": "text/x-python",
   "name": "python",
   "nbconvert_exporter": "python",
   "pygments_lexer": "ipython3",
   "version": "3.11.7"
  }
 },
 "nbformat": 4,
 "nbformat_minor": 5
}
