{
 "cells": [
  {
   "cell_type": "code",
   "execution_count": 2,
   "id": "2c1fb6ea-d7d0-4bac-8bfa-bea75e2c3ce7",
   "metadata": {},
   "outputs": [
    {
     "name": "stdout",
     "output_type": "stream",
     "text": [
      "apple\n",
      "banana\n",
      "cherry\n"
     ]
    }
   ],
   "source": [
    "mytuple=(\"apple\",\"banana\",\"cherry\")\n",
    "myit=iter(mytuple)\n",
    "print(next(myit))\n",
    "print(next(myit))\n",
    "print(next(myit))"
   ]
  },
  {
   "cell_type": "code",
   "execution_count": 4,
   "id": "120b8379-343c-4668-aeed-8221d315e40a",
   "metadata": {},
   "outputs": [
    {
     "name": "stdout",
     "output_type": "stream",
     "text": [
      "b\n",
      "a\n",
      "n\n",
      "a\n",
      "n\n",
      "a\n"
     ]
    }
   ],
   "source": [
    "mystr=\"banana\" \n",
    "myit=iter(mystr) \n",
    "print(next(myit)) \n",
    "print(next(myit)) \n",
    "print(next(myit)) \n",
    "print(next(myit)) \n",
    "print(next(myit)) \n",
    "print(next(myit))"
   ]
  },
  {
   "cell_type": "code",
   "execution_count": 5,
   "id": "4e9a2053-69cb-4349-98d3-e417a449f7f8",
   "metadata": {},
   "outputs": [
    {
     "name": "stdout",
     "output_type": "stream",
     "text": [
      "apple\n",
      "banana\n",
      "cherry\n"
     ]
    }
   ],
   "source": [
    "#looping thruogh a iterator\n",
    "mytuple=(\"apple\",\"banana\",\"cherry\")\n",
    "for x in mytuple:\n",
    "    print(x)"
   ]
  },
  {
   "cell_type": "code",
   "execution_count": 6,
   "id": "f59fb874-7bc0-4de9-aa6e-d1c267a65799",
   "metadata": {},
   "outputs": [
    {
     "name": "stdout",
     "output_type": "stream",
     "text": [
      "b\n",
      "a\n",
      "n\n",
      "a\n",
      "n\n",
      "a\n"
     ]
    }
   ],
   "source": [
    "mystr=\"banana\"\n",
    "for x in mystr:\n",
    "    print(x)"
   ]
  },
  {
   "cell_type": "code",
   "execution_count": 9,
   "id": "2c7f290f-0dc4-437d-a194-eeb100910d42",
   "metadata": {},
   "outputs": [
    {
     "name": "stdout",
     "output_type": "stream",
     "text": [
      "1\n",
      "2\n",
      "3\n",
      "4\n",
      "5\n",
      "6\n"
     ]
    }
   ],
   "source": [
    "#create in iterator\n",
    "class MyNumber:\n",
    "    def __iter__(self):\n",
    "        self.a=1\n",
    "        return self\n",
    "\n",
    "    def __next__(self):\n",
    "        x=self.a\n",
    "        self.a+=1\n",
    "        return x\n",
    "myclass=MyNumber()\n",
    "myiter=iter(myclass)\n",
    "\n",
    "print(next(myiter))\n",
    "print(next(myiter))\n",
    "print(next(myiter))\n",
    "print(next(myiter))\n",
    "print(next(myiter))\n",
    "print(next(myiter))"
   ]
  },
  {
   "cell_type": "code",
   "execution_count": 18,
   "id": "25b91989-ba2a-4b21-b64f-869f9dd686d9",
   "metadata": {},
   "outputs": [
    {
     "name": "stdout",
     "output_type": "stream",
     "text": [
      "1\n",
      "2\n",
      "3\n",
      "4\n",
      "5\n",
      "6\n",
      "7\n",
      "8\n",
      "9\n",
      "10\n",
      "11\n",
      "12\n",
      "13\n",
      "14\n",
      "15\n",
      "16\n",
      "17\n",
      "18\n",
      "19\n",
      "20\n"
     ]
    }
   ],
   "source": [
    "#Stopiteration\n",
    "class MyNumbers:\n",
    "    def __iter__(self):\n",
    "        self.a=1\n",
    "        return self\n",
    "\n",
    "    def __next__(self):\n",
    "        if self.a<=20:\n",
    "            x=self.a\n",
    "            self.a+=1\n",
    "            return x\n",
    "        else:\n",
    "            raise StopIteration\n",
    "            \n",
    "myclass=MyNumbers()\n",
    "myiter=iter(myclass)\n",
    "\n",
    "for x in myiter:\n",
    "    print(x)"
   ]
  },
  {
   "cell_type": "code",
   "execution_count": null,
   "id": "7f515524-981f-4f80-985f-fdd4d56dc2e3",
   "metadata": {},
   "outputs": [],
   "source": []
  }
 ],
 "metadata": {
  "kernelspec": {
   "display_name": "Python 3 (ipykernel)",
   "language": "python",
   "name": "python3"
  },
  "language_info": {
   "codemirror_mode": {
    "name": "ipython",
    "version": 3
   },
   "file_extension": ".py",
   "mimetype": "text/x-python",
   "name": "python",
   "nbconvert_exporter": "python",
   "pygments_lexer": "ipython3",
   "version": "3.11.7"
  }
 },
 "nbformat": 4,
 "nbformat_minor": 5
}
